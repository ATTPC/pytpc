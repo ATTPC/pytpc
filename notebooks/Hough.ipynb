{
 "cells": [
  {
   "cell_type": "code",
   "execution_count": null,
   "metadata": {
    "collapsed": true
   },
   "outputs": [],
   "source": [
    "%matplotlib inline"
   ]
  },
  {
   "cell_type": "code",
   "execution_count": null,
   "metadata": {
    "collapsed": true
   },
   "outputs": [],
   "source": [
    "import matplotlib.pyplot as plt\n",
    "import numpy as np\n",
    "import seaborn as sns\n",
    "import pandas as pd\n",
    "\n",
    "import sys\n",
    "sys.path.append('..')\n",
    "import pytpc\n",
    "from pytpc.constants import *\n",
    "from numpy import cos, sin\n",
    "from scipy.signal import argrelmax, find_peaks_cwt\n",
    "import skimage.transform as trans"
   ]
  },
  {
   "cell_type": "code",
   "execution_count": null,
   "metadata": {
    "collapsed": true
   },
   "outputs": [],
   "source": [
    "sns.set_style('white')"
   ]
  },
  {
   "cell_type": "code",
   "execution_count": null,
   "metadata": {
    "collapsed": false
   },
   "outputs": [],
   "source": [
    "tilt = 7*degrees\n",
    "clock = 6.25  # MHz\n",
    "emag = 15e3\n",
    "bmag = 0#0.5691\n",
    "ef = np.array([0, 0, emag])\n",
    "bfield_orig = np.array([0, 0, bmag])\n",
    "trans = np.array([[1, 0, 0],\n",
    "                  [0, cos(-tilt), -sin(-tilt)],\n",
    "                  [0, sin(-tilt), cos(-tilt)]])\n",
    "bf = np.dot(trans, bfield_orig)\n",
    "vd = pytpc.simulation.drift_velocity_vector(-2, emag, bmag, tilt)"
   ]
  },
  {
   "cell_type": "code",
   "execution_count": null,
   "metadata": {
    "collapsed": false
   },
   "outputs": [],
   "source": [
    "# proj = pytpc.Particle(4, 2, 1, position=(0, 0, 1.), azimuth=0, polar=pi+tilt)\n",
    "proj = pytpc.Particle(4, 2, 2, position=(0, 0, 1.), azimuth=270*degrees, polar=pi - tilt)\n",
    "target = pytpc.Particle(4, 2, 0)\n",
    "# heco = pytpc.gases.HeCO2Gas(150.)\n",
    "heco = pytpc.gases.InterpolatedGasMixture(200., ('helium', 0.9), ('carbon_dioxide', 0.1))\n",
    "\n",
    "simres = pytpc.simulation.simulate_elastic_scattering_track(proj, target, heco, ef, bf, 4, pi/2, -20*degrees)\n",
    "# simres = pytpc.simulation.track(proj, heco, ef, bf)\n",
    "simres.x *= 1000\n",
    "simres.y *= 1000\n",
    "simres.z *= 1000\n",
    "# simres['pos'][:, 2] = 1000 - simres['pos'][:, 2]"
   ]
  },
  {
   "cell_type": "code",
   "execution_count": null,
   "metadata": {
    "collapsed": false
   },
   "outputs": [],
   "source": [
    "evt = pytpc.evtdata.make_event(simres[['x', 'y', 'z']].values, simres.de.values, clock, 3, \n",
    "                               40.2, proj.mass_num, 334., 100)"
   ]
  },
  {
   "cell_type": "code",
   "execution_count": null,
   "metadata": {
    "collapsed": false,
    "scrolled": true
   },
   "outputs": [],
   "source": [
    "pytpc.chamber_plot(evt.xyzs(peaks_only=True));"
   ]
  },
  {
   "cell_type": "code",
   "execution_count": null,
   "metadata": {
    "collapsed": true
   },
   "outputs": [],
   "source": [
    "pr = pd.DataFrame(evt.xyzs(peaks_only=True)[:, 0:3], columns=('x', 'y', 'z'))"
   ]
  },
  {
   "cell_type": "code",
   "execution_count": null,
   "metadata": {
    "collapsed": false
   },
   "outputs": [],
   "source": [
    "plt.plot(evt.traces['data'][18])"
   ]
  },
  {
   "cell_type": "code",
   "execution_count": null,
   "metadata": {
    "collapsed": true
   },
   "outputs": [],
   "source": [
    "# pr.x -= pr.x.mean()\n",
    "# pr.y -= pr.y.mean()"
   ]
  },
  {
   "cell_type": "code",
   "execution_count": null,
   "metadata": {
    "collapsed": false
   },
   "outputs": [],
   "source": [
    "pytpc.pad_plot(evt.hits());"
   ]
  },
  {
   "cell_type": "code",
   "execution_count": null,
   "metadata": {
    "collapsed": false
   },
   "outputs": [],
   "source": [
    "plt.scatter(pr.x, pr.y)\n",
    "plt.gca().set_aspect('equal')"
   ]
  },
  {
   "cell_type": "code",
   "execution_count": null,
   "metadata": {
    "collapsed": false
   },
   "outputs": [],
   "source": [
    "plt.scatter(pr.y, pr.z)\n",
    "plt.gca().set_aspect('equal')"
   ]
  },
  {
   "cell_type": "code",
   "execution_count": null,
   "metadata": {
    "collapsed": false
   },
   "outputs": [],
   "source": [
    "plt.plot(simres.y, simres.z, '.')\n",
    "plt.gca().set_aspect('equal')"
   ]
  },
  {
   "cell_type": "code",
   "execution_count": null,
   "metadata": {
    "collapsed": false
   },
   "outputs": [],
   "source": [
    "plt.plot(simres.z, simres.de, '.')"
   ]
  },
  {
   "cell_type": "code",
   "execution_count": null,
   "metadata": {
    "collapsed": false
   },
   "outputs": [],
   "source": [
    "plt.plot(evt.traces['data'].sum(0))"
   ]
  },
  {
   "cell_type": "code",
   "execution_count": null,
   "metadata": {
    "collapsed": false
   },
   "outputs": [],
   "source": [
    "pr['a'] = pr.x / (pr.x**2 + pr.y**2)\n",
    "pr['b'] = pr.y / (pr.x**2 + pr.y**2)"
   ]
  },
  {
   "cell_type": "code",
   "execution_count": null,
   "metadata": {
    "collapsed": false
   },
   "outputs": [],
   "source": [
    "plt.scatter(pr.a, pr.b)\n",
    "plt.gca().set_aspect('equal')\n",
    "plt.xlim(-0.5, 0.5)\n",
    "plt.ylim(-0.5, 0.5)"
   ]
  },
  {
   "cell_type": "code",
   "execution_count": null,
   "metadata": {
    "collapsed": false
   },
   "outputs": [],
   "source": [
    "plt.axes(axisbg='k')\n",
    "angles = np.linspace(0, pi, 500)\n",
    "plt.plot(angles*180/pi, [pr.y * cos(th) + pr.z * sin(th) for th in angles], 'w-', linewidth=0.5, alpha=0.5);\n",
    "# plt.ylim(-0.1, 0.1)\n",
    "plt.xlim(0, 180)"
   ]
  },
  {
   "cell_type": "code",
   "execution_count": null,
   "metadata": {
    "collapsed": false
   },
   "outputs": [],
   "source": [
    "gridpts = []\n",
    "for th in range(180):\n",
    "    gridpts.append(np.vstack((np.full_like(pr.index, th), pr.y.values * cos(th*pi/180) + pr.z.values * sin(th*pi/180))).T)\n",
    "gridpts = np.concatenate(gridpts)"
   ]
  },
  {
   "cell_type": "code",
   "execution_count": null,
   "metadata": {
    "collapsed": false
   },
   "outputs": [],
   "source": [
    "hct, xedge, yedge, *junk = plt.hist2d(gridpts[:, 0], gridpts[:, 1], bins=(180, 600), cmap='Greys_r');\n",
    "plt.colorbar(junk[-1])\n",
    "# plt.ylim(-0.1, 0.1)"
   ]
  },
  {
   "cell_type": "code",
   "execution_count": null,
   "metadata": {
    "collapsed": false
   },
   "outputs": [],
   "source": [
    "plt.vlines(np.arange(len(hct.ravel())), 0, hct.ravel())"
   ]
  },
  {
   "cell_type": "code",
   "execution_count": null,
   "metadata": {
    "collapsed": false
   },
   "outputs": [],
   "source": [
    "inds, = argrelmax(hct.ravel(), order=5000)"
   ]
  },
  {
   "cell_type": "code",
   "execution_count": null,
   "metadata": {
    "collapsed": false
   },
   "outputs": [],
   "source": [
    "# inds = np.argpartition(hct.ravel(), -2)[-2:]\n",
    "xind, yind = np.unravel_index(inds, hct.shape)\n",
    "th_max, r_max = xedge[xind], yedge[yind]\n",
    "print(r_max, th_max)"
   ]
  },
  {
   "cell_type": "code",
   "execution_count": null,
   "metadata": {
    "collapsed": true
   },
   "outputs": [],
   "source": [
    "def invert(x, rho, th):\n",
    "    return (rho - x*cos(th)) / sin(th)"
   ]
  },
  {
   "cell_type": "code",
   "execution_count": null,
   "metadata": {
    "collapsed": true
   },
   "outputs": [],
   "source": [
    "def conf_inv(a, b):\n",
    "    return a/(a**2 + b**2), b/(a**2+b**2)"
   ]
  },
  {
   "cell_type": "code",
   "execution_count": null,
   "metadata": {
    "collapsed": false
   },
   "outputs": [],
   "source": [
    "curve = pd.DataFrame()\n",
    "xvals = np.linspace(pr.y.min(), pr.y.max())\n",
    "curve['a'] = xvals\n",
    "curve['b'] = [invert(x, r_max[0], th_max[0]*pi/180) for x in xvals]"
   ]
  },
  {
   "cell_type": "code",
   "execution_count": null,
   "metadata": {
    "collapsed": false
   },
   "outputs": [],
   "source": [
    "curve['x'], curve['y'] = conf_inv(curve.a, curve.b)"
   ]
  },
  {
   "cell_type": "code",
   "execution_count": null,
   "metadata": {
    "collapsed": false
   },
   "outputs": [],
   "source": [
    "plt.scatter(pr.a, pr.b)\n",
    "plt.plot(curve.a, curve.b, 'r')"
   ]
  },
  {
   "cell_type": "code",
   "execution_count": null,
   "metadata": {
    "collapsed": false
   },
   "outputs": [],
   "source": [
    "plt.scatter(pr.x, pr.y)\n",
    "plt.plot(curve.x, curve.y)\n",
    "# plt.xlim(pr.x.min(), pr.x.max())\n",
    "# plt.ylim(pr.y.min(), pr.y.max())"
   ]
  },
  {
   "cell_type": "code",
   "execution_count": null,
   "metadata": {
    "collapsed": false
   },
   "outputs": [],
   "source": [
    "counts, xedge, yedge, img = plt.hist2d(pr.x, pr.y, bins=(100, 100));"
   ]
  },
  {
   "cell_type": "code",
   "execution_count": null,
   "metadata": {
    "collapsed": false
   },
   "outputs": [],
   "source": [
    "plt.imshow(counts)"
   ]
  },
  {
   "cell_type": "code",
   "execution_count": null,
   "metadata": {
    "collapsed": false
   },
   "outputs": [],
   "source": [
    "hspace, angles, dists = trans.hough_circle(counts, 2)\n",
    "plt.imshow(hspace)\n",
    "hspace, angles, dists = trans.hough_line_peaks(hspace, angles, dists, threshold=0.4*hspace.max())\n",
    "# print(len(angles), 'peaks found')"
   ]
  },
  {
   "cell_type": "code",
   "execution_count": null,
   "metadata": {
    "collapsed": false
   },
   "outputs": [],
   "source": [
    "plt.imshow(counts)\n",
    "xs = np.linspace(0, 100, 100)\n",
    "plt.plot(xs, [invert(x, dists, angles) for x in xs])\n",
    "# plt.scatter(pr.y, pr.z)\n",
    "plt.xlim(0, counts.shape[0])\n",
    "plt.ylim(0, counts.shape[1])"
   ]
  },
  {
   "cell_type": "markdown",
   "metadata": {},
   "source": [
    "# Experimental Data"
   ]
  },
  {
   "cell_type": "code",
   "execution_count": null,
   "metadata": {
    "collapsed": false
   },
   "outputs": [],
   "source": [
    "ef = pytpc.EventFile('/Users/josh/Documents/Data/Alphas-Dec14/run_0213_ps.evt')"
   ]
  },
  {
   "cell_type": "code",
   "execution_count": null,
   "metadata": {
    "collapsed": true
   },
   "outputs": [],
   "source": [
    "evt = ef[102]"
   ]
  },
  {
   "cell_type": "code",
   "execution_count": null,
   "metadata": {
    "collapsed": false
   },
   "outputs": [],
   "source": [
    "pytpc.chamber_plot(evt.xyzs());"
   ]
  },
  {
   "cell_type": "code",
   "execution_count": null,
   "metadata": {
    "collapsed": false
   },
   "outputs": [],
   "source": [
    "xyzs = evt.xyzs(vd, clock, peaks_only=False)\n",
    "pts = pd.DataFrame(xyzs[:, 0:3], columns=('x', 'y', 'z'))"
   ]
  },
  {
   "cell_type": "code",
   "execution_count": null,
   "metadata": {
    "collapsed": false
   },
   "outputs": [],
   "source": [
    "cts, *junk = plt.hist2d(pts.z, pts.y, bins=(200, 200));"
   ]
  },
  {
   "cell_type": "code",
   "execution_count": null,
   "metadata": {
    "collapsed": false
   },
   "outputs": [],
   "source": [
    "hspace, angles, dists = trans.hough_line(cts)\n",
    "# plt.imshow(hspace)\n",
    "hspace, angles, dists = trans.hough_line_peaks(hspace, angles, dists,\n",
    "                                               min_distance=10, min_angle=2)\n",
    "print(len(angles), 'lines found')\n",
    "plt.imshow(cts)\n",
    "xs = np.linspace(0, cts.shape[0], 100)\n",
    "plt.plot(xs, [invert(x, dists, angles) for x in xs])\n",
    "# plt.scatter(pr.y, pr.z)\n",
    "plt.xlim(0, cts.shape[0])\n",
    "plt.ylim(0, cts.shape[1])"
   ]
  },
  {
   "cell_type": "code",
   "execution_count": null,
   "metadata": {
    "collapsed": true
   },
   "outputs": [],
   "source": []
  }
 ],
 "metadata": {
  "kernelspec": {
   "display_name": "Python 3",
   "language": "python",
   "name": "python3"
  },
  "language_info": {
   "codemirror_mode": {
    "name": "ipython",
    "version": 3
   },
   "file_extension": ".py",
   "mimetype": "text/x-python",
   "name": "python",
   "nbconvert_exporter": "python",
   "pygments_lexer": "ipython3",
   "version": "3.4.2"
  }
 },
 "nbformat": 4,
 "nbformat_minor": 0
}
