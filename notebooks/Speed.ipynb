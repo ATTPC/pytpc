{
 "cells": [
  {
   "cell_type": "code",
   "execution_count": null,
   "metadata": {
    "collapsed": true
   },
   "outputs": [],
   "source": [
    "import sys\n",
    "sys.path.append('..')"
   ]
  },
  {
   "cell_type": "code",
   "execution_count": null,
   "metadata": {
    "collapsed": true
   },
   "outputs": [],
   "source": [
    "import pytpc\n",
    "from pytpc.constants import *"
   ]
  },
  {
   "cell_type": "code",
   "execution_count": null,
   "metadata": {
    "collapsed": true
   },
   "outputs": [],
   "source": [
    "import random\n",
    "import numpy as np\n",
    "import pandas as pd\n",
    "import math\n",
    "import copy"
   ]
  },
  {
   "cell_type": "code",
   "execution_count": null,
   "metadata": {
    "collapsed": false
   },
   "outputs": [],
   "source": [
    "tilt = 7*degrees\n",
    "clock = 6.25\n",
    "shape = 332\n",
    "vd_mag = -2.8\n",
    "\n",
    "emag = 15e3\n",
    "bmag = 0.5\n",
    "ef, bf = pytpc.utilities.create_fields(emag, bmag, tilt)\n",
    "\n",
    "vd = pytpc.simulation.drift_velocity_vector(vd_mag, emag, bmag, tilt)\n",
    "\n",
    "pads = pytpc.generate_pad_plane()"
   ]
  },
  {
   "cell_type": "code",
   "execution_count": null,
   "metadata": {
    "collapsed": true
   },
   "outputs": [],
   "source": [
    "pt = pytpc.Particle(4, 2, 2, [0, 0, 1.], polar=pi-tilt, azimuth=3*pi/2)\n",
    "gas = pytpc.gases.InterpolatedGasMixture(150., ('helium', 0.9), ('carbon_dioxide', 0.1))"
   ]
  },
  {
   "cell_type": "code",
   "execution_count": null,
   "metadata": {
    "collapsed": true
   },
   "outputs": [],
   "source": [
    "%load_ext line_profiler"
   ]
  },
  {
   "cell_type": "code",
   "execution_count": null,
   "metadata": {
    "collapsed": false
   },
   "outputs": [],
   "source": [
    "%%timeit\n",
    "pt = pytpc.Particle(4., 2, 2, [0, 0, 1.], polar=pi-tilt, azimuth=3*pi/2)\n",
    "simres = pytpc.track(pt, gas, ef, bf)"
   ]
  },
  {
   "cell_type": "code",
   "execution_count": null,
   "metadata": {
    "collapsed": false
   },
   "outputs": [],
   "source": [
    "%%prun\n",
    "pt = pytpc.Particle(4., 2, 2, [0, 0, 1.], polar=pi-tilt, azimuth=3*pi/2)\n",
    "simres = pytpc.track(pt, gas, ef, bf)"
   ]
  },
  {
   "cell_type": "code",
   "execution_count": null,
   "metadata": {
    "collapsed": true
   },
   "outputs": [],
   "source": [
    "%lprun -m pytpc.gases -m pytpc.simulation pytpc.track(pt, gas, ef, bf)"
   ]
  },
  {
   "cell_type": "code",
   "execution_count": null,
   "metadata": {
    "collapsed": false
   },
   "outputs": [],
   "source": [
    "%timeit pt.momentum"
   ]
  },
  {
   "cell_type": "code",
   "execution_count": null,
   "metadata": {
    "collapsed": false
   },
   "outputs": [],
   "source": [
    "from sys import getsizeof"
   ]
  },
  {
   "cell_type": "code",
   "execution_count": null,
   "metadata": {
    "collapsed": false
   },
   "outputs": [],
   "source": [
    "sys.getsizeof([1] * 100000)"
   ]
  },
  {
   "cell_type": "code",
   "execution_count": null,
   "metadata": {
    "collapsed": false
   },
   "outputs": [],
   "source": [
    "100/0.001"
   ]
  },
  {
   "cell_type": "code",
   "execution_count": null,
   "metadata": {
    "collapsed": true
   },
   "outputs": [],
   "source": [
    "a = np.arange(100001)"
   ]
  },
  {
   "cell_type": "code",
   "execution_count": null,
   "metadata": {
    "collapsed": false
   },
   "outputs": [],
   "source": [
    "pce = gas.energy_loss(a / 1000, 4, 2)"
   ]
  },
  {
   "cell_type": "code",
   "execution_count": null,
   "metadata": {
    "collapsed": false
   },
   "outputs": [],
   "source": [
    "pce"
   ]
  },
  {
   "cell_type": "code",
   "execution_count": null,
   "metadata": {
    "collapsed": true
   },
   "outputs": [],
   "source": [
    "pced = dict(zip(a, pce))"
   ]
  },
  {
   "cell_type": "code",
   "execution_count": null,
   "metadata": {
    "collapsed": false
   },
   "outputs": [],
   "source": [
    "%%timeit\n",
    "for x in range(100):\n",
    "    pce[x]"
   ]
  },
  {
   "cell_type": "code",
   "execution_count": null,
   "metadata": {
    "collapsed": false
   },
   "outputs": [],
   "source": [
    "%%timeit\n",
    "for x in range(100):\n",
    "    pced[x]"
   ]
  },
  {
   "cell_type": "code",
   "execution_count": null,
   "metadata": {
    "collapsed": false
   },
   "outputs": [],
   "source": [
    "int(np.array([4.15, 3.14]) * 1000)"
   ]
  },
  {
   "cell_type": "code",
   "execution_count": null,
   "metadata": {
    "collapsed": false
   },
   "outputs": [],
   "source": [
    "class pyobj(object):\n",
    "    def __init__(self, param):\n",
    "        self._param = param\n",
    "        \n",
    "    @property\n",
    "    def param2(self):\n",
    "        return self._param**2\n",
    "    \n",
    "    @param2.setter\n",
    "    def param2(self, newval):\n",
    "        self._param = newval**0.5\n",
    "        \n",
    "def pyfunc(n):\n",
    "    p = pyobj(0)\n",
    "    for i in range(n):\n",
    "        p.param2 = i"
   ]
  },
  {
   "cell_type": "code",
   "execution_count": null,
   "metadata": {
    "collapsed": false
   },
   "outputs": [],
   "source": [
    "%%cython -a\n",
    "cdef class cyobj:\n",
    "    \n",
    "    cdef int _param\n",
    "    \n",
    "    def __init__(self, int param):\n",
    "        self._param = param\n",
    "        \n",
    "    property param2:\n",
    "        def __get__(self):\n",
    "            return self._param**2\n",
    "    \n",
    "        def __set__(self, int newval):\n",
    "            self._param = newval**2\n",
    "            \n",
    "def cyfunc(int n):\n",
    "    cdef cyobj c\n",
    "    c = cyobj(0)\n",
    "    cdef int i\n",
    "    for i in range(n):\n",
    "        c.param2 = i"
   ]
  },
  {
   "cell_type": "code",
   "execution_count": null,
   "metadata": {
    "collapsed": false
   },
   "outputs": [],
   "source": [
    "%%timeit \n",
    "pyfunc(10000)"
   ]
  },
  {
   "cell_type": "code",
   "execution_count": null,
   "metadata": {
    "collapsed": false
   },
   "outputs": [],
   "source": [
    "%%timeit \n",
    "c = cyfunc(10000)"
   ]
  },
  {
   "cell_type": "code",
   "execution_count": null,
   "metadata": {
    "collapsed": true
   },
   "outputs": [],
   "source": [
    "c = cyobj(4)"
   ]
  }
 ],
 "metadata": {
  "kernelspec": {
   "display_name": "Python 3",
   "language": "python",
   "name": "python3"
  },
  "language_info": {
   "codemirror_mode": {
    "name": "ipython",
    "version": 3
   },
   "file_extension": ".py",
   "mimetype": "text/x-python",
   "name": "python",
   "nbconvert_exporter": "python",
   "pygments_lexer": "ipython3",
   "version": "3.4.3"
  }
 },
 "nbformat": 4,
 "nbformat_minor": 0
}
