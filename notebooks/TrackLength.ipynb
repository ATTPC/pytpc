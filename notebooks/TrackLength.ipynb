{
 "metadata": {
  "name": "",
  "signature": ""
 },
 "nbformat": 3,
 "nbformat_minor": 0,
 "worksheets": [
  {
   "cells": [
    {
     "cell_type": "code",
     "collapsed": false,
     "input": [
      "%matplotlib inline\n",
      "import sys\n",
      "sys.path.append('..')\n",
      "import pytpc\n",
      "import numpy as np\n",
      "import matplotlib.pyplot as plt\n",
      "from pytpc.constants import *\n",
      "import seaborn as sns"
     ],
     "language": "python",
     "metadata": {},
     "outputs": []
    },
    {
     "cell_type": "code",
     "collapsed": false,
     "input": [
      "pos, *junk = pytpc.track(pytpc.Particle(4, 2, 0.5, polar=pi/4, azimuth=0),\n",
      "                         pytpc.gases.HeliumGas(100.),\n",
      "                         np.array([0, 0, 15e3]),\n",
      "                         np.array([0, 0, -1]))\n",
      "pos = np.array(pos)"
     ],
     "language": "python",
     "metadata": {},
     "outputs": []
    },
    {
     "cell_type": "code",
     "collapsed": false,
     "input": [
      "plt.plot(pos[:,0], pos[:,1])"
     ],
     "language": "python",
     "metadata": {},
     "outputs": []
    },
    {
     "cell_type": "code",
     "collapsed": false,
     "input": [
      "meas = pos + np.random.normal(0, 1e-2, size=pos.shape)\n",
      "meas[:, 2] = pos[:, 2]"
     ],
     "language": "python",
     "metadata": {},
     "outputs": []
    },
    {
     "cell_type": "code",
     "collapsed": false,
     "input": [
      "plt.scatter(meas[:, 0], meas[:, 1], marker='+', c='r')\n",
      "plt.plot(pos[:, 0], pos[:, 1])"
     ],
     "language": "python",
     "metadata": {},
     "outputs": []
    },
    {
     "cell_type": "code",
     "collapsed": false,
     "input": [
      "def arclen(a, npts):\n",
      "    a = np.asanyarray(a)\n",
      "    n = np.size(a, 0)\n",
      "    idxs = np.linspace(0, n-1, npts, dtype='int')\n",
      "    pts = a[idxs]\n",
      "    diffs = np.diff(pts, axis=0)\n",
      "    mags = np.linalg.norm(diffs, axis=-1)\n",
      "    return mags.sum()\n",
      "        "
     ],
     "language": "python",
     "metadata": {},
     "outputs": []
    },
    {
     "cell_type": "code",
     "collapsed": false,
     "input": [
      "alm = np.array([arclen(meas, n) for n in range(1,meas.shape[0])])\n",
      "alp = np.array([arclen(pos, n) for n in range(1, pos.shape[0])])"
     ],
     "language": "python",
     "metadata": {},
     "outputs": []
    },
    {
     "cell_type": "code",
     "collapsed": false,
     "input": [
      "plt.plot(alm)\n",
      "plt.plot(alp)\n",
      "plt.xlim(0, 40)\n",
      "plt.ylim(0, 1)"
     ],
     "language": "python",
     "metadata": {},
     "outputs": []
    },
    {
     "cell_type": "code",
     "collapsed": false,
     "input": [
      "plt.plot(alm-alp[-1])\n",
      "plt.xlim(0, 20)\n",
      "plt.ylim(-0.1, 0.1)"
     ],
     "language": "python",
     "metadata": {},
     "outputs": []
    },
    {
     "cell_type": "code",
     "collapsed": false,
     "input": [
      "d = np.linalg.norm(np.diff(pos, axis=0), axis=-1)"
     ],
     "language": "python",
     "metadata": {},
     "outputs": []
    },
    {
     "cell_type": "code",
     "collapsed": false,
     "input": [
      "arclen(meas, 5) - arclen(pos, pos.shape[0])"
     ],
     "language": "python",
     "metadata": {},
     "outputs": []
    },
    {
     "cell_type": "code",
     "collapsed": false,
     "input": [
      "arclen(meas, 4) / meas.shape[0]"
     ],
     "language": "python",
     "metadata": {},
     "outputs": []
    },
    {
     "cell_type": "code",
     "collapsed": false,
     "input": [
      "curpal = sns.color_palette()"
     ],
     "language": "python",
     "metadata": {},
     "outputs": []
    },
    {
     "cell_type": "code",
     "collapsed": false,
     "input": [
      "sns.palplot(curpal)"
     ],
     "language": "python",
     "metadata": {},
     "outputs": []
    },
    {
     "cell_type": "code",
     "collapsed": false,
     "input": [
      "sns.choose_colorbrewer_palette('qualitative')"
     ],
     "language": "python",
     "metadata": {},
     "outputs": []
    },
    {
     "cell_type": "code",
     "collapsed": false,
     "input": [
      "sns.color_palette(name='Set1', desat=0.7)"
     ],
     "language": "python",
     "metadata": {},
     "outputs": []
    },
    {
     "cell_type": "code",
     "collapsed": false,
     "input": [],
     "language": "python",
     "metadata": {},
     "outputs": []
    }
   ],
   "metadata": {}
  }
 ]
}