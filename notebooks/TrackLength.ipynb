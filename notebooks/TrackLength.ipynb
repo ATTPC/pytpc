{
 "cells": [
  {
   "cell_type": "code",
   "execution_count": null,
   "metadata": {
    "collapsed": true
   },
   "outputs": [],
   "source": [
    "%matplotlib inline"
   ]
  },
  {
   "cell_type": "code",
   "execution_count": null,
   "metadata": {
    "collapsed": true
   },
   "outputs": [],
   "source": [
    "import sys\n",
    "sys.path.append('..')"
   ]
  },
  {
   "cell_type": "code",
   "execution_count": null,
   "metadata": {
    "collapsed": false
   },
   "outputs": [],
   "source": [
    "import pytpc\n",
    "import numpy as np\n",
    "import matplotlib.pyplot as plt\n",
    "from pytpc.constants import *\n",
    "import seaborn as sns\n",
    "import pandas as pd\n",
    "from math import sqrt"
   ]
  },
  {
   "cell_type": "code",
   "execution_count": null,
   "metadata": {
    "collapsed": true
   },
   "outputs": [],
   "source": [
    "from scipy.interpolate import UnivariateSpline, LSQBivariateSpline\n",
    "from scipy.integrate import quad"
   ]
  },
  {
   "cell_type": "code",
   "execution_count": null,
   "metadata": {
    "collapsed": true
   },
   "outputs": [],
   "source": [
    "sns.set_context('notebook', rc={'lines.markeredgewidth': 0.1})"
   ]
  },
  {
   "cell_type": "code",
   "execution_count": null,
   "metadata": {
    "collapsed": false
   },
   "outputs": [],
   "source": [
    "gas = pytpc.gases.InterpolatedGasMixture(150., ('helium', 0.9), ('carbon_dioxide', 0.1))\n",
    "ef, bf = pytpc.utilities.create_fields(15e3, 0.5, 0)\n",
    "pt = pytpc.Particle(4, 2, 1.3, position=(0, 0, 1.0), polar=pi - pi/4, azimuth=pi/4)\n",
    "simres = pytpc.track(pt, gas, ef, bf)"
   ]
  },
  {
   "cell_type": "code",
   "execution_count": null,
   "metadata": {
    "collapsed": false
   },
   "outputs": [],
   "source": [
    "plt.plot(simres.x, simres.y)"
   ]
  },
  {
   "cell_type": "code",
   "execution_count": null,
   "metadata": {
    "collapsed": true
   },
   "outputs": [],
   "source": [
    "vd = pytpc.simulation.drift_velocity_vector(-3, 15e3, 0.5, 0)"
   ]
  },
  {
   "cell_type": "code",
   "execution_count": null,
   "metadata": {
    "collapsed": false
   },
   "outputs": [],
   "source": [
    "np.isscalar(vd)"
   ]
  },
  {
   "cell_type": "code",
   "execution_count": null,
   "metadata": {
    "collapsed": false
   },
   "outputs": [],
   "source": [
    "evt = pytpc.evtdata.make_event(simres[['x', 'y', 'z']].values*1e3, simres.de.values, 6.25, vd, 40., 4, 332, 100)"
   ]
  },
  {
   "cell_type": "code",
   "execution_count": null,
   "metadata": {
    "collapsed": false
   },
   "outputs": [],
   "source": [
    "plt.plot(evt.traces['data'].sum(0))"
   ]
  },
  {
   "cell_type": "code",
   "execution_count": null,
   "metadata": {
    "collapsed": false
   },
   "outputs": [],
   "source": [
    "meas = evt.xyzs(vd, 6.25, peaks_only=True)[:, :3]*1e-3\n",
    "meas[:, 2] -= meas[:, 2].max() - 1.0"
   ]
  },
  {
   "cell_type": "code",
   "execution_count": null,
   "metadata": {
    "collapsed": false
   },
   "outputs": [],
   "source": [
    "plt.scatter(meas[:, 0], meas[:, 1], marker='o', c='goldenrod', edgecolor='none', s=10)\n",
    "plt.plot(simres.x, simres.y)"
   ]
  },
  {
   "cell_type": "code",
   "execution_count": null,
   "metadata": {
    "collapsed": false
   },
   "outputs": [],
   "source": [
    "plt.plot(simres.z, simres.x)\n",
    "plt.plot(simres.z, simres.y)\n",
    "plt.plot(meas[:, 2], meas[:, 0], '.')\n",
    "plt.plot(meas[:, 2], meas[:, 1], '.')"
   ]
  },
  {
   "cell_type": "code",
   "execution_count": null,
   "metadata": {
    "collapsed": false
   },
   "outputs": [],
   "source": [
    "%%timeit\n",
    "sply = UnivariateSpline(meas[:, 2], meas[:, 1])\n",
    "splx = UnivariateSpline(meas[:, 2], meas[:, 0])\n",
    "dsply = sply.derivative()\n",
    "dsplx = splx.derivative()"
   ]
  },
  {
   "cell_type": "code",
   "execution_count": null,
   "metadata": {
    "collapsed": false
   },
   "outputs": [],
   "source": [
    "%timeit [splx(z) for z in xs]\n",
    "%timeit splx(xs)\n",
    "%timeit list(map(splx, xs))"
   ]
  },
  {
   "cell_type": "code",
   "execution_count": null,
   "metadata": {
    "collapsed": false
   },
   "outputs": [],
   "source": [
    "xs = np.linspace(simres.z.min(), simres.z.max(), 100)\n",
    "plt.plot(xs, splx(xs))\n",
    "plt.plot(meas[:, 2], meas[:, 0], '.')\n",
    "plt.plot(xs, sply(xs))\n",
    "plt.plot(meas[:, 2], meas[:, 1], '.')\n",
    "plt.plot(simres.z, simres.x, '--')\n",
    "plt.plot(simres.z, simres.y, '--')"
   ]
  },
  {
   "cell_type": "code",
   "execution_count": null,
   "metadata": {
    "collapsed": false
   },
   "outputs": [],
   "source": [
    "fx = lambda z: sqrt(dsplx(z)**2 + dsply(z)**2 + 1)\n",
    "%timeit quad(fx, 0.8, 0.801)"
   ]
  },
  {
   "cell_type": "code",
   "execution_count": null,
   "metadata": {
    "collapsed": false
   },
   "outputs": [],
   "source": [
    "print(quad(fx, 0.8, 0.81))\n",
    "print(gx(0.8, 0.81))"
   ]
  },
  {
   "cell_type": "code",
   "execution_count": null,
   "metadata": {
    "collapsed": true
   },
   "outputs": [],
   "source": [
    "gx = lambda z1, z2: sqrt((splx(z2) - splx(z1))**2 + (sply(z2) - sply(z1))**2 + (z2-z1)**2)"
   ]
  },
  {
   "cell_type": "code",
   "execution_count": null,
   "metadata": {
    "collapsed": true
   },
   "outputs": [],
   "source": [
    "hx = lambda z1, z2: gx(z1, z2) - quad(fx, z1, z2)[0]"
   ]
  },
  {
   "cell_type": "code",
   "execution_count": null,
   "metadata": {
    "collapsed": false
   },
   "outputs": [],
   "source": [
    "hx(0.8, 0.9)"
   ]
  },
  {
   "cell_type": "code",
   "execution_count": null,
   "metadata": {
    "collapsed": false
   },
   "outputs": [],
   "source": [
    "np.sqrt(np.sum(np.diff(simres[['x', 'y', 'z']], axis=0)**2, axis=1)).sum()"
   ]
  },
  {
   "cell_type": "code",
   "execution_count": null,
   "metadata": {
    "collapsed": false
   },
   "outputs": [],
   "source": [
    "def arclen(a, npts):\n",
    "    a = np.asanyarray(a)\n",
    "    n = np.size(a, 0)\n",
    "    idxs = np.linspace(0, n-1, npts, dtype='int')\n",
    "    pts = a[idxs]\n",
    "    diffs = np.diff(pts, axis=0)\n",
    "    mags = np.linalg.norm(diffs, axis=-1)\n",
    "    return mags.sum()\n",
    "        "
   ]
  },
  {
   "cell_type": "code",
   "execution_count": null,
   "metadata": {
    "collapsed": false
   },
   "outputs": [],
   "source": [
    "alm = np.array([arclen(meas, n) for n in range(1,meas.shape[0])])\n",
    "alp = np.array([arclen(pos, n) for n in range(1, pos.shape[0])])"
   ]
  },
  {
   "cell_type": "code",
   "execution_count": null,
   "metadata": {
    "collapsed": false
   },
   "outputs": [],
   "source": [
    "plt.plot(alm)\n",
    "plt.plot(alp)\n",
    "plt.xlim(0, 40)\n",
    "plt.ylim(0, 1)"
   ]
  },
  {
   "cell_type": "code",
   "execution_count": null,
   "metadata": {
    "collapsed": false
   },
   "outputs": [],
   "source": [
    "plt.plot(alm-alp[-1])\n",
    "plt.xlim(0, 20)\n",
    "plt.ylim(-0.1, 0.1)"
   ]
  },
  {
   "cell_type": "code",
   "execution_count": null,
   "metadata": {
    "collapsed": false
   },
   "outputs": [],
   "source": [
    "d = np.linalg.norm(np.diff(pos, axis=0), axis=-1)"
   ]
  },
  {
   "cell_type": "code",
   "execution_count": null,
   "metadata": {
    "collapsed": false
   },
   "outputs": [],
   "source": [
    "arclen(meas, 5) - arclen(pos, pos.shape[0])"
   ]
  },
  {
   "cell_type": "code",
   "execution_count": null,
   "metadata": {
    "collapsed": false
   },
   "outputs": [],
   "source": [
    "arclen(meas, 4) / meas.shape[0]"
   ]
  }
 ],
 "metadata": {
  "kernelspec": {
   "display_name": "Python 3",
   "language": "python",
   "name": "python3"
  },
  "language_info": {
   "codemirror_mode": {
    "name": "ipython",
    "version": 3
   },
   "file_extension": ".py",
   "mimetype": "text/x-python",
   "name": "python",
   "nbconvert_exporter": "python",
   "pygments_lexer": "ipython3",
   "version": "3.4.2"
  }
 },
 "nbformat": 4,
 "nbformat_minor": 0
}
