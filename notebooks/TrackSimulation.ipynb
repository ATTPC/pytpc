{
 "cells": [
  {
   "cell_type": "code",
   "execution_count": null,
   "metadata": {
    "collapsed": false
   },
   "outputs": [],
   "source": [
    "%matplotlib inline\n",
    "\n",
    "import matplotlib.pyplot as plt\n",
    "import numpy as np\n",
    "import seaborn as sns\n",
    "\n",
    "import sys\n",
    "sys.path.append('..')\n",
    "import pytpc\n",
    "from pytpc.constants import *\n",
    "from scipy.ndimage.filters import gaussian_filter\n",
    "from math import sin, cos"
   ]
  },
  {
   "cell_type": "code",
   "execution_count": null,
   "metadata": {
    "collapsed": false
   },
   "outputs": [],
   "source": [
    "def make_event(pos, en, clock, vd, ioniz, proj_mass, offset, shapetime):\n",
    "    \n",
    "    # Find energy deposition for each point\n",
    "    de = np.abs(np.diff(en))\n",
    "    ne = np.round(de*1e6*proj_mass / ioniz)  # last factor after mass is gain\n",
    "    ne = np.insert(ne, 0, 0)  # indexed by simulated point number\n",
    "    \n",
    "    # Uncalibrate the position data\n",
    "    uncal = pytpc.evtdata.uncalibrate(pos, vd, clock)\n",
    "    tbs = uncal[:, -1]\n",
    "    \n",
    "    # Find the pad for each point\n",
    "    pca = np.round(np.array([pytpc.simulation.find_pad_coords(p[0], p[1]) for p in uncal[:, 0:2]]))\n",
    "    pnums = np.array([pdict[tuple(a)] for a in pca])\n",
    "    unique_pads = np.unique(pnums)\n",
    "    \n",
    "    shapetime_tb = shapetime*1e-9 * clock*1e6\n",
    "    \n",
    "    # Build the event\n",
    "    evt = pytpc.Event()\n",
    "    evt.traces = np.zeros(unique_pads.shape, dtype=evt.dt)\n",
    "    for i, p in enumerate(unique_pads):\n",
    "        idxs = np.where(pnums == p)\n",
    "        tr = np.zeros(512)\n",
    "        for t, v in zip(tbs[idxs], ne[idxs]):\n",
    "            tr[t] += v\n",
    "        evt.traces[i]['pad'] = p\n",
    "        evt.traces[i]['data'][:] = gaussian_filter(tr, shapetime_tb, mode='constant')\n",
    "    return evt"
   ]
  },
  {
   "cell_type": "code",
   "execution_count": null,
   "metadata": {
    "collapsed": false
   },
   "outputs": [],
   "source": [
    "pads = pytpc.generate_pad_plane()\n",
    "keys = tuple(map(tuple, np.round(pads.mean(1)).tolist()))\n",
    "pdict = {k:i for i, k in enumerate(keys)}"
   ]
  },
  {
   "cell_type": "code",
   "execution_count": null,
   "metadata": {
    "collapsed": false
   },
   "outputs": [],
   "source": [
    "tilt = 7*degrees\n",
    "clock = 12.5  # MHz\n",
    "emag = 15e3\n",
    "bmag = 0.5691\n",
    "ef = np.array([0, 0, emag])\n",
    "bfield_orig = np.array([0, 0, bmag])\n",
    "trans = np.array([[1, 0, 0],\n",
    "                  [0, cos(-tilt), -sin(-tilt)],\n",
    "                  [0, sin(-tilt), cos(-tilt)]])\n",
    "bf = np.dot(trans, bfield_orig)\n",
    "vd = pytpc.simulation.drift_velocity_vector(-3.32, emag, bmag, tilt)"
   ]
  },
  {
   "cell_type": "code",
   "execution_count": null,
   "metadata": {
    "collapsed": true
   },
   "outputs": [],
   "source": [
    "pt = pytpc.Particle(4, 2, .8, azimuth=pi/4, polar=pi/20)"
   ]
  },
  {
   "cell_type": "code",
   "execution_count": null,
   "metadata": {
    "collapsed": true
   },
   "outputs": [],
   "source": [
    "he = pytpc.gases.HeliumGas(150.)"
   ]
  },
  {
   "cell_type": "code",
   "execution_count": null,
   "metadata": {
    "collapsed": false
   },
   "outputs": [],
   "source": [
    "simres = pytpc.track(pt, he, ef, bf)\n",
    "simres['pos'] *= 1000"
   ]
  },
  {
   "cell_type": "code",
   "execution_count": null,
   "metadata": {
    "collapsed": false
   },
   "outputs": [],
   "source": [
    "evt = make_event(simres['pos'], simres['en'], 12.5, vd, 40.2, 4., 100, 332.)"
   ]
  },
  {
   "cell_type": "code",
   "execution_count": null,
   "metadata": {
    "collapsed": false
   },
   "outputs": [],
   "source": [
    "pytpc.pad_plot(evt.hits());"
   ]
  },
  {
   "cell_type": "code",
   "execution_count": null,
   "metadata": {
    "collapsed": false
   },
   "outputs": [],
   "source": [
    "plt.plot(evt.traces['data'].sum(0))"
   ]
  },
  {
   "cell_type": "code",
   "execution_count": null,
   "metadata": {
    "collapsed": false
   },
   "outputs": [],
   "source": [
    "for x in evt.traces['data']:\n",
    "    plt.plot(x)"
   ]
  },
  {
   "cell_type": "code",
   "execution_count": null,
   "metadata": {
    "collapsed": false
   },
   "outputs": [],
   "source": [
    "pytpc.chamber_plot(evt.xyzs(vd, clock), zscale='dist');"
   ]
  },
  {
   "cell_type": "code",
   "execution_count": null,
   "metadata": {
    "collapsed": true
   },
   "outputs": [],
   "source": []
  }
 ],
 "metadata": {
  "kernelspec": {
   "display_name": "Python 3",
   "language": "python",
   "name": "python3"
  },
  "language_info": {
   "codemirror_mode": {
    "name": "ipython",
    "version": 3
   },
   "file_extension": ".py",
   "mimetype": "text/x-python",
   "name": "python",
   "nbconvert_exporter": "python",
   "pygments_lexer": "ipython3",
   "version": "3.4.2"
  }
 },
 "nbformat": 4,
 "nbformat_minor": 0
}
