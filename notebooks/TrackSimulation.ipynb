{
 "cells": [
  {
   "cell_type": "markdown",
   "metadata": {},
   "source": [
    "# Testing with Simulated Tracks"
   ]
  },
  {
   "cell_type": "code",
   "execution_count": null,
   "metadata": {
    "collapsed": true
   },
   "outputs": [],
   "source": [
    "%matplotlib inline"
   ]
  },
  {
   "cell_type": "code",
   "execution_count": null,
   "metadata": {
    "collapsed": false
   },
   "outputs": [],
   "source": [
    "import matplotlib.pyplot as plt\n",
    "import numpy as np\n",
    "import seaborn as sns\n",
    "\n",
    "import sys\n",
    "sys.path.append('..')\n",
    "import pytpc\n",
    "from pytpc.constants import *\n",
    "from math import sin, cos\n",
    "import scipy.signal\n",
    "from matplotlib import gridspec"
   ]
  },
  {
   "cell_type": "code",
   "execution_count": null,
   "metadata": {
    "collapsed": true
   },
   "outputs": [],
   "source": [
    "from scipy.interpolate import UnivariateSpline"
   ]
  },
  {
   "cell_type": "code",
   "execution_count": null,
   "metadata": {
    "collapsed": false
   },
   "outputs": [],
   "source": [
    "sns.set_style('darkgrid')"
   ]
  },
  {
   "cell_type": "code",
   "execution_count": null,
   "metadata": {
    "collapsed": false
   },
   "outputs": [],
   "source": [
    "tilt = 7*degrees\n",
    "clock = 6.25  # MHz\n",
    "emag = 15e3\n",
    "bmag = 0#0.5691\n",
    "ef = np.array([0, 0, emag])\n",
    "bfield_orig = np.array([0, 0, bmag])\n",
    "trans = np.array([[1, 0, 0],\n",
    "                  [0, cos(-tilt), -sin(-tilt)],\n",
    "                  [0, sin(-tilt), cos(-tilt)]])\n",
    "bf = np.dot(trans, bfield_orig)\n",
    "vd = pytpc.simulation.drift_velocity_vector(-2, emag, bmag, tilt); vd"
   ]
  },
  {
   "cell_type": "code",
   "execution_count": null,
   "metadata": {
    "collapsed": false
   },
   "outputs": [],
   "source": [
    "eumat = pytpc.utilities.euler_matrix(pi/2, pi/4, -pi/2); np.around(eumat, decimals=4)"
   ]
  },
  {
   "cell_type": "code",
   "execution_count": null,
   "metadata": {
    "collapsed": false
   },
   "outputs": [],
   "source": [
    "np.linalg.det(eumat)"
   ]
  },
  {
   "cell_type": "code",
   "execution_count": null,
   "metadata": {
    "collapsed": false
   },
   "outputs": [],
   "source": [
    "# proj = pytpc.Particle(4, 2, 1, position=(0, 0, 1.), azimuth=0, polar=pi+tilt)\n",
    "proj = pytpc.Particle(4, 2, 1.5, position=(0, 0, 0.7), azimuth=90*degrees, polar=90*degrees)\n",
    "target = pytpc.Particle(4, 2, 0)\n",
    "# heco = pytpc.gases.HeCO2Gas(150.)\n",
    "heco = pytpc.gases.InterpolatedGasMixture(200., ('helium', 0.9), ('carbon_dioxide', 0.1))\n",
    "\n",
    "simres = pytpc.simulation.simulate_elastic_scattering_track(proj, target, heco, ef, bf, 5.7, 100*degrees, 90*degrees)\n",
    "# simres = pytpc.simulation.track(proj, heco, ef, bf)\n",
    "simres.x *= 1000\n",
    "simres.y *= 1000\n",
    "simres.z *= 1000\n",
    "# simres['pos'][:, 2] = 1000 - simres['pos'][:, 2]"
   ]
  },
  {
   "cell_type": "code",
   "execution_count": null,
   "metadata": {
    "collapsed": false
   },
   "outputs": [],
   "source": [
    "plt.plot(simres.x, simres.y, '.')\n",
    "plt.xlim(-275, 275)\n",
    "plt.ylim(-275, 275)\n",
    "plt.gca().set_aspect('equal')\n",
    "plt.xlabel('x'); plt.ylabel('y')"
   ]
  },
  {
   "cell_type": "code",
   "execution_count": null,
   "metadata": {
    "collapsed": false
   },
   "outputs": [],
   "source": [
    "plt.plot(simres.z, simres.y, '.')\n",
    "plt.xlim(0, 1000)\n",
    "plt.ylim(-275, 275)\n",
    "plt.gca().set_aspect('equal')\n",
    "plt.xlabel('z'); plt.ylabel('y')"
   ]
  },
  {
   "cell_type": "code",
   "execution_count": null,
   "metadata": {
    "collapsed": false
   },
   "outputs": [],
   "source": [
    "plt.plot(simres.z, simres.x, '.')\n",
    "plt.xlim(0, 1000)\n",
    "plt.ylim(-275, 275)\n",
    "plt.gca().set_aspect('equal')\n",
    "plt.xlabel('z'); plt.ylabel('x')"
   ]
  },
  {
   "cell_type": "code",
   "execution_count": null,
   "metadata": {
    "collapsed": false
   },
   "outputs": [],
   "source": [
    "evt = pytpc.evtdata.make_event(simres[['x', 'y', 'z']].values, simres.de.values, clock, vd, \n",
    "                               40.2, proj.mass_num, 334., 100)"
   ]
  },
  {
   "cell_type": "code",
   "execution_count": null,
   "metadata": {
    "collapsed": false
   },
   "outputs": [],
   "source": [
    "plt.plot(evt.traces['data'].sum(0))"
   ]
  },
  {
   "cell_type": "code",
   "execution_count": null,
   "metadata": {
    "collapsed": false
   },
   "outputs": [],
   "source": [
    "pp = pytpc.pad_plot(evt.hits());\n",
    "# pp.savefig('/Users/josh/Dropbox/fit_pads.pdf', dpi=200, transparent=True)"
   ]
  },
  {
   "cell_type": "code",
   "execution_count": null,
   "metadata": {
    "collapsed": false
   },
   "outputs": [],
   "source": [
    "xyz = evt.xyzs()\n",
    "plt.plot(xyz[:, 0], xyz[:, 1], '.')\n",
    "plt.xlim(-270, 270)\n",
    "plt.ylim(-270, 270)"
   ]
  },
  {
   "cell_type": "code",
   "execution_count": null,
   "metadata": {
    "collapsed": false
   },
   "outputs": [],
   "source": [
    "plt.plot(evt.traces['data'].sum(0), 'k--')\n",
    "for x in evt.traces['data']:\n",
    "    plt.plot(x)\n",
    "# plt.savefig('/Users/josh/Dropbox/fit_data.png', dpi=200)"
   ]
  },
  {
   "cell_type": "code",
   "execution_count": null,
   "metadata": {
    "collapsed": false
   },
   "outputs": [],
   "source": [
    "chfig = pytpc.chamber_plot(evt.xyzs(vd, clock), zscale='dist')\n",
    "chfig.axes[0].view_init(elev=10, azim=50)\n",
    "# chfig.savefig('/Users/josh/Dropbox/fit_track.png', transparent=True, dpi=200)"
   ]
  },
  {
   "cell_type": "code",
   "execution_count": null,
   "metadata": {
    "collapsed": false
   },
   "outputs": [],
   "source": [
    "gs = gridspec.GridSpec(2, 1, height_ratios=(1, 4))\n",
    "\n",
    "with sns.axes_style('ticks'):\n",
    "    plt.subplot(gs[0])\n",
    "    plt.plot(simres.time, simres.de)\n",
    "    sns.despine()\n",
    "    plt.gca().set_xticklabels([])\n",
    "#     plt.gca().set_yticklabels([])\n",
    "\n",
    "plt.subplot(gs[1])\n",
    "plt.plot(simres.time, simres.en)\n",
    "plt.semilogy()"
   ]
  },
  {
   "cell_type": "code",
   "execution_count": null,
   "metadata": {
    "collapsed": true
   },
   "outputs": [],
   "source": [
    "dpos = np.diff(simres.time) * np.array([pytpc.relativity.beta(e, 4*p_mc2) for e in simres.en[1:]*4]) * c_lgt"
   ]
  },
  {
   "cell_type": "code",
   "execution_count": null,
   "metadata": {
    "collapsed": false
   },
   "outputs": [],
   "source": [
    "plt.plot(simres.en[1:]*4, heco.energy_loss(simres.en[1:] * 4, 4, 2)*dpos)\n",
    "# plt.plot(simres.en[1:] * 4, np.diff(simres.time))\n",
    "plt.gca().invert_xaxis()"
   ]
  },
  {
   "cell_type": "code",
   "execution_count": null,
   "metadata": {
    "collapsed": false
   },
   "outputs": [],
   "source": [
    "plt.plot(4 - np.cumsum(heco.energy_loss(simres.en[1:] * 4, 4, 2)*dpos))\n",
    "plt.plot(simres.en[1:]*4)"
   ]
  },
  {
   "cell_type": "code",
   "execution_count": null,
   "metadata": {
    "collapsed": false
   },
   "outputs": [],
   "source": [
    "ens = np.logspace(-4, 3, 100)\n",
    "plt.plot(ens, heco.energy_loss(ens, 4, 2) / 1000)\n",
    "plt.semilogx()"
   ]
  },
  {
   "cell_type": "code",
   "execution_count": null,
   "metadata": {
    "collapsed": false
   },
   "outputs": [],
   "source": [
    "plt.plot(simres.z, simres.de)\n",
    "plt.gca().invert_xaxis()"
   ]
  },
  {
   "cell_type": "code",
   "execution_count": null,
   "metadata": {
    "collapsed": false
   },
   "outputs": [],
   "source": [
    "plt.plot(simres.time)"
   ]
  },
  {
   "cell_type": "code",
   "execution_count": null,
   "metadata": {
    "collapsed": false
   },
   "outputs": [],
   "source": [
    "plt.plot(simres.time, simres.px)\n",
    "plt.plot(simres.time, simres.py)\n",
    "plt.plot(simres.time, simres.pz)"
   ]
  },
  {
   "cell_type": "code",
   "execution_count": null,
   "metadata": {
    "collapsed": false
   },
   "outputs": [],
   "source": [
    "meas = evt.xyzs(vd, clock, peaks_only=True)[:, 0:3] * 1e-3\n",
    "meas = meas[meas[:, 2].argsort()][::-1]\n",
    "meas += (np.array([0, 0, 1]) - meas[0])\n",
    "\n",
    "act = simres[['x', 'y', 'z', 'px', 'py', 'pz']].values\n",
    "act[:, 0:3] *= 1e-3\n",
    "act_times = simres.time"
   ]
  },
  {
   "cell_type": "code",
   "execution_count": null,
   "metadata": {
    "collapsed": false
   },
   "outputs": [],
   "source": [
    "plt.plot(meas)"
   ]
  },
  {
   "cell_type": "code",
   "execution_count": null,
   "metadata": {
    "collapsed": false
   },
   "outputs": [],
   "source": [
    "plt.hist(np.linalg.norm(np.diff(meas, axis=0), axis=1), bins=10)"
   ]
  },
  {
   "cell_type": "code",
   "execution_count": null,
   "metadata": {
    "collapsed": false
   },
   "outputs": [],
   "source": [
    "tr_proj = pytpc.Particle(4, 2, 1.5, position=(0, 0, 1.), azimuth=270*degrees, polar=pi-tilt+pi/8)\n",
    "tr = pytpc.Tracker(tr_proj, heco, ef, bf, tr_proj.state_vector)\n",
    "tr.kfilter.Q = np.diag((1e-4, 1e-4, 1e-4, 1e-1, 1e-1, 1e-1))**2 # Process\n",
    "tr.kfilter.R = np.diag([2e-2]*2 + [4e-2]) ** 2 # Measurement\n",
    "tr.kfilter.P = np.diag([1e-2] * 3 + [1e-0] * 3)**2\n",
    "\n",
    "res, covar, res_times = tr.track(meas)"
   ]
  },
  {
   "cell_type": "code",
   "execution_count": null,
   "metadata": {
    "collapsed": false
   },
   "outputs": [],
   "source": [
    "fig = pytpc.tpcplot.state_vector_plots(x_act=act_times, act=act, x_calc=res_times, calc=res, \n",
    "                                       x_data=res_times, data=meas, covar=covar);\n",
    "# fig.savefig('/Users/josh/Dropbox/fit_with_actual.pdf')"
   ]
  },
  {
   "cell_type": "code",
   "execution_count": null,
   "metadata": {
    "collapsed": false
   },
   "outputs": [],
   "source": [
    "fig = pytpc.tpcplot.state_vector_plots(x_act=act_times, act=act, x_calc=res_times, calc=res, \n",
    "                                       x_data=res_times, data=meas, covar=covar);\n",
    "# fig.savefig('/Users/josh/Dropbox/fit_with_actual.pdf')"
   ]
  },
  {
   "cell_type": "code",
   "execution_count": null,
   "metadata": {
    "collapsed": false
   },
   "outputs": [],
   "source": [
    "res_ens = np.sqrt(np.sum(res[:, 3:6]**2, axis=1) + tr_proj.mass**2) - 4*p_mc2"
   ]
  },
  {
   "cell_type": "code",
   "execution_count": null,
   "metadata": {
    "collapsed": false
   },
   "outputs": [],
   "source": [
    "plt.plot(res[:, 2], res_ens)\n",
    "plt.plot(act[:, 2], simres.en * 4)"
   ]
  },
  {
   "cell_type": "code",
   "execution_count": null,
   "metadata": {
    "collapsed": false
   },
   "outputs": [],
   "source": [
    "plt.plot(res_times, res_ens)\n",
    "plt.plot(simres.time, simres.en * 4)"
   ]
  },
  {
   "cell_type": "code",
   "execution_count": null,
   "metadata": {
    "collapsed": false
   },
   "outputs": [],
   "source": [
    "plt.plot(res[:, 2], res_times)\n",
    "plt.plot(simres.z*1e-3, simres.time)"
   ]
  },
  {
   "cell_type": "code",
   "execution_count": null,
   "metadata": {
    "collapsed": true
   },
   "outputs": [],
   "source": []
  }
 ],
 "metadata": {
  "kernelspec": {
   "display_name": "Python 3",
   "language": "python",
   "name": "python3"
  },
  "language_info": {
   "codemirror_mode": {
    "name": "ipython",
    "version": 3
   },
   "file_extension": ".py",
   "mimetype": "text/x-python",
   "name": "python",
   "nbconvert_exporter": "python",
   "pygments_lexer": "ipython3",
   "version": "3.4.2"
  }
 },
 "nbformat": 4,
 "nbformat_minor": 0
}
