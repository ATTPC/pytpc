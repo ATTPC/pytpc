{
 "metadata": {
  "name": "",
  "signature": ""
 },
 "nbformat": 3,
 "nbformat_minor": 0,
 "worksheets": [
  {
   "cells": [
    {
     "cell_type": "code",
     "collapsed": false,
     "input": [
      "%matplotlib inline\n",
      "\n",
      "import matplotlib.pyplot as plt\n",
      "import numpy as np\n",
      "import seaborn as sns\n",
      "\n",
      "import sys\n",
      "sys.path.append('..')\n",
      "import pytpc\n",
      "from pytpc.constants import *"
     ],
     "language": "python",
     "metadata": {},
     "outputs": []
    },
    {
     "cell_type": "code",
     "collapsed": false,
     "input": [
      "pt = pytpc.Particle(4, 2, 2, azimuth=pi/4, polar=pi/10)\n",
      "he = pytpc.gases.HeliumGas(100.)\n",
      "ef = np.array([0, 0, 15e3])\n",
      "bf = np.array([0, 0, -0.5])\n",
      "pos, mom, time, en, *junk = pytpc.track(pt, he, ef, bf)\n",
      "pos *= 1000"
     ],
     "language": "python",
     "metadata": {},
     "outputs": []
    },
    {
     "cell_type": "code",
     "collapsed": false,
     "input": [
      "pads = pytpc.generate_pad_plane()\n",
      "keys = tuple(map(tuple, np.round(pads.mean(1)).tolist()))\n",
      "pdict = {k:i for i, k in enumerate(keys)}"
     ],
     "language": "python",
     "metadata": {},
     "outputs": []
    },
    {
     "cell_type": "code",
     "collapsed": false,
     "input": [
      "def make_event(pos, en, clock, vd, ioniz):\n",
      "    de = np.abs(np.diff(en))\n",
      "    ne = np.round(de*1e6 / ioniz)\n",
      "    ne = np.insert(ne, 0, 0)\n",
      "    pca = np.round(np.array([pytpc.simulation.find_pad_coords(p[0], p[1]) for p in pos[:, 0:2]]))\n",
      "    pnums = np.array([pdict[tuple(a)] for a in pca])\n",
      "    tbs = pytpc.evtdata.uncalibrate_z(pos[:, 2], vd, clock).astype(int)\n",
      "    \n",
      "    unique_pads = np.unique(pnums)\n",
      "    evt = pytpc.Event()\n",
      "    evt.traces = np.zeros(unique_pads.shape, dtype=evt.dt)\n",
      "    for i, p in enumerate(unique_pads):\n",
      "        idxs = np.where(pnums == p)\n",
      "        tr = np.zeros(512)\n",
      "        for t, v in zip(tbs[idxs], ne[idxs]):\n",
      "            tr[t] += v\n",
      "        evt.traces[i]['pad'] = p\n",
      "        evt.traces[i]['data'][:] = tr\n",
      "    return evt"
     ],
     "language": "python",
     "metadata": {},
     "outputs": []
    },
    {
     "cell_type": "code",
     "collapsed": false,
     "input": [
      "evt = make_event(pos, en, 12.5, 5, 41.8)"
     ],
     "language": "python",
     "metadata": {},
     "outputs": []
    },
    {
     "cell_type": "code",
     "collapsed": false,
     "input": [
      "pytpc.pad_plot(evt.hits())"
     ],
     "language": "python",
     "metadata": {},
     "outputs": []
    },
    {
     "cell_type": "code",
     "collapsed": false,
     "input": [
      "plt.plot(evt.traces['data'].sum(0))"
     ],
     "language": "python",
     "metadata": {},
     "outputs": []
    },
    {
     "cell_type": "code",
     "collapsed": false,
     "input": [
      "for x in evt.traces['data']:\n",
      "    plt.plot(x)"
     ],
     "language": "python",
     "metadata": {},
     "outputs": []
    },
    {
     "cell_type": "code",
     "collapsed": false,
     "input": [
      "pytpc.chamber_plot(evt.xyzs());"
     ],
     "language": "python",
     "metadata": {},
     "outputs": []
    },
    {
     "cell_type": "code",
     "collapsed": false,
     "input": [],
     "language": "python",
     "metadata": {},
     "outputs": []
    }
   ],
   "metadata": {}
  }
 ]
}