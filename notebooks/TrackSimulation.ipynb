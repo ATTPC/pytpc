{
 "cells": [
  {
   "cell_type": "code",
   "execution_count": null,
   "metadata": {
    "collapsed": false
   },
   "outputs": [],
   "source": [
    "%matplotlib inline\n",
    "\n",
    "import matplotlib.pyplot as plt\n",
    "import numpy as np\n",
    "import seaborn as sns\n",
    "\n",
    "import sys\n",
    "sys.path.append('..')\n",
    "import pytpc\n",
    "from pytpc.constants import *\n",
    "from scipy.ndimage.filters import gaussian_filter\n",
    "from math import sin, cos"
   ]
  },
  {
   "cell_type": "code",
   "execution_count": null,
   "metadata": {
    "collapsed": false
   },
   "outputs": [],
   "source": [
    "tilt = 7*degrees\n",
    "clock = 12.5  # MHz\n",
    "emag = 15e3\n",
    "bmag = 0.5691\n",
    "ef = np.array([0, 0, emag])\n",
    "bfield_orig = np.array([0, 0, bmag])\n",
    "trans = np.array([[1, 0, 0],\n",
    "                  [0, cos(-tilt), -sin(-tilt)],\n",
    "                  [0, sin(-tilt), cos(-tilt)]])\n",
    "bf = np.dot(trans, bfield_orig)\n",
    "vd = pytpc.simulation.drift_velocity_vector(-3.32, emag, bmag, tilt)"
   ]
  },
  {
   "cell_type": "code",
   "execution_count": null,
   "metadata": {
    "collapsed": false
   },
   "outputs": [],
   "source": [
    "proj = pytpc.Particle(4, 2, 1.5, position=(0, 0, 1.), azimuth=0, polar=pi+tilt)\n",
    "target = pytpc.Particle(4, 2, 0)\n",
    "heco = pytpc.gases.HeCO2Gas(150.)\n",
    "\n",
    "simres = pytpc.simulation.simulate_elastic_scattering_track(proj, target, heco, ef, bf, 4, pi/2, 0)\n",
    "simres.x *= 1000\n",
    "simres.y *= 1000\n",
    "simres.z *= 1000\n",
    "# simres['pos'][:, 2] = 1000 - simres['pos'][:, 2]"
   ]
  },
  {
   "cell_type": "code",
   "execution_count": null,
   "metadata": {
    "collapsed": false
   },
   "outputs": [],
   "source": [
    "evt = pytpc.evtdata.make_event(simres[['x', 'y', 'z']].values, simres.de.values, clock, vd, 40.2, proj.mass_num, 334.)"
   ]
  },
  {
   "cell_type": "code",
   "execution_count": null,
   "metadata": {
    "collapsed": false
   },
   "outputs": [],
   "source": [
    "pytpc.pad_plot(evt.hits());"
   ]
  },
  {
   "cell_type": "code",
   "execution_count": null,
   "metadata": {
    "collapsed": false
   },
   "outputs": [],
   "source": [
    "plt.plot(evt.traces['data'].sum(0))"
   ]
  },
  {
   "cell_type": "code",
   "execution_count": null,
   "metadata": {
    "collapsed": false
   },
   "outputs": [],
   "source": [
    "plt.plot(evt.traces['data'].sum(0), 'k--')\n",
    "for x in evt.traces['data']:\n",
    "    plt.plot(x)"
   ]
  },
  {
   "cell_type": "code",
   "execution_count": null,
   "metadata": {
    "collapsed": false
   },
   "outputs": [],
   "source": [
    "chfig = pytpc.chamber_plot(evt.xyzs(vd, clock), zscale='dist')\n",
    "chfig.axes[0].view_init(elev=0, azim=50)"
   ]
  },
  {
   "cell_type": "code",
   "execution_count": null,
   "metadata": {
    "collapsed": true
   },
   "outputs": [],
   "source": []
  }
 ],
 "metadata": {
  "kernelspec": {
   "display_name": "Python 3",
   "language": "python",
   "name": "python3"
  },
  "language_info": {
   "codemirror_mode": {
    "name": "ipython",
    "version": 3
   },
   "file_extension": ".py",
   "mimetype": "text/x-python",
   "name": "python",
   "nbconvert_exporter": "python",
   "pygments_lexer": "ipython3",
   "version": "3.4.2"
  }
 },
 "nbformat": 4,
 "nbformat_minor": 0
}
