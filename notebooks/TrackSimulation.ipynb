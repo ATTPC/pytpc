{
 "cells": [
  {
   "cell_type": "code",
   "execution_count": null,
   "metadata": {
    "collapsed": false
   },
   "outputs": [],
   "source": [
    "%matplotlib inline\n",
    "\n",
    "import matplotlib.pyplot as plt\n",
    "import numpy as np\n",
    "import seaborn as sns\n",
    "\n",
    "import sys\n",
    "sys.path.append('..')\n",
    "import pytpc\n",
    "from pytpc.constants import *\n",
    "from scipy.ndimage.filters import gaussian_filter\n",
    "from math import sin, cos"
   ]
  },
  {
   "cell_type": "code",
   "execution_count": null,
   "metadata": {
    "collapsed": false
   },
   "outputs": [],
   "source": [
    "def make_event(pos, en, clock, vd, ioniz, proj_mass, offset, shapetime):\n",
    "    \n",
    "    # Find energy deposition for each point\n",
    "    de = np.abs(np.diff(en))\n",
    "    ne = np.round(de*1e6*proj_mass / ioniz)  # last factor after mass is gain\n",
    "    ne = np.insert(ne, 0, 0)  # indexed by simulated point number\n",
    "    \n",
    "    # Uncalibrate the position data\n",
    "    uncal = pytpc.evtdata.uncalibrate(pos, vd, clock)\n",
    "    tbs = uncal[:, -1]\n",
    "    print(tbs)\n",
    "    \n",
    "    # Find the pad for each point\n",
    "    pca = np.round(np.array([pytpc.simulation.find_pad_coords(p[0], p[1]) for p in uncal[:, 0:2]]))\n",
    "    pnums = np.array([pdict[tuple(a)] for a in pca])\n",
    "    unique_pads = np.unique(pnums)\n",
    "    \n",
    "    shapetime_tb = shapetime*1e-9 * clock*1e6\n",
    "    \n",
    "    # Build the event\n",
    "    evt = pytpc.Event()\n",
    "    evt.traces = np.zeros(unique_pads.shape, dtype=evt.dt)\n",
    "    for i, p in enumerate(unique_pads):\n",
    "        idxs = np.where(pnums == p)\n",
    "        tr = np.zeros(512)\n",
    "        for t, v in zip(tbs[idxs], ne[idxs]):\n",
    "            tr[t] += v\n",
    "        evt.traces[i]['pad'] = p\n",
    "        evt.traces[i]['data'][:] = gaussian_filter(tr, shapetime_tb, mode='constant')\n",
    "    return evt"
   ]
  },
  {
   "cell_type": "code",
   "execution_count": null,
   "metadata": {
    "collapsed": false
   },
   "outputs": [],
   "source": [
    "pads = pytpc.generate_pad_plane()\n",
    "keys = tuple(map(tuple, np.round(pads.mean(1)).tolist()))\n",
    "pdict = {k:i for i, k in enumerate(keys)}"
   ]
  },
  {
   "cell_type": "code",
   "execution_count": null,
   "metadata": {
    "collapsed": false
   },
   "outputs": [],
   "source": [
    "tilt = 7*degrees\n",
    "clock = 6.25  # MHz\n",
    "emag = 15e3\n",
    "bmag = 0.5691\n",
    "ef = np.array([0, 0, emag])\n",
    "bfield_orig = np.array([0, 0, bmag])\n",
    "trans = np.array([[1, 0, 0],\n",
    "                  [0, cos(-tilt), -sin(-tilt)],\n",
    "                  [0, sin(-tilt), cos(-tilt)]])\n",
    "bf = np.dot(trans, bfield_orig)\n",
    "vd = pytpc.simulation.drift_velocity_vector(-3.32, emag, bmag, tilt)"
   ]
  },
  {
   "cell_type": "code",
   "execution_count": null,
   "metadata": {
    "collapsed": false
   },
   "outputs": [],
   "source": [
    "pt = pytpc.Particle(4, 2, 2.2, position=(0, 0, 1.), azimuth=pi/2, polar=pi+tilt)\n",
    "he = pytpc.gases.HeliumGas(150.)\n",
    "simres = pytpc.track(pt, he, ef, bf)\n",
    "simres['pos'] *= 1000\n",
    "# simres['pos'][:, 2] = 1000 - simres['pos'][:, 2]"
   ]
  },
  {
   "cell_type": "code",
   "execution_count": null,
   "metadata": {
    "collapsed": false
   },
   "outputs": [],
   "source": [
    "evt = make_event(simres['pos'], simres['en'], clock, vd, 40.2, pt.mass_num, 100, 334.)"
   ]
  },
  {
   "cell_type": "code",
   "execution_count": null,
   "metadata": {
    "collapsed": false
   },
   "outputs": [],
   "source": [
    "plt.plot(simres['pos'][:, 2])"
   ]
  },
  {
   "cell_type": "code",
   "execution_count": null,
   "metadata": {
    "collapsed": false
   },
   "outputs": [],
   "source": [
    "pytpc.pad_plot(evt.hits());"
   ]
  },
  {
   "cell_type": "code",
   "execution_count": null,
   "metadata": {
    "collapsed": false
   },
   "outputs": [],
   "source": [
    "plt.plot(evt.traces['data'].sum(0))"
   ]
  },
  {
   "cell_type": "code",
   "execution_count": null,
   "metadata": {
    "collapsed": false
   },
   "outputs": [],
   "source": [
    "plt.plot(evt.traces['data'].sum(0), 'k--')\n",
    "for x in evt.traces['data']:\n",
    "    plt.plot(x)"
   ]
  },
  {
   "cell_type": "code",
   "execution_count": null,
   "metadata": {
    "collapsed": false
   },
   "outputs": [],
   "source": [
    "pytpc.chamber_plot(evt.xyzs(vd, clock), zscale='dist');"
   ]
  },
  {
   "cell_type": "code",
   "execution_count": null,
   "metadata": {
    "collapsed": false
   },
   "outputs": [],
   "source": [
    "plt.plot(simres['pos'][:, 0], simres['pos'][:, 1])\n",
    "plt.xlim(-275, 275)\n",
    "plt.ylim(-275, 275)\n",
    "plt.gca().set_aspect('equal')"
   ]
  },
  {
   "cell_type": "code",
   "execution_count": null,
   "metadata": {
    "collapsed": false
   },
   "outputs": [],
   "source": [
    "plt.plot(simres['pos'][:, 2], simres['pos'][:, 1])\n",
    "plt.xlim(0, 1000)\n",
    "plt.ylim(-275, 275)\n",
    "plt.gca().set_aspect('equal')"
   ]
  },
  {
   "cell_type": "code",
   "execution_count": null,
   "metadata": {
    "collapsed": false
   },
   "outputs": [],
   "source": [
    "uncal = pytpc.evtdata.uncalibrate(simres['pos'], vd, clock)"
   ]
  },
  {
   "cell_type": "code",
   "execution_count": null,
   "metadata": {
    "collapsed": false
   },
   "outputs": [],
   "source": [
    "plt.plot(uncal[:, 0], uncal[:, 1])\n",
    "plt.xlim(-275, 275)\n",
    "plt.ylim(-275, 275)\n",
    "plt.gca().set_aspect('equal')"
   ]
  },
  {
   "cell_type": "code",
   "execution_count": null,
   "metadata": {
    "collapsed": false
   },
   "outputs": [],
   "source": [
    "plt.plot(uncal[:, 2], uncal[:, 1])\n",
    "plt.xlim(0, 512)\n",
    "plt.ylim(-275, 275)\n",
    "plt.gca().set_aspect('equal')"
   ]
  },
  {
   "cell_type": "code",
   "execution_count": null,
   "metadata": {
    "collapsed": true
   },
   "outputs": [],
   "source": []
  }
 ],
 "metadata": {
  "kernelspec": {
   "display_name": "Python 3",
   "language": "python",
   "name": "python3"
  },
  "language_info": {
   "codemirror_mode": {
    "name": "ipython",
    "version": 3
   },
   "file_extension": ".py",
   "mimetype": "text/x-python",
   "name": "python",
   "nbconvert_exporter": "python",
   "pygments_lexer": "ipython3",
   "version": "3.4.2"
  }
 },
 "nbformat": 4,
 "nbformat_minor": 0
}
