{
 "cells": [
  {
   "cell_type": "code",
   "execution_count": null,
   "metadata": {
    "collapsed": false
   },
   "outputs": [],
   "source": [
    "%matplotlib inline\n",
    "import matplotlib.pyplot as plt\n",
    "import numpy as np\n",
    "from scipy.interpolate import InterpolatedUnivariateSpline\n",
    "import seaborn as sns\n",
    "import pandas as pd\n",
    "import re\n",
    "import json\n",
    "import sqlite3\n",
    "sns.set_style('darkgrid')"
   ]
  },
  {
   "cell_type": "code",
   "execution_count": null,
   "metadata": {
    "collapsed": false
   },
   "outputs": [],
   "source": [
    "import sys\n",
    "sys.path.append('../../pytpc')\n",
    "import pytpc"
   ]
  },
  {
   "cell_type": "markdown",
   "metadata": {},
   "source": [
    "# Output database connection"
   ]
  },
  {
   "cell_type": "code",
   "execution_count": null,
   "metadata": {
    "collapsed": true
   },
   "outputs": [],
   "source": [
    "gasdb = sqlite3.connect('../data/gases/gasdata.db')\n",
    "gdb_curs = gasdb.cursor()"
   ]
  },
  {
   "cell_type": "markdown",
   "metadata": {},
   "source": [
    "# Read data from ASTAR data files"
   ]
  },
  {
   "cell_type": "code",
   "execution_count": null,
   "metadata": {
    "collapsed": false
   },
   "outputs": [],
   "source": [
    "def read_astar(fp):\n",
    "    return pd.read_table(fp, delim_whitespace=True, skiprows=5, names=('energy', 'dedx', 'range'), index_col=0)"
   ]
  },
  {
   "cell_type": "markdown",
   "metadata": {},
   "source": [
    "## Helium data\n",
    "\n",
    "This is for pure helium gas"
   ]
  },
  {
   "cell_type": "code",
   "execution_count": null,
   "metadata": {
    "collapsed": true
   },
   "outputs": [],
   "source": [
    "he_data = read_astar('../data/raw/helium_astar.txt')"
   ]
  },
  {
   "cell_type": "code",
   "execution_count": null,
   "metadata": {
    "collapsed": true
   },
   "outputs": [],
   "source": [
    "he_data.to_sql('helium', gasdb, if_exists='replace')"
   ]
  },
  {
   "cell_type": "code",
   "execution_count": null,
   "metadata": {
    "collapsed": false
   },
   "outputs": [],
   "source": [
    "gdb_curs.execute('INSERT INTO masses VALUES (\"helium\", 4.002)')\n",
    "gasdb.commit()"
   ]
  },
  {
   "cell_type": "code",
   "execution_count": null,
   "metadata": {
    "collapsed": false
   },
   "outputs": [],
   "source": [
    "hegas = pytpc.gases.InterpolatedGas('helium', 760)\n",
    "ens = np.logspace(-3, 3, 100)\n",
    "plt.plot(ens, hegas.energy_loss(ens, 4, 2))\n",
    "plt.loglog()\n",
    "plt.xlabel('Energy [MeV]')\n",
    "plt.ylabel('dE/dx at 760 torr [MeV/m]')"
   ]
  },
  {
   "cell_type": "code",
   "execution_count": null,
   "metadata": {
    "collapsed": false
   },
   "outputs": [],
   "source": [
    "hegas = pytpc.gases.InterpolatedGas('helium', 760)\n",
    "ens = np.logspace(-3, 3, 100)\n",
    "plt.plot(ens, hegas.range(ens, 4, 2))\n",
    "plt.loglog()\n",
    "plt.xlabel('Energy [MeV]')\n",
    "plt.ylabel('Range at 760 torr [m]')"
   ]
  },
  {
   "cell_type": "markdown",
   "metadata": {},
   "source": [
    "## CO2 data\n",
    "\n",
    "This is for pure CO2 gas"
   ]
  },
  {
   "cell_type": "code",
   "execution_count": null,
   "metadata": {
    "collapsed": false
   },
   "outputs": [],
   "source": [
    "co2_data = read_astar('../data/raw/co2_astar.txt')"
   ]
  },
  {
   "cell_type": "code",
   "execution_count": null,
   "metadata": {
    "collapsed": true
   },
   "outputs": [],
   "source": [
    "co2_data.to_sql('carbon_dioxide', gasdb, if_exists='replace')"
   ]
  },
  {
   "cell_type": "code",
   "execution_count": null,
   "metadata": {
    "collapsed": false
   },
   "outputs": [],
   "source": [
    "gdb_curs.execute('INSERT INTO Masses VALUES (\"carbon_dioxide\", 44.01)')\n",
    "gasdb.commit()"
   ]
  },
  {
   "cell_type": "code",
   "execution_count": null,
   "metadata": {
    "collapsed": false
   },
   "outputs": [],
   "source": [
    "co2gas = pytpc.gases.InterpolatedGas('carbon_dioxide', 760)\n",
    "ens = np.logspace(-3, 3, 100)\n",
    "plt.plot(ens, co2gas.energy_loss(ens, 4, 2))\n",
    "plt.loglog()\n",
    "plt.xlabel('Energy [MeV]')\n",
    "plt.ylabel('dE/dx at 760 torr [MeV/m]')"
   ]
  },
  {
   "cell_type": "code",
   "execution_count": null,
   "metadata": {
    "collapsed": false
   },
   "outputs": [],
   "source": [
    "co2gas = pytpc.gases.InterpolatedGas('carbon_dioxide', 760)\n",
    "ens = np.logspace(-3, 3, 100)\n",
    "plt.plot(ens, co2gas.range(ens, 4, 2))\n",
    "plt.loglog()\n",
    "plt.xlabel('Energy [MeV]')\n",
    "plt.ylabel('Range at 760 torr [m]')"
   ]
  },
  {
   "cell_type": "markdown",
   "metadata": {},
   "source": [
    "# Gas Mixtures"
   ]
  },
  {
   "cell_type": "markdown",
   "metadata": {},
   "source": [
    "## Helium-CO2 90/10"
   ]
  },
  {
   "cell_type": "code",
   "execution_count": null,
   "metadata": {
    "collapsed": false
   },
   "outputs": [],
   "source": [
    "heco2 = pytpc.gases.InterpolatedGasMixture(760, ('helium', 0.9), ('carbon_dioxide', 0.1))\n",
    "ens = np.logspace(-3, 3, 100)\n",
    "plt.plot(ens, heco2.energy_loss(ens, 4, 2))\n",
    "plt.loglog()\n",
    "plt.xlabel('Energy [MeV]')\n",
    "plt.ylabel('dE/dx at 760 torr [MeV/m]')"
   ]
  },
  {
   "cell_type": "code",
   "execution_count": null,
   "metadata": {
    "collapsed": false
   },
   "outputs": [],
   "source": [
    "ens = np.logspace(-3, 3, 100)\n",
    "plt.plot(ens, heco2.range(ens, 4, 2))\n",
    "plt.loglog()\n",
    "plt.xlabel('Energy [MeV]')\n",
    "plt.ylabel('Range at 760 torr [m]')"
   ]
  },
  {
   "cell_type": "code",
   "execution_count": null,
   "metadata": {
    "collapsed": false
   },
   "outputs": [],
   "source": [
    "ens = np.logspace(-3, 3, 100)\n",
    "plt.plot(ens, hegas.energy_loss(ens, 4, 2), label='Pure He')\n",
    "plt.plot(ens, co2gas.energy_loss(ens, 4, 2), label='Pure CO2')\n",
    "plt.plot(ens, heco2.energy_loss(ens, 4, 2), label='He-CO2 90/10')\n",
    "plt.loglog()\n",
    "plt.xlabel('Energy [MeV]')\n",
    "plt.ylabel('dE/dx at 760 torr [MeV/m]')\n",
    "plt.legend()"
   ]
  },
  {
   "cell_type": "code",
   "execution_count": null,
   "metadata": {
    "collapsed": false
   },
   "outputs": [],
   "source": [
    "ens = np.logspace(-3, 3, 100)\n",
    "plt.plot(ens, hegas.energy_loss(ens, 4, 2)/co2gas.energy_loss(ens, 4, 2))\n",
    "plt.loglog()"
   ]
  },
  {
   "cell_type": "code",
   "execution_count": null,
   "metadata": {
    "collapsed": false
   },
   "outputs": [],
   "source": [
    "ens = np.logspace(-3, 3, 100)\n",
    "plt.plot(ens, hegas.range(ens, 4, 2), label='Pure He')\n",
    "plt.plot(ens, co2gas.range(ens, 4, 2), label='Pure CO2')\n",
    "plt.plot(ens, heco2.range(ens, 4, 2), label='He-CO2 90/10')\n",
    "plt.loglog()\n",
    "plt.xlabel('Energy [MeV]')\n",
    "plt.ylabel('Range at 760 torr [m]')\n",
    "plt.legend(loc=2)\n",
    "# plt.savefig('/Users/josh/Desktop/range_fullpress.pdf', transparent=True)"
   ]
  },
  {
   "cell_type": "code",
   "execution_count": null,
   "metadata": {
    "collapsed": false
   },
   "outputs": [],
   "source": [
    "ens = np.logspace(-3, 3, 100)\n",
    "plt.plot(ens, heco2.components[0][0].energy_loss(ens, 4, 2), \n",
    "         label='Pure Helium at {} torr'.format(heco2.components[0][1] * 760))\n",
    "plt.plot(ens, heco2.components[1][0].energy_loss(ens, 4, 2), \n",
    "         label='Pure CO2 at {} torr'.format(heco2.components[1][1] * 760))\n",
    "plt.plot(ens, heco2.energy_loss(ens, 4, 2), label='He-CO2 90/10 at 760 torr')\n",
    "plt.loglog()\n",
    "plt.xlabel('de/dx [MeV/m]')\n",
    "plt.ylabel('Range [m]')\n",
    "plt.legend(loc=1)"
   ]
  },
  {
   "cell_type": "code",
   "execution_count": null,
   "metadata": {
    "collapsed": false
   },
   "outputs": [],
   "source": [
    "ens = np.logspace(-3, 3, 100)\n",
    "plt.plot(ens, heco2.components[0][0].range(ens, 4, 2), \n",
    "         label='Pure Helium at {} torr'.format(heco2.components[0][1] * 760))\n",
    "plt.plot(ens, heco2.components[1][0].range(ens, 4, 2), \n",
    "         label='Pure CO2 at {} torr'.format(heco2.components[1][1] * 760))\n",
    "plt.plot(ens, heco2.range(ens, 4, 2), label='He-CO2 90/10 at 760 torr')\n",
    "plt.loglog()\n",
    "plt.xlabel('Energy [MeV]')\n",
    "plt.ylabel('Range [m]')\n",
    "plt.legend(loc=2)"
   ]
  },
  {
   "cell_type": "code",
   "execution_count": null,
   "metadata": {
    "collapsed": false
   },
   "outputs": [],
   "source": [
    "plt.plot(ens, heco2.components[0][0].energy_loss(ens, 4, 2) / heco2.components[1][0].energy_loss(ens, 4, 2))\n",
    "plt.semilogx()"
   ]
  },
  {
   "cell_type": "code",
   "execution_count": null,
   "metadata": {
    "collapsed": false
   },
   "outputs": [],
   "source": [
    "ens = np.logspace(-3, 3, 100)\n",
    "ranges = heco2.range(ens, 4, 2)\n",
    "heco2_table = pd.DataFrame(np.vstack((ens, ranges)).T, columns=('energy', 'range'))"
   ]
  },
  {
   "cell_type": "code",
   "execution_count": null,
   "metadata": {
    "collapsed": false
   },
   "outputs": [],
   "source": [
    "heco2_table.to_csv('/Users/josh/Desktop/heco2_range_table.csv', index=False)"
   ]
  }
 ],
 "metadata": {
  "kernelspec": {
   "display_name": "Python 3",
   "language": "python",
   "name": "python3"
  },
  "language_info": {
   "codemirror_mode": {
    "name": "ipython",
    "version": 3
   },
   "file_extension": ".py",
   "mimetype": "text/x-python",
   "name": "python",
   "nbconvert_exporter": "python",
   "pygments_lexer": "ipython3",
   "version": "3.4.2"
  }
 },
 "nbformat": 4,
 "nbformat_minor": 0
}
