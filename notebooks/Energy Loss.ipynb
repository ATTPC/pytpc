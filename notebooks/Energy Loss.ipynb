{
 "cells": [
  {
   "cell_type": "code",
   "execution_count": null,
   "metadata": {
    "collapsed": false
   },
   "outputs": [],
   "source": [
    "%matplotlib inline\n",
    "import matplotlib.pyplot as plt\n",
    "import numpy as np\n",
    "from scipy.interpolate import InterpolatedUnivariateSpline\n",
    "import seaborn as sns\n",
    "import pandas as pd\n",
    "import re\n",
    "import json\n",
    "import sqlite3\n",
    "sns.set_style('darkgrid')"
   ]
  },
  {
   "cell_type": "code",
   "execution_count": null,
   "metadata": {
    "collapsed": true
   },
   "outputs": [],
   "source": [
    "import sys\n",
    "sys.path.insert(1, '../../pytpc')"
   ]
  },
  {
   "cell_type": "code",
   "execution_count": null,
   "metadata": {
    "collapsed": false
   },
   "outputs": [],
   "source": [
    "import pytpc"
   ]
  },
  {
   "cell_type": "markdown",
   "metadata": {},
   "source": [
    "# Output database connection"
   ]
  },
  {
   "cell_type": "code",
   "execution_count": null,
   "metadata": {
    "collapsed": false
   },
   "outputs": [],
   "source": [
    "gasdb = sqlite3.connect('../pytpc/data/gases/gasdata.db')\n",
    "gdb_curs = gasdb.cursor()"
   ]
  },
  {
   "cell_type": "markdown",
   "metadata": {},
   "source": [
    "# Read data sources\n",
    "\n",
    "### Note on units\n",
    "\n",
    "The units need to be kept consistent between ASTAR and SRIM sources.\n",
    "\n",
    "Use units of MeV (total) for energy, $\\mathrm{MeV/(g/cm^2)}$ for stopping power, and $\\mathrm{cm/(g/cm^3)}$ for range."
   ]
  },
  {
   "cell_type": "code",
   "execution_count": null,
   "metadata": {
    "collapsed": false
   },
   "outputs": [],
   "source": [
    "def read_astar(fp):\n",
    "    return pd.read_table(fp, delim_whitespace=True, skiprows=5, names=('energy', 'dedx', 'range'), index_col=0)"
   ]
  },
  {
   "cell_type": "code",
   "execution_count": null,
   "metadata": {
    "collapsed": false
   },
   "outputs": [],
   "source": [
    "def read_srim(fp):\n",
    "    en_units = {'keV': 1e-3, 'MeV': 1}\n",
    "    dist_units = {'um': 1e-4, 'mm': 1e-1, 'cm': 1, 'm': 1e2}\n",
    "\n",
    "    res = []\n",
    "\n",
    "    with open(fp) as f:\n",
    "        for line in f:\n",
    "            if 'Density' in line:\n",
    "                litems = line.strip().split()\n",
    "                gas_dens = float(litems[3]) \n",
    "                print(gas_dens)\n",
    "                assert litems[4] == 'g/cm3', 'Units for density are not g/cm3: {}'.format(litems[4])\n",
    "            if 'Straggling' in line:\n",
    "                f.readline()\n",
    "                break\n",
    "        for line in f:\n",
    "            if '-------' in line:\n",
    "                break\n",
    "            litems = line.strip().split()\n",
    "            if len(litems) != 10:\n",
    "                raise ValueError('Wrong number of entries in line!')\n",
    "\n",
    "            en = float(litems[0]) * en_units[litems[1]]\n",
    "            dedx_elec = float(litems[2]) * 1000  # convert MeV/(mg/cm^2) to MeV/(g/cm^2)\n",
    "            dedx_nuc = float(litems[3]) * 1000\n",
    "            proj_range = float(litems[4]) * dist_units[litems[5]] * gas_dens\n",
    "\n",
    "            res.append([en, dedx_elec + dedx_nuc, proj_range])\n",
    "\n",
    "    res = pd.DataFrame(res, columns=('energy', 'dedx', 'range')).set_index('energy')\n",
    "    \n",
    "    return res"
   ]
  },
  {
   "cell_type": "markdown",
   "metadata": {},
   "source": [
    "## Helium gas\n",
    "\n",
    "This is for pure helium gas\n",
    "\n",
    "### Alpha particles"
   ]
  },
  {
   "cell_type": "code",
   "execution_count": null,
   "metadata": {
    "collapsed": false
   },
   "outputs": [],
   "source": [
    "he_data = read_astar('../data/raw/helium_astar.txt')\n",
    "he_data['proj_mass'] = 4\n",
    "he_data['proj_charge'] = 2"
   ]
  },
  {
   "cell_type": "code",
   "execution_count": null,
   "metadata": {
    "collapsed": true
   },
   "outputs": [],
   "source": [
    "he_data.to_sql('helium', gasdb, if_exists='replace')"
   ]
  },
  {
   "cell_type": "code",
   "execution_count": null,
   "metadata": {
    "collapsed": false
   },
   "outputs": [],
   "source": [
    "gdb_curs.execute('INSERT INTO masses VALUES (\"helium\", 4.002)')\n",
    "gasdb.commit()"
   ]
  },
  {
   "cell_type": "code",
   "execution_count": null,
   "metadata": {
    "collapsed": false
   },
   "outputs": [],
   "source": [
    "hegas = pytpc.gases.InterpolatedGas('helium', 760)\n",
    "ens = np.logspace(-3, 3, 100)\n",
    "plt.plot(ens, hegas.energy_loss(ens, 4, 2))\n",
    "plt.loglog()\n",
    "plt.xlabel('Energy [MeV]')\n",
    "plt.ylabel('dE/dx at 760 torr [MeV/m]')"
   ]
  },
  {
   "cell_type": "code",
   "execution_count": null,
   "metadata": {
    "collapsed": false
   },
   "outputs": [],
   "source": [
    "hegas = pytpc.gases.InterpolatedGas('helium', 760)\n",
    "ens = np.logspace(-3, 3, 100)\n",
    "plt.plot(ens, hegas.range(ens, 4, 2))\n",
    "plt.loglog()\n",
    "plt.xlabel('Energy [MeV]')\n",
    "plt.ylabel('Range at 760 torr [m]')"
   ]
  },
  {
   "cell_type": "markdown",
   "metadata": {},
   "source": [
    "## CO2 data\n",
    "\n",
    "This is for pure CO2 gas\n",
    "\n",
    "### Alpha particles"
   ]
  },
  {
   "cell_type": "code",
   "execution_count": null,
   "metadata": {
    "collapsed": false
   },
   "outputs": [],
   "source": [
    "co2_data = read_astar('../data/raw/co2_astar.txt')\n",
    "co2_data['proj_mass'] = 4\n",
    "co2_data['proj_charge'] = 2"
   ]
  },
  {
   "cell_type": "code",
   "execution_count": null,
   "metadata": {
    "collapsed": true
   },
   "outputs": [],
   "source": [
    "co2_data.to_sql('carbon_dioxide', gasdb, if_exists='replace')"
   ]
  },
  {
   "cell_type": "code",
   "execution_count": null,
   "metadata": {
    "collapsed": false
   },
   "outputs": [],
   "source": [
    "gdb_curs.execute('INSERT INTO Masses VALUES (\"carbon_dioxide\", 44.01)')\n",
    "gasdb.commit()"
   ]
  },
  {
   "cell_type": "code",
   "execution_count": null,
   "metadata": {
    "collapsed": false
   },
   "outputs": [],
   "source": [
    "co2gas = pytpc.gases.InterpolatedGas('carbon_dioxide', 760)\n",
    "ens = np.logspace(-3, 3, 100)\n",
    "plt.plot(ens, co2gas.energy_loss(ens, 4, 2))\n",
    "plt.loglog()\n",
    "plt.xlabel('Energy [MeV]')\n",
    "plt.ylabel('dE/dx at 760 torr [MeV/m]')"
   ]
  },
  {
   "cell_type": "code",
   "execution_count": null,
   "metadata": {
    "collapsed": false
   },
   "outputs": [],
   "source": [
    "co2gas = pytpc.gases.InterpolatedGas('carbon_dioxide', 760)\n",
    "ens = np.logspace(-3, 3, 100)\n",
    "plt.plot(ens, co2gas.range(ens, 4, 2))\n",
    "plt.loglog()\n",
    "plt.xlabel('Energy [MeV]')\n",
    "plt.ylabel('Range at 760 torr [m]')"
   ]
  },
  {
   "cell_type": "markdown",
   "metadata": {},
   "source": [
    "## (Iso)butane gas\n",
    "\n",
    "### Alpha particles"
   ]
  },
  {
   "cell_type": "code",
   "execution_count": null,
   "metadata": {
    "collapsed": false
   },
   "outputs": [],
   "source": [
    "but_alpha = read_srim('../pytpc/data/raw/srim-he4-butane.txt')\n",
    "but_alpha['proj_mass'] = 4\n",
    "but_alpha['proj_charge'] = 2"
   ]
  },
  {
   "cell_type": "markdown",
   "metadata": {},
   "source": [
    "### Argon-40"
   ]
  },
  {
   "cell_type": "code",
   "execution_count": null,
   "metadata": {
    "collapsed": false
   },
   "outputs": [],
   "source": [
    "but_ar40 = read_srim('../pytpc/data/raw/srim-ar40-butane.txt')\n",
    "but_ar40['proj_mass'] = 40\n",
    "but_ar40['proj_charge'] = 18"
   ]
  },
  {
   "cell_type": "markdown",
   "metadata": {},
   "source": [
    "# Argon-46"
   ]
  },
  {
   "cell_type": "code",
   "execution_count": null,
   "metadata": {
    "collapsed": false
   },
   "outputs": [],
   "source": [
    "but_ar46 = read_srim('../pytpc/data/raw/srim-ar46-butane.txt')\n",
    "but_ar46['proj_mass'] = 46\n",
    "but_ar46['proj_charge'] = 18"
   ]
  },
  {
   "cell_type": "markdown",
   "metadata": {},
   "source": [
    "### Protons"
   ]
  },
  {
   "cell_type": "code",
   "execution_count": null,
   "metadata": {
    "collapsed": false
   },
   "outputs": [],
   "source": [
    "but_p = read_srim('../pytpc/data/raw/srim-p-butane.txt')\n",
    "but_p['proj_mass'] = 1\n",
    "but_p['proj_charge'] = 1"
   ]
  },
  {
   "cell_type": "code",
   "execution_count": null,
   "metadata": {
    "collapsed": true
   },
   "outputs": [],
   "source": [
    "butane = pd.concat((but_alpha, but_ar40, but_ar46, but_p), axis=0)\n",
    "butane.to_sql('isobutane', gasdb, if_exists='replace')"
   ]
  },
  {
   "cell_type": "code",
   "execution_count": null,
   "metadata": {
    "collapsed": false
   },
   "outputs": [],
   "source": [
    "gdb_curs.execute('INSERT INTO Masses VALUES (\"isobutane\", 58.12)')\n",
    "gasdb.commit()"
   ]
  },
  {
   "cell_type": "code",
   "execution_count": null,
   "metadata": {
    "collapsed": false
   },
   "outputs": [],
   "source": [
    "isogas = pytpc.gases.InterpolatedGas('isobutane', 18.)"
   ]
  },
  {
   "cell_type": "code",
   "execution_count": null,
   "metadata": {
    "collapsed": false
   },
   "outputs": [],
   "source": [
    "ens = np.logspace(-2, 2, 100)\n",
    "plt.plot(ens, isogas.energy_loss(ens, 4, 2))\n",
    "plt.plot(ens, isogas.energy_loss(ens, 40, 18))\n",
    "plt.plot(ens, isogas.energy_loss(ens, 46, 18))\n",
    "plt.plot(ens, isogas.energy_loss(ens, 1, 1))\n",
    "plt.loglog()"
   ]
  },
  {
   "cell_type": "markdown",
   "metadata": {},
   "source": [
    "# Gas Mixtures"
   ]
  },
  {
   "cell_type": "markdown",
   "metadata": {},
   "source": [
    "## Helium-CO2 90/10"
   ]
  },
  {
   "cell_type": "code",
   "execution_count": null,
   "metadata": {
    "collapsed": false
   },
   "outputs": [],
   "source": [
    "heco2 = pytpc.gases.InterpolatedGasMixture(760, ('helium', 0.9), ('carbon_dioxide', 0.1))\n",
    "ens = np.logspace(-3, 3, 100)\n",
    "plt.plot(ens, heco2.energy_loss(ens, 4, 2))\n",
    "plt.loglog()\n",
    "plt.xlabel('Energy [MeV]')\n",
    "plt.ylabel('dE/dx at 760 torr [MeV/m]')"
   ]
  },
  {
   "cell_type": "code",
   "execution_count": null,
   "metadata": {
    "collapsed": false
   },
   "outputs": [],
   "source": [
    "ens = np.logspace(-3, 3, 100)\n",
    "plt.plot(ens, heco2.range(ens, 4, 2))\n",
    "plt.loglog()\n",
    "plt.xlabel('Energy [MeV]')\n",
    "plt.ylabel('Range at 760 torr [m]')"
   ]
  },
  {
   "cell_type": "code",
   "execution_count": null,
   "metadata": {
    "collapsed": false
   },
   "outputs": [],
   "source": [
    "ens = np.logspace(-3, 3, 100)\n",
    "plt.plot(ens, hegas.energy_loss(ens, 4, 2), label='Pure He')\n",
    "plt.plot(ens, co2gas.energy_loss(ens, 4, 2), label='Pure CO2')\n",
    "plt.plot(ens, heco2.energy_loss(ens, 4, 2), label='He-CO2 90/10')\n",
    "plt.loglog()\n",
    "plt.xlabel('Energy [MeV]')\n",
    "plt.ylabel('dE/dx at 760 torr [MeV/m]')\n",
    "plt.legend()"
   ]
  },
  {
   "cell_type": "code",
   "execution_count": null,
   "metadata": {
    "collapsed": false
   },
   "outputs": [],
   "source": [
    "ens = np.logspace(-3, 3, 100)\n",
    "plt.plot(ens, hegas.energy_loss(ens, 4, 2)/co2gas.energy_loss(ens, 4, 2))\n",
    "plt.loglog()"
   ]
  },
  {
   "cell_type": "code",
   "execution_count": null,
   "metadata": {
    "collapsed": false
   },
   "outputs": [],
   "source": [
    "ens = np.logspace(-3, 3, 100)\n",
    "plt.plot(ens, hegas.range(ens, 4, 2), label='Pure He')\n",
    "plt.plot(ens, co2gas.range(ens, 4, 2), label='Pure CO2')\n",
    "plt.plot(ens, heco2.range(ens, 4, 2), label='He-CO2 90/10')\n",
    "plt.loglog()\n",
    "plt.xlabel('Energy [MeV]')\n",
    "plt.ylabel('Range at 760 torr [m]')\n",
    "plt.legend(loc=2)\n",
    "# plt.savefig('/Users/josh/Desktop/range_fullpress.pdf', transparent=True)"
   ]
  },
  {
   "cell_type": "code",
   "execution_count": null,
   "metadata": {
    "collapsed": false
   },
   "outputs": [],
   "source": [
    "ens = np.logspace(-3, 3, 100)\n",
    "plt.plot(ens, heco2.components[0][0].energy_loss(ens, 4, 2), \n",
    "         label='Pure Helium at {} torr'.format(heco2.components[0][1] * 760))\n",
    "plt.plot(ens, heco2.components[1][0].energy_loss(ens, 4, 2), \n",
    "         label='Pure CO2 at {} torr'.format(heco2.components[1][1] * 760))\n",
    "plt.plot(ens, heco2.energy_loss(ens, 4, 2), label='He-CO2 90/10 at 760 torr')\n",
    "plt.loglog()\n",
    "plt.xlabel('de/dx [MeV/m]')\n",
    "plt.ylabel('Range [m]')\n",
    "plt.legend(loc=1)"
   ]
  },
  {
   "cell_type": "code",
   "execution_count": null,
   "metadata": {
    "collapsed": false
   },
   "outputs": [],
   "source": [
    "ens = np.logspace(-3, 3, 100)\n",
    "plt.plot(ens, heco2.components[0][0].range(ens, 4, 2), \n",
    "         label='Pure Helium at {} torr'.format(heco2.components[0][1] * 760))\n",
    "plt.plot(ens, heco2.components[1][0].range(ens, 4, 2), \n",
    "         label='Pure CO2 at {} torr'.format(heco2.components[1][1] * 760))\n",
    "plt.plot(ens, heco2.range(ens, 4, 2), label='He-CO2 90/10 at 760 torr')\n",
    "plt.loglog()\n",
    "plt.xlabel('Energy [MeV]')\n",
    "plt.ylabel('Range [m]')\n",
    "plt.legend(loc=2)"
   ]
  },
  {
   "cell_type": "code",
   "execution_count": null,
   "metadata": {
    "collapsed": false
   },
   "outputs": [],
   "source": [
    "plt.plot(ens, heco2.components[0][0].energy_loss(ens, 4, 2) / heco2.components[1][0].energy_loss(ens, 4, 2))\n",
    "plt.semilogx()"
   ]
  },
  {
   "cell_type": "code",
   "execution_count": null,
   "metadata": {
    "collapsed": false
   },
   "outputs": [],
   "source": [
    "%%timeit\n",
    "ens = np.logspace(-3, 3, 500)\n",
    "ranges = heco2.range(ens, 4, 2)\n",
    "heco2_table = pd.DataFrame(np.vstack((ens, ranges)).T, columns=('energy', 'range'))"
   ]
  },
  {
   "cell_type": "code",
   "execution_count": null,
   "metadata": {
    "collapsed": false
   },
   "outputs": [],
   "source": [
    "InterpolatedUnivariateSpline(ranges, ens)"
   ]
  },
  {
   "cell_type": "code",
   "execution_count": null,
   "metadata": {
    "collapsed": false
   },
   "outputs": [],
   "source": [
    "rgs = np.linspace(0, 1, 100)\n",
    "plt.plot(rgs, heco2.inverse_range(rgs, 4, 2))"
   ]
  },
  {
   "cell_type": "code",
   "execution_count": null,
   "metadata": {
    "collapsed": false
   },
   "outputs": [],
   "source": [
    "heco2_table.to_csv('/Users/josh/Desktop/heco2_range_table.csv', index=False)"
   ]
  },
  {
   "cell_type": "markdown",
   "metadata": {},
   "source": [
    "# Comparing SRIM to data"
   ]
  },
  {
   "cell_type": "code",
   "execution_count": null,
   "metadata": {
    "collapsed": true
   },
   "outputs": [],
   "source": [
    "srim_heco_table = read_srim('/Volumes/bradt/Documents/Data/GasData/srim-he-he9co2.txt')\n",
    "heco2 = pytpc.gases.InterpolatedGasMixture(299.5, ('helium', 0.9), ('carbon_dioxide', 0.1))"
   ]
  },
  {
   "cell_type": "code",
   "execution_count": null,
   "metadata": {
    "collapsed": true
   },
   "outputs": [],
   "source": [
    "srim = InterpolatedUnivariateSpline(srim_heco_table.index, srim_heco_table.dedx)"
   ]
  },
  {
   "cell_type": "code",
   "execution_count": null,
   "metadata": {
    "collapsed": false
   },
   "outputs": [],
   "source": [
    "ens = np.logspace(-3, 2, 100)\n",
    "plt.plot(ens, heco2.energy_loss(ens, 4, 2) / heco2.density / 100, label='Weighted Combination')\n",
    "plt.plot(ens, srim(ens), label='SRIM Compound')\n",
    "plt.loglog()\n",
    "plt.xlabel('Stopping Power [MeV/(g/cm^2)]')\n",
    "plt.ylabel('Particle Kinetic Energy [MeV]')\n",
    "plt.legend(loc=3, frameon=True)\n",
    "\n",
    "plt.savefig('/Users/josh/Desktop/srim_plot.pdf')"
   ]
  },
  {
   "cell_type": "code",
   "execution_count": null,
   "metadata": {
    "collapsed": false
   },
   "outputs": [],
   "source": [
    "heco2.density"
   ]
  },
  {
   "cell_type": "code",
   "execution_count": null,
   "metadata": {
    "collapsed": true
   },
   "outputs": [],
   "source": []
  }
 ],
 "metadata": {
  "kernelspec": {
   "display_name": "Python 3",
   "language": "python",
   "name": "python3"
  },
  "language_info": {
   "codemirror_mode": {
    "name": "ipython",
    "version": 3
   },
   "file_extension": ".py",
   "mimetype": "text/x-python",
   "name": "python",
   "nbconvert_exporter": "python",
   "pygments_lexer": "ipython3",
   "version": "3.4.3"
  }
 },
 "nbformat": 4,
 "nbformat_minor": 0
}
