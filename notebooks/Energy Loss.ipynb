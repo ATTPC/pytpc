{
 "cells": [
  {
   "cell_type": "code",
   "execution_count": null,
   "metadata": {
    "collapsed": false
   },
   "outputs": [],
   "source": [
    "%matplotlib inline\n",
    "import matplotlib.pyplot as plt\n",
    "import numpy as np\n",
    "from scipy.interpolate import InterpolatedUnivariateSpline\n",
    "import seaborn as sns\n",
    "import pandas as pd\n",
    "import re\n",
    "import json\n",
    "sns.set_style('darkgrid')"
   ]
  },
  {
   "cell_type": "code",
   "execution_count": null,
   "metadata": {
    "collapsed": false
   },
   "outputs": [],
   "source": [
    "import sys\n",
    "sys.path.append('../../pytpc')\n",
    "import pytpc"
   ]
  },
  {
   "cell_type": "markdown",
   "metadata": {},
   "source": [
    "# Processing ASTAR data into JSON files\n",
    "\n",
    "The data from ASTAR are just in a whitespace-delimited table. It will be easier to load them for interpolation at runtime if they are instead in JSON files (or something else more machine-readable)."
   ]
  },
  {
   "cell_type": "code",
   "execution_count": null,
   "metadata": {
    "collapsed": true
   },
   "outputs": [],
   "source": [
    "def read_astar(fp):\n",
    "    data = []\n",
    "    for line in fp:\n",
    "        elmts = line.strip().split()\n",
    "        if any([re.match(r'\\d*\\.\\d*E[+-]\\d*', x) for x in elmts]):\n",
    "            data.append([float(x) for x in elmts])\n",
    "    return data\n",
    "\n",
    "def make_gas_dict(molar, dedx):\n",
    "    d = {'molar_mass': molar,\n",
    "         'dedx': dedx}\n",
    "    return d"
   ]
  },
  {
   "cell_type": "markdown",
   "metadata": {},
   "source": [
    "## Helium data\n",
    "\n",
    "This is for pure helium gas"
   ]
  },
  {
   "cell_type": "code",
   "execution_count": null,
   "metadata": {
    "collapsed": false
   },
   "outputs": [],
   "source": [
    "with open('../data/raw/helium_astar.txt') as f:\n",
    "    he_dedx = read_astar(f)\n",
    "\n",
    "he_gas_dict = make_gas_dict(4.002, he_dedx)\n",
    "with open('../data/gases/helium.json', 'w') as f:\n",
    "    json.dump(he_gas_dict, f, indent=2)"
   ]
  },
  {
   "cell_type": "code",
   "execution_count": null,
   "metadata": {
    "collapsed": false
   },
   "outputs": [],
   "source": [
    "hegas = pytpc.gases.InterpolatedGas('helium', 760)\n",
    "ens = np.logspace(-3, 3, 100)\n",
    "plt.plot(ens, hegas.energy_loss(ens, 4, 2))\n",
    "plt.loglog()\n",
    "plt.xlabel('Energy [MeV]')\n",
    "plt.ylabel('dE/dx at 760 torr [MeV/m]')"
   ]
  },
  {
   "cell_type": "markdown",
   "metadata": {},
   "source": [
    "## CO2 data\n",
    "\n",
    "This is for pure CO2 gas"
   ]
  },
  {
   "cell_type": "code",
   "execution_count": null,
   "metadata": {
    "collapsed": true
   },
   "outputs": [],
   "source": [
    "with open('../data/raw/co2_astar.txt') as f:\n",
    "    co2_dedx = read_astar(f)\n",
    "\n",
    "co2_gas_dict = make_gas_dict(44.01, co2_dedx)\n",
    "with open('../data/gases/carbon_dioxide.json', 'w') as f:\n",
    "    json.dump(co2_gas_dict, f, indent=2)"
   ]
  },
  {
   "cell_type": "code",
   "execution_count": null,
   "metadata": {
    "collapsed": false
   },
   "outputs": [],
   "source": [
    "co2gas = pytpc.gases.InterpolatedGas('carbon_dioxide', 760)\n",
    "ens = np.logspace(-3, 3, 100)\n",
    "plt.plot(ens, co2gas.energy_loss(ens, 4, 2))\n",
    "plt.loglog()\n",
    "plt.xlabel('Energy [MeV]')\n",
    "plt.ylabel('dE/dx at 760 torr [MeV/m]')"
   ]
  },
  {
   "cell_type": "markdown",
   "metadata": {},
   "source": [
    "# Gas Mixtures"
   ]
  },
  {
   "cell_type": "markdown",
   "metadata": {},
   "source": [
    "## Helium-CO2 90/10"
   ]
  },
  {
   "cell_type": "code",
   "execution_count": null,
   "metadata": {
    "collapsed": false
   },
   "outputs": [],
   "source": [
    "heco2 = pytpc.gases.InterpolatedGasMixture(760, ('helium', 0.9), ('carbon_dioxide', 0.1))\n",
    "ens = np.logspace(-3, 3, 100)\n",
    "plt.plot(ens, heco2.energy_loss(ens, 4, 2))\n",
    "plt.loglog()\n",
    "plt.xlabel('Energy [MeV]')\n",
    "plt.ylabel('dE/dx at 760 torr [MeV/m]')"
   ]
  },
  {
   "cell_type": "code",
   "execution_count": null,
   "metadata": {
    "collapsed": false
   },
   "outputs": [],
   "source": [
    "ens = np.logspace(-3, 3, 100)\n",
    "plt.plot(ens, hegas.energy_loss(ens, 4, 2), label='Pure He')\n",
    "plt.plot(ens, co2gas.energy_loss(ens, 4, 2), label='Pure CO2')\n",
    "plt.plot(ens, heco2.energy_loss(ens, 4, 2), label='He-CO2 90/10')\n",
    "plt.loglog()\n",
    "plt.xlabel('Energy [MeV]')\n",
    "plt.ylabel('dE/dx at 760 torr [MeV/m]')\n",
    "plt.legend()"
   ]
  }
 ],
 "metadata": {
  "kernelspec": {
   "display_name": "Python 3",
   "language": "python",
   "name": "python3"
  },
  "language_info": {
   "codemirror_mode": {
    "name": "ipython",
    "version": 3
   },
   "file_extension": ".py",
   "mimetype": "text/x-python",
   "name": "python",
   "nbconvert_exporter": "python",
   "pygments_lexer": "ipython3",
   "version": "3.4.2"
  }
 },
 "nbformat": 4,
 "nbformat_minor": 0
}
