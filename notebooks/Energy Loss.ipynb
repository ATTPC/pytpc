{
 "cells": [
  {
   "cell_type": "code",
   "execution_count": null,
   "metadata": {
    "collapsed": false
   },
   "outputs": [],
   "source": [
    "%matplotlib inline\n",
    "import matplotlib.pyplot as plt\n",
    "import numpy as np\n",
    "import seaborn as sns\n",
    "import pandas as pd\n",
    "import re\n",
    "sns.set_style('darkgrid')"
   ]
  },
  {
   "cell_type": "code",
   "execution_count": null,
   "metadata": {
    "collapsed": false
   },
   "outputs": [],
   "source": [
    "import sys\n",
    "sys.path.append('../../pytpc')\n",
    "import pytpc"
   ]
  },
  {
   "cell_type": "markdown",
   "metadata": {},
   "source": [
    "# Calculation of Energy Loss formula for He-CO2 90/10\n",
    "\n",
    "I found this by averaging together data from helium and CO2.\n",
    "\n",
    "## ASTAR data\n",
    "\n",
    "This data is from http://physics.nist.gov/PhysRefData/Star/Text/ASTAR.html. I believe it's experimental data, but it seems to be close enough either way."
   ]
  },
  {
   "cell_type": "code",
   "execution_count": null,
   "metadata": {
    "collapsed": false
   },
   "outputs": [],
   "source": [
    "with open('../data/helium.txt') as f:\n",
    "    hedata = []\n",
    "    for line in f:\n",
    "        elmts = line.strip().split()\n",
    "        if any([re.match(r'\\d*\\.\\d*E[+-]\\d*', x) for x in elmts]):\n",
    "            hedata.append([float(x) for x in elmts])\n",
    "    hedata = pd.DataFrame(hedata, columns=('energy', 'dedx'))"
   ]
  },
  {
   "cell_type": "code",
   "execution_count": null,
   "metadata": {
    "collapsed": false
   },
   "outputs": [],
   "source": [
    "with open('../data/co2.txt') as f:\n",
    "    codata = []\n",
    "    for line in f:\n",
    "        elmts = line.strip().split()\n",
    "        if any([re.match(r'\\d*\\.\\d*E[+-]\\d*', x) for x in elmts]):\n",
    "            codata.append([float(x) for x in elmts])\n",
    "    codata = np.array(codata)\n",
    "    codata = pd.DataFrame(codata, columns=('energy', 'dedx'))"
   ]
  },
  {
   "cell_type": "markdown",
   "metadata": {},
   "source": [
    "The contribution from each gas is about the same, if we look just at stopping power in MeV / (g/cm^2)."
   ]
  },
  {
   "cell_type": "code",
   "execution_count": null,
   "metadata": {
    "collapsed": false,
    "scrolled": true
   },
   "outputs": [],
   "source": [
    "plt.plot(hedata.energy, hedata.dedx, label='ASTAR He')\n",
    "plt.plot(codata.energy, codata.dedx, label='ASTAR CO2')\n",
    "plt.loglog()\n",
    "plt.legend()\n",
    "plt.xlabel('Energy [MeV]')\n",
    "plt.ylabel('Stopping Power [MeV/(g/cm^2)]');"
   ]
  },
  {
   "cell_type": "markdown",
   "metadata": {},
   "source": [
    "However, the densities are quite different (by an order of magnitude!), so I'll find the weighted average using the density at each gas's partial pressure as the weighting factor.\n",
    "\n",
    "## Weighted Average"
   ]
  },
  {
   "cell_type": "code",
   "execution_count": null,
   "metadata": {
    "collapsed": false
   },
   "outputs": [],
   "source": [
    "def density(pressure, molar_mass):\n",
    "    \"\"\"Find density in g/cm^3 from pressure in Torr \n",
    "    and molar mass in g/mol\n",
    "    \"\"\"\n",
    "    return pressure / 760. * molar_mass / 24040.\n",
    "\n",
    "hemass = 4.002\n",
    "co2mass = 44.01\n",
    "avgmass = hemass * 0.9 + co2mass * 0.1\n",
    "\n",
    "hecodata = pd.DataFrame()\n",
    "hecodata['energy'] = hedata.energy\n",
    "hecodata['dedx'] = ((hedata.dedx * density(760*0.9, hemass) + codata.dedx * density(760*0.1, co2mass))\n",
    "                    / density(760, avgmass))"
   ]
  },
  {
   "cell_type": "markdown",
   "metadata": {},
   "source": [
    "Here's a plot of each gas's contribution to the stopping power (in MeV/m, this time). This is for a total pressure of 760 torr. It appears that the partial pressure of CO2 (10% of the total gas pressure) contributes nearly as much as the helium does (the other 90%). This implies that just using helium gas in the simulation causes an error of about a factor of 2 in the energy loss."
   ]
  },
  {
   "cell_type": "code",
   "execution_count": null,
   "metadata": {
    "collapsed": false
   },
   "outputs": [],
   "source": [
    "plt.plot(hedata.energy, hedata.dedx * density(760*0.9, hemass) * 100, label='ASTAR He')\n",
    "plt.plot(codata.energy, codata.dedx * density(760*0.1, co2mass) * 100, label='ASTAR CO2')\n",
    "plt.plot(hecodata.energy, hecodata.dedx * density(760, avgmass) * 100, label='Weighted Mean')\n",
    "plt.loglog()\n",
    "plt.legend()\n",
    "plt.ylabel('Stopping Power [MeV/m]')\n",
    "plt.xlabel('Energy [MeV]');"
   ]
  },
  {
   "cell_type": "markdown",
   "metadata": {},
   "source": [
    "## Fitting the weighted average\n",
    "\n",
    "First I'll take a subset of the data, since we don't need it to fit well above a certain energy."
   ]
  },
  {
   "cell_type": "code",
   "execution_count": null,
   "metadata": {
    "collapsed": false
   },
   "outputs": [],
   "source": [
    "fitdata = hecodata.copy()\n",
    "fitdata.index = fitdata.energy\n",
    "fitdata.drop('energy', 1, inplace=True)\n",
    "fitdata = fitdata.loc[0.01:20.0]"
   ]
  },
  {
   "cell_type": "code",
   "execution_count": null,
   "metadata": {
    "collapsed": false
   },
   "outputs": [],
   "source": [
    "fitdata.plot()"
   ]
  },
  {
   "cell_type": "code",
   "execution_count": null,
   "metadata": {
    "collapsed": true
   },
   "outputs": [],
   "source": [
    "from scipy.optimize import curve_fit\n",
    "from numpy import exp"
   ]
  },
  {
   "cell_type": "markdown",
   "metadata": {},
   "source": [
    "The fit function is below:\n",
    "\n",
    "$$\n",
    "    f(x) = \\frac{a}{x^b} \\frac{1}{c + d\\,x^{-e}} + f \\exp(-g (x-h)^2)\n",
    "$$\n",
    "\n",
    "This came from Wolfi's Fortran program."
   ]
  },
  {
   "cell_type": "code",
   "execution_count": null,
   "metadata": {
    "collapsed": true
   },
   "outputs": [],
   "source": [
    "def f(en, a, b, c, d, e, f, g, h):\n",
    "    return a*(1./en**b)*(1./(c+d/(en**e))) + f*exp(-g*(en-h)**2)"
   ]
  },
  {
   "cell_type": "markdown",
   "metadata": {},
   "source": [
    "Guess some parameters"
   ]
  },
  {
   "cell_type": "code",
   "execution_count": null,
   "metadata": {
    "collapsed": false
   },
   "outputs": [],
   "source": [
    "plt.plot(fitdata.index, [f(x, *[300., 0.18, 0.8, 1, 1.5, 0.5, 300., 1.5]) for x in fitdata.index])\n",
    "plt.plot(fitdata.index, fitdata.dedx, '.')\n",
    "plt.loglog()"
   ]
  },
  {
   "cell_type": "markdown",
   "metadata": {},
   "source": [
    "Perform the actual fit"
   ]
  },
  {
   "cell_type": "code",
   "execution_count": null,
   "metadata": {
    "collapsed": false
   },
   "outputs": [],
   "source": [
    "popt, pcov = curve_fit(f, fitdata.index.values, fitdata.dedx.values, p0=[300., 0.18, 0.8, 1, 1.5, 0.5, 300., 1.5])\n",
    "plt.plot(hecodata.energy, [f(x, *popt) for x in hecodata.energy])\n",
    "plt.plot(hecodata.energy, hecodata.dedx, '.')\n",
    "plt.loglog()\n",
    "plt.xlim(0.001, 20)"
   ]
  },
  {
   "cell_type": "code",
   "execution_count": null,
   "metadata": {
    "collapsed": false
   },
   "outputs": [],
   "source": [
    "popt  # These are the optimal parameters"
   ]
  },
  {
   "cell_type": "markdown",
   "metadata": {
    "collapsed": true
   },
   "source": [
    "## SRIM CO2 Data\n",
    "\n",
    "I didn't use this in the fit, but it's here for future reference"
   ]
  },
  {
   "cell_type": "code",
   "execution_count": null,
   "metadata": {
    "collapsed": false
   },
   "outputs": [],
   "source": [
    "with open('/Users/josh/Documents/Data/GasData/srim-co2.txt') as f:\n",
    "    in_header = True\n",
    "    while in_header:\n",
    "        litems = f.readline().strip().split()\n",
    "        if all([re.match(r'-+', x) for x in litems]) and len(litems) == 6:\n",
    "            in_header = False\n",
    "    \n",
    "    srimdat = []\n",
    "    while True:\n",
    "        litems = f.readline().strip().split()\n",
    "        if len(litems) == 1 and re.match(r'-+', litems[0]):\n",
    "            break\n",
    "        en, en_u, dedx_elec, dedx_nuc, *junk = litems\n",
    "        if en_u == 'keV':\n",
    "            en = float(en) * 1e-3\n",
    "        elif en_u == 'MeV':\n",
    "            en = float(en)\n",
    "        else:\n",
    "            raise ValueError('energy units?')\n",
    "        \n",
    "        dedx_elec = float(dedx_elec) * 1000\n",
    "        dedx_nuc = float(dedx_nuc) * 1000\n",
    "        \n",
    "        srimdat.append([en, dedx_elec + dedx_nuc])\n",
    "    \n",
    "    srimdat = pd.DataFrame(srimdat, columns=['energy', 'dedx'])"
   ]
  },
  {
   "cell_type": "code",
   "execution_count": null,
   "metadata": {
    "collapsed": false
   },
   "outputs": [],
   "source": [
    "plt.plot(codata.energy, codata.dedx, label='ASTAR CO2')\n",
    "plt.plot(srimdat.energy, srimdat.dedx, label='SRIM CO2')\n",
    "plt.plot(hedata.energy, hedata.dedx, label='ASTAR He')\n",
    "plt.plot(codata.energy, co2stop(codata.energy), label='Brendle CO2 fit')\n",
    "plt.plot(simdat.energy, simdat.dedx, 'k--', label='Simulation Data')\n",
    "plt.loglog();\n",
    "plt.legend();\n",
    "plt.xlabel('Energy [MeV]')\n",
    "plt.ylabel('Stopping Power [MeV/(g/cm^2)]');\n",
    "plt.savefig('/Users/josh/Desktop/stop.pdf')"
   ]
  },
  {
   "cell_type": "markdown",
   "metadata": {
    "collapsed": true
   },
   "source": [
    "# Simulated range\n",
    "\n",
    "Use this to check the results"
   ]
  },
  {
   "cell_type": "code",
   "execution_count": null,
   "metadata": {
    "collapsed": false
   },
   "outputs": [],
   "source": [
    "pt = pytpc.Particle(4, 2, energy_per_particle=6/4.)\n",
    "heco = pytpc.gases.HeCO2Gas(153.)\n",
    "he = pytpc.gases.HeliumGas(153.)\n",
    "ef = np.array([0, 0, 15e3])\n",
    "bf = np.zeros(3)\n",
    "\n",
    "simres = pytpc.track(pt, he, ef, bf)\n",
    "\n",
    "pt.energy = 6\n",
    "pt.position = np.array((0, 0, 0))\n",
    "simres2 = pytpc.track(pt, heco, ef, bf)"
   ]
  },
  {
   "cell_type": "code",
   "execution_count": null,
   "metadata": {
    "collapsed": false
   },
   "outputs": [],
   "source": [
    "plt.plot(simres['pos'][:, 2], simres['en']*pt.mass_num)\n",
    "plt.plot(simres2['pos'][:, 2], simres2['en']*pt.mass_num)"
   ]
  },
  {
   "cell_type": "code",
   "execution_count": null,
   "metadata": {
    "collapsed": true
   },
   "outputs": [],
   "source": []
  }
 ],
 "metadata": {
  "kernelspec": {
   "display_name": "Python 3",
   "language": "python",
   "name": "python3"
  },
  "language_info": {
   "codemirror_mode": {
    "name": "ipython",
    "version": 3
   },
   "file_extension": ".py",
   "mimetype": "text/x-python",
   "name": "python",
   "nbconvert_exporter": "python",
   "pygments_lexer": "ipython3",
   "version": "3.4.2"
  }
 },
 "nbformat": 4,
 "nbformat_minor": 0
}
