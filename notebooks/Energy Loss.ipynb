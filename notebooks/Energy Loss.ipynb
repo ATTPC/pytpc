{
 "cells": [
  {
   "cell_type": "code",
   "execution_count": null,
   "metadata": {
    "collapsed": false
   },
   "outputs": [],
   "source": [
    "%matplotlib inline\n",
    "import matplotlib.pyplot as plt\n",
    "import numpy as np\n",
    "import seaborn as sns\n",
    "import pandas as pd\n",
    "sns.set_style('darkgrid')"
   ]
  },
  {
   "cell_type": "code",
   "execution_count": null,
   "metadata": {
    "collapsed": false
   },
   "outputs": [],
   "source": [
    "import sys\n",
    "sys.path.append('../../pytpc')\n",
    "import pytpc"
   ]
  },
  {
   "cell_type": "markdown",
   "metadata": {},
   "source": [
    "# Simulated data"
   ]
  },
  {
   "cell_type": "code",
   "execution_count": null,
   "metadata": {
    "collapsed": true
   },
   "outputs": [],
   "source": [
    "pt = pytpc.Particle(4., 2., 3.)"
   ]
  },
  {
   "cell_type": "code",
   "execution_count": null,
   "metadata": {
    "collapsed": false
   },
   "outputs": [],
   "source": [
    "gas = pytpc.gases.HeliumGas(150.-15.)"
   ]
  },
  {
   "cell_type": "code",
   "execution_count": null,
   "metadata": {
    "collapsed": false
   },
   "outputs": [],
   "source": [
    "dedx = []\n",
    "for e in np.logspace(-3, 3, 50):\n",
    "    pt.energy = e\n",
    "    dedx.append([e, gas.energy_loss(e, pt.mass_num, pt.charge_num) / 100 / gas.density])\n",
    "simdat = pd.DataFrame(dedx, columns=('energy', 'dedx'))"
   ]
  },
  {
   "cell_type": "code",
   "execution_count": null,
   "metadata": {
    "collapsed": false
   },
   "outputs": [],
   "source": [
    "plt.plot(simdat.energy, simdat.dedx)\n",
    "plt.ylabel('dE/dx [MeV/(g/cm^2)]')\n",
    "plt.xlabel('Particle Energy [MeV]')"
   ]
  },
  {
   "cell_type": "code",
   "execution_count": null,
   "metadata": {
    "collapsed": false
   },
   "outputs": [],
   "source": [
    "gas.energy_loss(10, 4, 2)"
   ]
  },
  {
   "cell_type": "code",
   "execution_count": null,
   "metadata": {
    "collapsed": false
   },
   "outputs": [],
   "source": [
    "gas.density"
   ]
  },
  {
   "cell_type": "code",
   "execution_count": null,
   "metadata": {
    "collapsed": false
   },
   "outputs": [],
   "source": [
    "oldgas = pytpc.Gas(4, 2, 41.8, 150)\n",
    "oldgas.energy_loss(10, 4, 2)"
   ]
  },
  {
   "cell_type": "markdown",
   "metadata": {},
   "source": [
    "# ASTAR data"
   ]
  },
  {
   "cell_type": "code",
   "execution_count": null,
   "metadata": {
    "collapsed": true
   },
   "outputs": [],
   "source": [
    "import re\n",
    "import pandas as pd"
   ]
  },
  {
   "cell_type": "code",
   "execution_count": null,
   "metadata": {
    "collapsed": false
   },
   "outputs": [],
   "source": [
    "with open('/Users/josh/Documents/Data/GasData/helium.txt') as f:\n",
    "    hedata = []\n",
    "    for line in f:\n",
    "        elmts = line.strip().split()\n",
    "        if any([re.match(r'\\d*\\.\\d*E[+-]\\d*', x) for x in elmts]):\n",
    "            hedata.append([float(x) for x in elmts])\n",
    "    hedata = pd.DataFrame(hedata, columns=('energy', 'dedx'))"
   ]
  },
  {
   "cell_type": "code",
   "execution_count": null,
   "metadata": {
    "collapsed": false
   },
   "outputs": [],
   "source": [
    "with open('/Users/josh/Documents/Data/GasData/co2.txt') as f:\n",
    "    codata = []\n",
    "    for line in f:\n",
    "        elmts = line.strip().split()\n",
    "        if any([re.match(r'\\d*\\.\\d*E[+-]\\d*', x) for x in elmts]):\n",
    "            codata.append([float(x) for x in elmts])\n",
    "    codata = np.array(codata)\n",
    "    codata = pd.DataFrame(codata, columns=('energy', 'dedx'))"
   ]
  },
  {
   "cell_type": "code",
   "execution_count": null,
   "metadata": {
    "collapsed": false,
    "scrolled": true
   },
   "outputs": [],
   "source": [
    "plt.plot(hedata.energy, hedata.dedx)\n",
    "plt.plot(codata.energy, codata.dedx)\n",
    "plt.plot(simdat.energy, simdat.dedx)\n",
    "plt.loglog();"
   ]
  },
  {
   "cell_type": "code",
   "execution_count": null,
   "metadata": {
    "collapsed": true
   },
   "outputs": [],
   "source": [
    "def hepoly(e):\n",
    "    a0 = -5.083e-2\n",
    "    a1 = 2.502e-1\n",
    "    a2 = 6.796e-2\n",
    "    a3 = 1.620e-3\n",
    "    return a0 + a1 * e + a2 * e**2 + a3 * e**3\n",
    "\n",
    "def hestop(e):\n",
    "    return 1000 / (0.2502 + 0.13592*e + 0.00486*e**2)\n",
    "\n",
    "def co2poly(e):\n",
    "    a0 = 4.848e-3\n",
    "    a1 = 4.516e-1\n",
    "    a2 = 7.192e-3\n",
    "    a3 = 2.587e-2\n",
    "    a4 = -2.400e-3\n",
    "    return a0 + a1 * e + a2 * e**2 + a3 * e**3 + a4 * e**4\n",
    "\n",
    "def co2stop(e):\n",
    "    return 1000 / (0.4516 + 0.014384*e + 0.07761*e**2 - 0.0096*e**3)"
   ]
  },
  {
   "cell_type": "code",
   "execution_count": null,
   "metadata": {
    "collapsed": false
   },
   "outputs": [],
   "source": [
    "xs = np.linspace(0.5, 5.3, 50)\n",
    "plt.plot(xs, hestop(xs), label='Brendle')\n",
    "plt.plot(hedata.energy, hedata.dedx, label='ASTAR')\n",
    "plt.plot(simdat.energy, simdat.dedx, label='Wolfi')\n",
    "plt.xlim(0.1, 100)\n",
    "plt.loglog()\n",
    "plt.legend()"
   ]
  },
  {
   "cell_type": "code",
   "execution_count": null,
   "metadata": {
    "collapsed": false
   },
   "outputs": [],
   "source": [
    "plt.plot(xs, co2stop(xs), label='Brendle')\n",
    "plt.plot(codata.energy, codata.dedx, label='ASTAR')\n",
    "plt.legend()\n",
    "plt.loglog()"
   ]
  },
  {
   "cell_type": "code",
   "execution_count": null,
   "metadata": {
    "collapsed": false
   },
   "outputs": [],
   "source": [
    "co2stop(1000)"
   ]
  },
  {
   "cell_type": "code",
   "execution_count": null,
   "metadata": {
    "collapsed": true
   },
   "outputs": [],
   "source": []
  }
 ],
 "metadata": {
  "kernelspec": {
   "display_name": "Python 3",
   "language": "python",
   "name": "python3"
  },
  "language_info": {
   "codemirror_mode": {
    "name": "ipython",
    "version": 3
   },
   "file_extension": ".py",
   "mimetype": "text/x-python",
   "name": "python",
   "nbconvert_exporter": "python",
   "pygments_lexer": "ipython3",
   "version": "3.4.2"
  }
 },
 "nbformat": 4,
 "nbformat_minor": 0
}
