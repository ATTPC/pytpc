{
 "cells": [
  {
   "cell_type": "code",
   "execution_count": null,
   "metadata": {
    "collapsed": false
   },
   "outputs": [],
   "source": [
    "%matplotlib inline\n",
    "import matplotlib.pyplot as plt\n",
    "import numpy as np\n",
    "import seaborn as sns"
   ]
  },
  {
   "cell_type": "code",
   "execution_count": null,
   "metadata": {
    "collapsed": false
   },
   "outputs": [],
   "source": [
    "import sys\n",
    "sys.path.append('../../pytpc')\n",
    "import pytpc"
   ]
  },
  {
   "cell_type": "markdown",
   "metadata": {},
   "source": [
    "# Simulated data"
   ]
  },
  {
   "cell_type": "code",
   "execution_count": null,
   "metadata": {
    "collapsed": true
   },
   "outputs": [],
   "source": [
    "pt = pytpc.Particle(4., 2., 3.)"
   ]
  },
  {
   "cell_type": "code",
   "execution_count": null,
   "metadata": {
    "collapsed": false
   },
   "outputs": [],
   "source": [
    "gas = pytpc.gases.HeliumGas(150.)"
   ]
  },
  {
   "cell_type": "code",
   "execution_count": null,
   "metadata": {
    "collapsed": false
   },
   "outputs": [],
   "source": [
    "dedx = []\n",
    "for e in np.linspace(0., 20., 100):\n",
    "    pt.energy = e\n",
    "    dedx.append([e, gas.energy_loss(e, pt.mass_num, pt.charge_num) / 100 / gas.density])\n",
    "simdat = pd.DataFrame(dedx, columns=('energy', 'dedx'))"
   ]
  },
  {
   "cell_type": "code",
   "execution_count": null,
   "metadata": {
    "collapsed": false
   },
   "outputs": [],
   "source": [
    "plt.plot(simdat.energy, simdat.dedx)\n",
    "plt.ylabel('dE/dx [MeV/(g/cm^2)]')\n",
    "plt.xlabel('Particle Energy [MeV]')"
   ]
  },
  {
   "cell_type": "markdown",
   "metadata": {},
   "source": [
    "# ASTAR data"
   ]
  },
  {
   "cell_type": "code",
   "execution_count": null,
   "metadata": {
    "collapsed": true
   },
   "outputs": [],
   "source": [
    "import re\n",
    "import pandas as pd"
   ]
  },
  {
   "cell_type": "code",
   "execution_count": null,
   "metadata": {
    "collapsed": false
   },
   "outputs": [],
   "source": [
    "with open('/Users/josh/Documents/Data/GasData/helium.txt') as f:\n",
    "    hedata = []\n",
    "    for line in f:\n",
    "        elmts = line.strip().split()\n",
    "        if any([re.match(r'\\d*\\.\\d*E[+-]\\d*', x) for x in elmts]):\n",
    "            hedata.append([float(x) for x in elmts])\n",
    "    hedata = pd.DataFrame(hedata, columns=('energy', 'dedx'))"
   ]
  },
  {
   "cell_type": "code",
   "execution_count": null,
   "metadata": {
    "collapsed": false
   },
   "outputs": [],
   "source": [
    "with open('/Users/josh/Documents/Data/GasData/co2.txt') as f:\n",
    "    codata = []\n",
    "    for line in f:\n",
    "        elmts = line.strip().split()\n",
    "        if any([re.match(r'\\d*\\.\\d*E[+-]\\d*', x) for x in elmts]):\n",
    "            codata.append([float(x) for x in elmts])\n",
    "    codata = np.array(codata)\n",
    "    codata = pd.DataFrame(codata, columns=('energy', 'dedx'))"
   ]
  },
  {
   "cell_type": "code",
   "execution_count": null,
   "metadata": {
    "collapsed": false,
    "scrolled": true
   },
   "outputs": [],
   "source": [
    "plt.plot(hedata.energy, hedata.dedx)\n",
    "plt.plot(codata.energy, codata.dedx)\n",
    "plt.plot(simdat.energy, simdat.dedx)\n",
    "plt.loglog();"
   ]
  },
  {
   "cell_type": "code",
   "execution_count": null,
   "metadata": {
    "collapsed": true
   },
   "outputs": [],
   "source": []
  }
 ],
 "metadata": {
  "kernelspec": {
   "display_name": "Python 3",
   "language": "python",
   "name": "python3"
  },
  "language_info": {
   "codemirror_mode": {
    "name": "ipython",
    "version": 3
   },
   "file_extension": ".py",
   "mimetype": "text/x-python",
   "name": "python",
   "nbconvert_exporter": "python",
   "pygments_lexer": "ipython3",
   "version": "3.4.2"
  }
 },
 "nbformat": 4,
 "nbformat_minor": 0
}
