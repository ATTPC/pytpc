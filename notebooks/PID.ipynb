{
 "cells": [
  {
   "cell_type": "code",
   "execution_count": null,
   "metadata": {
    "collapsed": true
   },
   "outputs": [],
   "source": [
    "%matplotlib inline"
   ]
  },
  {
   "cell_type": "code",
   "execution_count": null,
   "metadata": {
    "collapsed": false
   },
   "outputs": [],
   "source": [
    "from IPython.parallel import Client\n",
    "rc = Client()\n",
    "dv = rc[:]"
   ]
  },
  {
   "cell_type": "code",
   "execution_count": null,
   "metadata": {
    "collapsed": false
   },
   "outputs": [],
   "source": [
    "%%px --local\n",
    "import sys\n",
    "sys.path.append('/Users/josh/Documents/Code/pytpc')"
   ]
  },
  {
   "cell_type": "code",
   "execution_count": null,
   "metadata": {
    "collapsed": false
   },
   "outputs": [],
   "source": [
    "%%px --local\n",
    "import numpy as np\n",
    "import pandas as pd\n",
    "import matplotlib.pyplot as plt\n",
    "import pytpc\n",
    "from pytpc.constants import *\n",
    "import seaborn as sns"
   ]
  },
  {
   "cell_type": "code",
   "execution_count": null,
   "metadata": {
    "collapsed": true
   },
   "outputs": [],
   "source": [
    "from scipy.stats import zscore\n",
    "from matplotlib.colors import LogNorm"
   ]
  },
  {
   "cell_type": "code",
   "execution_count": null,
   "metadata": {
    "collapsed": true
   },
   "outputs": [],
   "source": [
    "%%px --local\n",
    "from scipy.interpolate import UnivariateSpline\n",
    "from scipy.integrate import quad"
   ]
  },
  {
   "cell_type": "code",
   "execution_count": null,
   "metadata": {
    "collapsed": false
   },
   "outputs": [],
   "source": [
    "sns.set_style('white')"
   ]
  },
  {
   "cell_type": "code",
   "execution_count": null,
   "metadata": {
    "collapsed": false
   },
   "outputs": [],
   "source": [
    "%%px --local\n",
    "tilt = 7*degrees\n",
    "clock = 6.25\n",
    "shape = 332\n",
    "vd_mag = -2.8\n",
    "\n",
    "emag = 15e3\n",
    "bmag = 0.5\n",
    "ef, bf = pytpc.utilities.create_fields(emag, bmag, tilt)\n",
    "\n",
    "vd = pytpc.simulation.drift_velocity_vector(vd_mag, emag, bmag, tilt)\n",
    "\n",
    "pads = pytpc.generate_pad_plane()"
   ]
  },
  {
   "cell_type": "code",
   "execution_count": null,
   "metadata": {
    "collapsed": false
   },
   "outputs": [],
   "source": [
    "%%px --local\n",
    "def do_simulate(pmass, pchg, pen, pazi, ppol):\n",
    "    proj = pytpc.Particle(pmass, pchg, pen, position=(0, 0, 1.0), azimuth=pazi, polar=ppol)\n",
    "    gas = pytpc.gases.GenericGas(4, 600., 2, 41.8)\n",
    "\n",
    "    simres = pytpc.track(proj, gas, ef, bf)\n",
    "\n",
    "    evt = pytpc.evtdata.make_event(simres[['x', 'y', 'z']].values * 1e3, simres['de'].values, clock, vd, 40., \n",
    "                                   proj.mass_num, shape, offset=100)\n",
    "    \n",
    "    return evt"
   ]
  },
  {
   "cell_type": "code",
   "execution_count": null,
   "metadata": {
    "collapsed": false
   },
   "outputs": [],
   "source": [
    "%%px --local\n",
    "def run_event(pvec):\n",
    "    try:\n",
    "        evt = do_simulate(pvec.mass_in, pvec.chg_in, pvec.en_in, pvec.azi_in, pvec.pol_in)\n",
    "        tot_en = evt.traces['data'].sum()\n",
    "        fpts = pd.DataFrame(evt.xyzs(vd, clock, pads, peaks_only=True), \n",
    "                            columns=('x', 'y', 'z', 'a')).sort('z', ascending=True)\n",
    "        splx = UnivariateSpline(fpts.z.values, fpts.x.values, s=len(fpts)*3)\n",
    "        sply = UnivariateSpline(fpts.z.values, fpts.y.values, s=len(fpts)*3)\n",
    "        dsplx = splx.derivative()\n",
    "        dsply = sply.derivative()\n",
    "        xmin, xmax = fpts.z.min(), fpts.z.max()\n",
    "        trlen = quad(lambda z: np.sqrt(dsplx(z)**2 + dsply(z)**2 + 1), xmin, xmax)[0]\n",
    "        \n",
    "    except Exception as e:\n",
    "        print(type(e), e)\n",
    "        return np.nan, np.nan\n",
    "    else:\n",
    "        return trlen, tot_en"
   ]
  },
  {
   "cell_type": "markdown",
   "metadata": {},
   "source": [
    "# Parameter generation"
   ]
  },
  {
   "cell_type": "code",
   "execution_count": null,
   "metadata": {
    "collapsed": true
   },
   "outputs": [],
   "source": [
    "ptypes = {'1H': {'mass': 1, 'charge': 1},\n",
    "          '2H': {'mass': 2, 'charge': 1},\n",
    "          '3H': {'mass': 3, 'charge': 1},\n",
    "          '3He': {'mass': 3, 'charge': 2},\n",
    "          '4He': {'mass': 4, 'charge': 2},\n",
    "          '4Li': {'mass': 4, 'charge': 3},\n",
    "          '5Li': {'mass': 5, 'charge': 3},\n",
    "          '6Li': {'mass': 6, 'charge': 3},\n",
    "          '6Be': {'mass': 6, 'charge': 4},\n",
    "          '7Be': {'mass': 7, 'charge': 4},\n",
    "          '8B' : {'mass': 8, 'charge': 5},\n",
    "          '10B': {'mass': 10, 'charge': 5},\n",
    "          '12C': {'mass': 12, 'charge': 6},\n",
    "          '14C': {'mass': 14, 'charge': 6},\n",
    "          '14N': {'mass': 14, 'charge': 7},\n",
    "          '15N': {'mass': 15, 'charge': 7},\n",
    "          '15O': {'mass': 15, 'charge': 8},\n",
    "          '16O': {'mass': 16,  'charge': 8}}"
   ]
  },
  {
   "cell_type": "code",
   "execution_count": null,
   "metadata": {
    "collapsed": false
   },
   "outputs": [],
   "source": [
    "neach = 100\n",
    "ntypes = len(ptypes)\n",
    "nevts = neach * ntypes\n",
    "params = pd.DataFrame(columns=('name', 'mass_in', 'chg_in', 'en_in', 'azi_in', 'pol_in'), index=range(nevts))\n",
    "for i, (n, p) in enumerate(ptypes.items()):\n",
    "    print(i, n, p)\n",
    "    params.mass_in.iloc[i*neach:(i+1)*neach] = np.full(neach, p['mass'])\n",
    "    params.chg_in.iloc[i*neach:(i+1)*neach] = np.full(neach, p['charge'])\n",
    "    params.name.iloc[i*neach:(i+1)*neach] = [n] * neach\n",
    "params.en_in = np.random.normal(2, 0.1, nevts)\n",
    "params.azi_in = np.random.uniform(0, 2*pi, nevts)\n",
    "params.pol_in = np.random.uniform(pi-pi/4, pi, nevts)"
   ]
  },
  {
   "cell_type": "markdown",
   "metadata": {},
   "source": [
    "---"
   ]
  },
  {
   "cell_type": "markdown",
   "metadata": {},
   "source": [
    "# Running"
   ]
  },
  {
   "cell_type": "code",
   "execution_count": null,
   "metadata": {
    "collapsed": false
   },
   "outputs": [],
   "source": [
    "rawres = dv.map_sync(lambda x: run_event(x[1]), params.iterrows())\n",
    "piddat = pd.concat((params, pd.DataFrame(rawres, columns=('tracklen', 'total_en'))), axis=1)\n",
    "piddat['mean_dedx'] = piddat.total_en / piddat.tracklen\n",
    "piddat.to_pickle('piddat.p')"
   ]
  },
  {
   "cell_type": "code",
   "execution_count": null,
   "metadata": {
    "collapsed": true
   },
   "outputs": [],
   "source": [
    "piddat = pd.read_pickle('piddat.p')"
   ]
  },
  {
   "cell_type": "code",
   "execution_count": null,
   "metadata": {
    "collapsed": false
   },
   "outputs": [],
   "source": [
    "piddat = piddat.dropna()"
   ]
  },
  {
   "cell_type": "code",
   "execution_count": null,
   "metadata": {
    "collapsed": false
   },
   "outputs": [],
   "source": [
    "piddat = piddat[zscore(piddat.tracklen) < 3]"
   ]
  },
  {
   "cell_type": "code",
   "execution_count": null,
   "metadata": {
    "collapsed": false
   },
   "outputs": [],
   "source": [
    "pal = sns.choose_colorbrewer_palette('qualitative')"
   ]
  },
  {
   "cell_type": "code",
   "execution_count": null,
   "metadata": {
    "collapsed": true
   },
   "outputs": [],
   "source": [
    "piddat['ZoA_ratio'] = piddat.chg_in / piddat.mass_in"
   ]
  },
  {
   "cell_type": "code",
   "execution_count": null,
   "metadata": {
    "collapsed": true
   },
   "outputs": [],
   "source": [
    "piddat['entot_in'] = piddat.en_in * piddat.mass_in"
   ]
  },
  {
   "cell_type": "code",
   "execution_count": null,
   "metadata": {
    "collapsed": false
   },
   "outputs": [],
   "source": [
    "piddat['sqrten'] = piddat.total_en"
   ]
  },
  {
   "cell_type": "code",
   "execution_count": null,
   "metadata": {
    "collapsed": false
   },
   "outputs": [],
   "source": [
    "g = sns.FacetGrid(piddat, hue=\"name\", size=8)\n",
    "g.map(plt.scatter, 'mean_dedx', 'total_en', s=50, alpha=0.7, linewidth=.5, edgecolor=\"white\")\n",
    "g.add_legend();"
   ]
  },
  {
   "cell_type": "code",
   "execution_count": null,
   "metadata": {
    "collapsed": false
   },
   "outputs": [],
   "source": [
    "plt.hexbin(piddat.total_en, piddat.tracklen, cmap='BuGn')"
   ]
  },
  {
   "cell_type": "markdown",
   "metadata": {},
   "source": [
    "---"
   ]
  },
  {
   "cell_type": "code",
   "execution_count": null,
   "metadata": {
    "collapsed": false
   },
   "outputs": [],
   "source": [
    "evt = do_simulate(*params.iloc[2][1:])"
   ]
  },
  {
   "cell_type": "code",
   "execution_count": null,
   "metadata": {
    "collapsed": false
   },
   "outputs": [],
   "source": [
    "plt.plot(evt.traces['data'].sum(0))"
   ]
  },
  {
   "cell_type": "code",
   "execution_count": null,
   "metadata": {
    "collapsed": false
   },
   "outputs": [],
   "source": [
    "entot = evt.traces['data'].sum(); entot"
   ]
  },
  {
   "cell_type": "code",
   "execution_count": null,
   "metadata": {
    "collapsed": false
   },
   "outputs": [],
   "source": [
    "pts = pd.DataFrame(evt.xyzs(vd, clock, pads), columns=('x', 'y', 'z', 'a')).sort('z')\n",
    "fpts = pd.DataFrame(evt.xyzs(vd, clock, pads, peaks_only=True), \n",
    "                    columns=('x', 'y', 'z', 'a')).sort('z', ascending=True)"
   ]
  },
  {
   "cell_type": "code",
   "execution_count": null,
   "metadata": {
    "collapsed": false
   },
   "outputs": [],
   "source": [
    "plt.scatter(fpts.z, fpts.x, c=fpts.a, cmap='BuGn', edgecolor='none', alpha=0.6)\n",
    "plt.scatter(fpts.z, fpts.y, c=fpts.a, cmap='OrRd', edgecolor='none', alpha=0.6)\n",
    "# plt.gca().set_aspect('equal')"
   ]
  },
  {
   "cell_type": "code",
   "execution_count": null,
   "metadata": {
    "collapsed": false
   },
   "outputs": [],
   "source": [
    "plt.plot(pts.z)"
   ]
  },
  {
   "cell_type": "code",
   "execution_count": null,
   "metadata": {
    "collapsed": false
   },
   "outputs": [],
   "source": [
    "splx = UnivariateSpline(fpts.z.values, fpts.x.values, s=len(fpts.z.values)*3, ext=0)\n",
    "sply = UnivariateSpline(fpts.z.values, fpts.y.values, s=len(fpts.z.values)*3)\n",
    "dsplx = splx.derivative()\n",
    "dsply = sply.derivative()"
   ]
  },
  {
   "cell_type": "code",
   "execution_count": null,
   "metadata": {
    "collapsed": false
   },
   "outputs": [],
   "source": [
    "plt.scatter(pts.z, pts.x, c=pts.a, cmap='BuGn', edgecolor='none', alpha=0.6)\n",
    "plt.scatter(pts.z, pts.y, c=pts.a, cmap='OrRd', edgecolor='none', alpha=0.6)\n",
    "plt.ylim(-275,275)\n",
    "xmin, xmax = pts.z.min(), pts.z.max()\n",
    "xvals = np.linspace(xmin, xmax, 100)\n",
    "plt.plot(xvals, splx(xvals), color='Teal')\n",
    "plt.plot(xvals, sply(xvals), color='Orange')"
   ]
  },
  {
   "cell_type": "code",
   "execution_count": null,
   "metadata": {
    "collapsed": false
   },
   "outputs": [],
   "source": [
    "splx(xvals)"
   ]
  },
  {
   "cell_type": "code",
   "execution_count": null,
   "metadata": {
    "collapsed": true
   },
   "outputs": [],
   "source": []
  }
 ],
 "metadata": {
  "kernelspec": {
   "display_name": "Python 3",
   "language": "python",
   "name": "python3"
  },
  "language_info": {
   "codemirror_mode": {
    "name": "ipython",
    "version": 3
   },
   "file_extension": ".py",
   "mimetype": "text/x-python",
   "name": "python",
   "nbconvert_exporter": "python",
   "pygments_lexer": "ipython3",
   "version": "3.4.2"
  }
 },
 "nbformat": 4,
 "nbformat_minor": 0
}
