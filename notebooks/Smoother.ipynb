{
 "cells": [
  {
   "cell_type": "code",
   "execution_count": null,
   "metadata": {
    "collapsed": true
   },
   "outputs": [],
   "source": [
    "%matplotlib inline"
   ]
  },
  {
   "cell_type": "code",
   "execution_count": null,
   "metadata": {
    "collapsed": true
   },
   "outputs": [],
   "source": [
    "import matplotlib.pyplot as plt\n",
    "import numpy as np\n",
    "import pandas as pd"
   ]
  },
  {
   "cell_type": "code",
   "execution_count": null,
   "metadata": {
    "collapsed": true
   },
   "outputs": [],
   "source": [
    "import sys\n",
    "sys.path.append('..')"
   ]
  },
  {
   "cell_type": "code",
   "execution_count": null,
   "metadata": {
    "collapsed": true
   },
   "outputs": [],
   "source": [
    "import pytpc\n",
    "from pytpc.constants import degrees, pi"
   ]
  },
  {
   "cell_type": "code",
   "execution_count": null,
   "metadata": {
    "collapsed": false
   },
   "outputs": [],
   "source": [
    "pt = pytpc.Particle(4, 2, 2, position=(0,0,1.0), polar=pi-10*degrees, azimuth=28*degrees)\n",
    "gas = pytpc.gases.InterpolatedGas('helium', 200.)\n",
    "ef = np.array([0, 0, 15e3])\n",
    "bf = np.array([0, 0, 1])\n",
    "\n",
    "vd = pytpc.simulation.drift_velocity_vector(-2, ef[2], bf[2], 0)\n",
    "\n",
    "simres = pytpc.track(pt, gas, ef, bf)\n",
    "simres[['x', 'y', 'z']] *= 1e3\n",
    "evt = pytpc.evtdata.make_event(simres[['x', 'y', 'z']].values, simres['de'].values, 6.25, vd, 40.2, \n",
    "                               pt.mass_num, 223, 190)"
   ]
  },
  {
   "cell_type": "code",
   "execution_count": null,
   "metadata": {
    "collapsed": false
   },
   "outputs": [],
   "source": [
    "vd"
   ]
  },
  {
   "cell_type": "code",
   "execution_count": null,
   "metadata": {
    "collapsed": false
   },
   "outputs": [],
   "source": [
    "plt.plot(evt.traces['data'].sum(0))"
   ]
  },
  {
   "cell_type": "code",
   "execution_count": null,
   "metadata": {
    "collapsed": false
   },
   "outputs": [],
   "source": [
    "plt.plot(simres.y, simres.x)"
   ]
  },
  {
   "cell_type": "code",
   "execution_count": null,
   "metadata": {
    "collapsed": false
   },
   "outputs": [],
   "source": [
    "pytpc.pad_plot(evt.hits());"
   ]
  },
  {
   "cell_type": "code",
   "execution_count": null,
   "metadata": {
    "collapsed": false
   },
   "outputs": [],
   "source": [
    "meas = evt.xyzs(vd, 6.25, peaks_only=True)[:, 0:3] * 1e-3\n",
    "act = simres[['x', 'y', 'z', 'px', 'py', 'pz']].copy()\n",
    "act[['x', 'y', 'z']] *= 1e-3"
   ]
  },
  {
   "cell_type": "code",
   "execution_count": null,
   "metadata": {
    "collapsed": false
   },
   "outputs": [],
   "source": [
    "pt = pytpc.Particle(4, 2, 2, position=meas[10], polar=pi-10*degrees, azimuth=28*degrees)\n",
    "tr = pytpc.Tracker(pt, gas, ef, bf, pt.state_vector)\n",
    "tr.kfilter.Q = np.diag((1e-4, 1e-4, 1e-4, 1e-1, 1e-1, 1e-1))**2 # Process\n",
    "tr.kfilter.R = np.diag([2e-2]*2 + [4e-2]) ** 2 # Measurement\n",
    "tr.kfilter.P = np.diag([5e-2] * 3 + [1e-0] * 3)**2\n",
    "\n",
    "res, covar, res_times = tr.track(meas)"
   ]
  },
  {
   "cell_type": "code",
   "execution_count": null,
   "metadata": {
    "collapsed": false
   },
   "outputs": [],
   "source": [
    "pytpc.tpcplot.state_vector_plots(x_act=simres.time.values, act=act.values,\n",
    "                                 x_calc=res_times, calc=res, x_data=res_times, data=meas, covar=covar);"
   ]
  },
  {
   "cell_type": "code",
   "execution_count": null,
   "metadata": {
    "collapsed": false
   },
   "outputs": [],
   "source": [
    "np.diff(res_times).mean()"
   ]
  },
  {
   "cell_type": "code",
   "execution_count": null,
   "metadata": {
    "collapsed": false
   },
   "outputs": [],
   "source": [
    "res_sm, covar_sm = tr.kfilter.smooth(res, covar, res_times)"
   ]
  },
  {
   "cell_type": "code",
   "execution_count": null,
   "metadata": {
    "collapsed": false
   },
   "outputs": [],
   "source": [
    "pytpc.tpcplot.state_vector_plots(x_act=simres.time.values, act=act.values,\n",
    "                                 x_calc=res_times, calc=res_sm, x_data=res_times, data=meas, covar=covar_sm);"
   ]
  },
  {
   "cell_type": "code",
   "execution_count": null,
   "metadata": {
    "collapsed": true
   },
   "outputs": [],
   "source": []
  }
 ],
 "metadata": {
  "kernelspec": {
   "display_name": "Python 3",
   "language": "python",
   "name": "python3"
  },
  "language_info": {
   "codemirror_mode": {
    "name": "ipython",
    "version": 3
   },
   "file_extension": ".py",
   "mimetype": "text/x-python",
   "name": "python",
   "nbconvert_exporter": "python",
   "pygments_lexer": "ipython3",
   "version": "3.4.2"
  }
 },
 "nbformat": 4,
 "nbformat_minor": 0
}
