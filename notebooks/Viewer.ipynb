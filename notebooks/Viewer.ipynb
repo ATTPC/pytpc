{
 "cells": [
  {
   "cell_type": "markdown",
   "metadata": {},
   "source": [
    "# Event Viewer\n",
    "\n",
    "## Imports\n",
    "\n",
    "The first line sets the backend used by matplotlib. To be able to interact with the plots, make it say `%matplotlib nbagg`. For inline plots, use `%matplotlib inline`."
   ]
  },
  {
   "cell_type": "code",
   "execution_count": null,
   "metadata": {
    "collapsed": false
   },
   "outputs": [],
   "source": [
    "%matplotlib inline"
   ]
  },
  {
   "cell_type": "code",
   "execution_count": null,
   "metadata": {
    "collapsed": true
   },
   "outputs": [],
   "source": [
    "import sys\n",
    "sys.path.append('..')\n",
    "import pytpc\n",
    "from pytpc.constants import pi, degrees\n",
    "import matplotlib.pyplot as plt\n",
    "import matplotlib as mpl\n",
    "from math import sin, cos\n",
    "import numpy as np\n",
    "import scipy.stats as ss\n",
    "import seaborn as sns\n",
    "import pandas as pd\n",
    "from matplotlib.colors import LogNorm\n",
    "from matplotlib import gridspec"
   ]
  },
  {
   "cell_type": "code",
   "execution_count": null,
   "metadata": {
    "collapsed": false
   },
   "outputs": [],
   "source": [
    "sns.set_style('darkgrid')"
   ]
  },
  {
   "cell_type": "markdown",
   "metadata": {},
   "source": [
    "## TPC Parameters\n",
    "\n",
    "Set these physical parameters to correct the 3D tracks for tilt and Lorentz angle, and to calibrate the *z* positions into distance units."
   ]
  },
  {
   "cell_type": "code",
   "execution_count": null,
   "metadata": {
    "collapsed": false
   },
   "outputs": [],
   "source": [
    "tilt = 7*degrees\n",
    "clock = 6.25  # MHz\n",
    "emag = 15e3\n",
    "bmag = 0.5691\n",
    "ef = np.array([0, 0, emag])\n",
    "bfield_orig = np.array([0, 0, bmag])\n",
    "trans = np.array([[1, 0, 0],\n",
    "                  [0, cos(-tilt), -sin(-tilt)],\n",
    "                  [0, sin(-tilt), cos(-tilt)]])\n",
    "bf = np.dot(trans, bfield_orig)\n",
    "vd = pytpc.simulation.drift_velocity_vector(-3.32, emag, bmag, tilt)"
   ]
  },
  {
   "cell_type": "markdown",
   "metadata": {},
   "source": [
    "## Loading Files\n",
    "\n",
    "The event file should always be loaded."
   ]
  },
  {
   "cell_type": "code",
   "execution_count": null,
   "metadata": {
    "collapsed": false
   },
   "outputs": [],
   "source": [
    "pads = pytpc.generate_pad_plane(rotation_angle=-108.*pytpc.pi/180.)\n",
    "ef = pytpc.EventFile(\"/Users/josh/Documents/Data/Alphas-Dec14/run_0243_ps.evt\")\n",
    "#ef = evtdata.EventFile(\"/Users/josh/Documents/Data/Alphas-Dec14/OldEvts/run_0048.evt\")"
   ]
  },
  {
   "cell_type": "markdown",
   "metadata": {},
   "source": [
    "The files below should only be loaded if using event files without background subtraction."
   ]
  },
  {
   "cell_type": "code",
   "execution_count": null,
   "metadata": {
    "collapsed": false
   },
   "outputs": [],
   "source": [
    "peds = evtdata.load_pedestals(\"/Users/josh/Dropbox/routing/Peds20141208-2.csv\")\n",
    "pm = evtdata.load_padmap(\"/Users/josh/Dropbox/routing/Lookup20141208.csv\")"
   ]
  },
  {
   "cell_type": "markdown",
   "metadata": {},
   "source": [
    "## Reading an Event\n",
    "\n",
    "This one reads the event from the file:"
   ]
  },
  {
   "cell_type": "code",
   "execution_count": null,
   "metadata": {
    "collapsed": false
   },
   "outputs": [],
   "source": [
    "evt = ef[5]"
   ]
  },
  {
   "cell_type": "markdown",
   "metadata": {},
   "source": [
    "If pedestals have not been subtracted already in the file, then run this cell:"
   ]
  },
  {
   "cell_type": "code",
   "execution_count": null,
   "metadata": {
    "collapsed": false
   },
   "outputs": [],
   "source": [
    "evt.traces['data'] -= [ numpy.ones(512,) * peds[tuple(addr)] for addr in evt.traces[['cobo','asad','aget','channel']] ]\n",
    "evt.traces['data'] = ss.threshold(evt.traces['data'], threshmin=35)\n",
    "evt.traces['pad'] = [ pm[tuple(addr)] for addr in evt.traces[['cobo','asad','aget','channel']] ]"
   ]
  },
  {
   "cell_type": "markdown",
   "metadata": {},
   "source": [
    "## Plots\n",
    "\n",
    "### Pad Plane"
   ]
  },
  {
   "cell_type": "code",
   "execution_count": null,
   "metadata": {
    "collapsed": false
   },
   "outputs": [],
   "source": [
    "p = pytpc.pad_plot(evt.hits(), pads)\n",
    "# p.savefig('/Users/josh/Dropbox/padplane.pdf', transparent=True)"
   ]
  },
  {
   "cell_type": "markdown",
   "metadata": {},
   "source": [
    "### 3D Plot"
   ]
  },
  {
   "cell_type": "code",
   "execution_count": null,
   "metadata": {
    "collapsed": false
   },
   "outputs": [],
   "source": [
    "cp = pytpc.chamber_plot(evt.xyzs())\n",
    "cp.axes[0].view_init(azim=0, elev=10)\n",
    "cp.savefig('/Users/josh/Dropbox/chamber.png', dpi=400, transparent=True)"
   ]
  },
  {
   "cell_type": "code",
   "execution_count": null,
   "metadata": {
    "collapsed": true
   },
   "outputs": [],
   "source": [
    "xyz = pd.DataFrame(evt.xyzs(peaks_only=False), columns=('x', 'y', 'z', 'act'))"
   ]
  },
  {
   "cell_type": "code",
   "execution_count": null,
   "metadata": {
    "collapsed": false
   },
   "outputs": [],
   "source": [
    "plt.figure(figsize=(7, 6))\n",
    "gs = gridspec.GridSpec(2, 1, height_ratios=(1, 4), hspace=0.1)\n",
    "with sns.axes_style('white'):\n",
    "    plt.subplot(gs[0])\n",
    "    plt.plot(range(512), evt.traces['data'].sum(0))\n",
    "    plt.fill_between(range(512), evt.traces['data'].sum(0), alpha=0.7)\n",
    "    plt.xlim(0, 511)\n",
    "    plt.gca().invert_xaxis()\n",
    "    plt.gca().get_xaxis().set_ticklabels([])\n",
    "    plt.gca().get_yaxis().set_ticklabels([])\n",
    "    plt.ylabel('Mesh')\n",
    "    sns.despine()\n",
    "    \n",
    "with sns.axes_style('dark'):\n",
    "    plt.subplot(gs[1])\n",
    "    s = plt.scatter(xyz.z, xyz.y, marker='o', s=8, alpha=0.7, \n",
    "                    c=xyz.act, norm=LogNorm(), cmap=pytpc.tpcplot.ch_cm, linewidths=0)\n",
    "    plt.xlim(0, 511)\n",
    "    plt.ylim(-270, 270)\n",
    "    plt.xlabel('Time [uncalibrated]')\n",
    "    plt.ylabel('y [mm]')\n",
    "    plt.gca().invert_xaxis()\n",
    "    plt.savefig('/Users/josh/Dropbox/projection.pdf')"
   ]
  },
  {
   "cell_type": "code",
   "execution_count": null,
   "metadata": {
    "collapsed": false
   },
   "outputs": [],
   "source": [
    "sns.FacetGrid(xyz)"
   ]
  },
  {
   "cell_type": "markdown",
   "metadata": {},
   "source": [
    "### Mesh Plot"
   ]
  },
  {
   "cell_type": "code",
   "execution_count": null,
   "metadata": {
    "collapsed": false
   },
   "outputs": [],
   "source": [
    "mesh = evt.traces['data'].sum(0)\n",
    "plt.plot(mesh)\n",
    "plt.xlabel('Time Bucket')\n",
    "plt.ylabel('Activation')\n",
    "plt.xlim(0, 512)"
   ]
  },
  {
   "cell_type": "markdown",
   "metadata": {},
   "source": [
    "### Individual Channels"
   ]
  },
  {
   "cell_type": "code",
   "execution_count": null,
   "metadata": {
    "collapsed": false
   },
   "outputs": [],
   "source": [
    "lines = evt.traces['data']\n",
    "for l in lines:\n",
    "    plt.plot(l)\n",
    "    plt.xlim(0, 512)\n",
    "plt.xlabel('Time Buckets')\n",
    "plt.ylabel('Activation [arb. units]')\n",
    "plt.savefig('/Users/josh/Desktop/all_traces.png', dpi=200)"
   ]
  },
  {
   "cell_type": "code",
   "execution_count": null,
   "metadata": {
    "collapsed": false
   },
   "outputs": [],
   "source": [
    "sns.set_context('talk')"
   ]
  },
  {
   "cell_type": "code",
   "execution_count": null,
   "metadata": {
    "collapsed": false
   },
   "outputs": [],
   "source": [
    "sns.set_style('darkgrid')"
   ]
  },
  {
   "cell_type": "code",
   "execution_count": null,
   "metadata": {
    "collapsed": false
   },
   "outputs": [],
   "source": [
    "12.5e6 "
   ]
  }
 ],
 "metadata": {
  "kernelspec": {
   "display_name": "Python 3",
   "language": "python",
   "name": "python3"
  },
  "language_info": {
   "codemirror_mode": {
    "name": "ipython",
    "version": 3
   },
   "file_extension": ".py",
   "mimetype": "text/x-python",
   "name": "python",
   "nbconvert_exporter": "python",
   "pygments_lexer": "ipython3",
   "version": "3.4.2"
  }
 },
 "nbformat": 4,
 "nbformat_minor": 0
}
