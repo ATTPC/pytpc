{
 "metadata": {
  "name": "",
  "signature": ""
 },
 "nbformat": 3,
 "nbformat_minor": 0,
 "worksheets": [
  {
   "cells": [
    {
     "cell_type": "heading",
     "level": 1,
     "metadata": {},
     "source": [
      "Event Viewer"
     ]
    },
    {
     "cell_type": "heading",
     "level": 2,
     "metadata": {},
     "source": [
      "Imports"
     ]
    },
    {
     "cell_type": "markdown",
     "metadata": {},
     "source": [
      "The first line sets the backend used by matplotlib. To be able to interact with the plots, make it say `%matplotlib osx`. For inline plots, use `%matplotlib inline`."
     ]
    },
    {
     "cell_type": "code",
     "collapsed": false,
     "input": [
      "%matplotlib nbagg\n",
      "import pytpc\n",
      "import matplotlib.pyplot as plt\n",
      "import matplotlib as mpl\n",
      "import numpy\n",
      "import scipy.stats as ss"
     ],
     "language": "python",
     "metadata": {},
     "outputs": []
    },
    {
     "cell_type": "heading",
     "level": 2,
     "metadata": {},
     "source": [
      "Loading Files"
     ]
    },
    {
     "cell_type": "markdown",
     "metadata": {},
     "source": [
      "The event file should always be loaded."
     ]
    },
    {
     "cell_type": "code",
     "collapsed": false,
     "input": [
      "pads = pytpc.generate_pad_plane(rotation_angle=-108.*pytpc.pi/180.)\n",
      "ef = pytpc.EventFile(\"/Users/josh/Documents/Data/Alphas-Dec14/run_0232_ps.evt\")\n",
      "#ef = evtdata.EventFile(\"/Users/josh/Documents/Data/Alphas-Dec14/OldEvts/run_0048.evt\")"
     ],
     "language": "python",
     "metadata": {},
     "outputs": []
    },
    {
     "cell_type": "markdown",
     "metadata": {},
     "source": [
      "The files below should only be loaded if using event files without background subtraction."
     ]
    },
    {
     "cell_type": "code",
     "collapsed": false,
     "input": [
      "peds = evtdata.load_pedestals(\"/Users/josh/Dropbox/routing/Peds20141208-2.csv\")\n",
      "pm = evtdata.load_padmap(\"/Users/josh/Dropbox/routing/Lookup20141208.csv\")"
     ],
     "language": "python",
     "metadata": {},
     "outputs": []
    },
    {
     "cell_type": "heading",
     "level": 2,
     "metadata": {},
     "source": [
      "Reading an Event"
     ]
    },
    {
     "cell_type": "markdown",
     "metadata": {},
     "source": [
      "This one reads the event from the file:"
     ]
    },
    {
     "cell_type": "code",
     "collapsed": false,
     "input": [
      "evt = ef[101]"
     ],
     "language": "python",
     "metadata": {},
     "outputs": []
    },
    {
     "cell_type": "markdown",
     "metadata": {},
     "source": [
      "If pedestals have not been subtracted already in the file, then run this cell:"
     ]
    },
    {
     "cell_type": "code",
     "collapsed": false,
     "input": [
      "evt.traces['data'] -= [ numpy.ones(512,) * peds[tuple(addr)] for addr in evt.traces[['cobo','asad','aget','channel']] ]\n",
      "evt.traces['data'] = ss.threshold(evt.traces['data'], threshmin=35)\n",
      "evt.traces['pad'] = [ pm[tuple(addr)] for addr in evt.traces[['cobo','asad','aget','channel']] ]"
     ],
     "language": "python",
     "metadata": {},
     "outputs": []
    },
    {
     "cell_type": "heading",
     "level": 2,
     "metadata": {},
     "source": [
      "Plots"
     ]
    },
    {
     "cell_type": "heading",
     "level": 3,
     "metadata": {},
     "source": [
      "Pad Plane"
     ]
    },
    {
     "cell_type": "code",
     "collapsed": false,
     "input": [
      "p = pytpc.pad_plot(evt.hits(), pads)"
     ],
     "language": "python",
     "metadata": {},
     "outputs": []
    },
    {
     "cell_type": "heading",
     "level": 3,
     "metadata": {},
     "source": [
      "3D Plot"
     ]
    },
    {
     "cell_type": "code",
     "collapsed": false,
     "input": [
      "cp = pytpc.chamber_plot(evt.xyzs(drift_vel=1, clock=12.5))"
     ],
     "language": "python",
     "metadata": {},
     "outputs": []
    },
    {
     "cell_type": "heading",
     "level": 3,
     "metadata": {},
     "source": [
      "Mesh Plot"
     ]
    },
    {
     "cell_type": "code",
     "collapsed": false,
     "input": [
      "mesh = evt.traces['data'].sum(0)\n",
      "plt.plot(mesh)\n",
      "plt.xlabel('Time Bucket')\n",
      "plt.ylabel('Activation')\n",
      "plt.xlim(0, 512)"
     ],
     "language": "python",
     "metadata": {},
     "outputs": []
    },
    {
     "cell_type": "heading",
     "level": 3,
     "metadata": {},
     "source": [
      "Individual Channels"
     ]
    },
    {
     "cell_type": "code",
     "collapsed": false,
     "input": [
      "lines = evt.traces['data']\n",
      "for l in lines:\n",
      "    plt.plot(l)\n",
      "    plt.xlim(0, 512)"
     ],
     "language": "python",
     "metadata": {},
     "outputs": []
    },
    {
     "cell_type": "code",
     "collapsed": false,
     "input": [],
     "language": "python",
     "metadata": {},
     "outputs": []
    }
   ],
   "metadata": {}
  }
 ]
}