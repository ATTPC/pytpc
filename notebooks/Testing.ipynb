{
 "cells": [
  {
   "cell_type": "code",
   "execution_count": null,
   "metadata": {
    "collapsed": true
   },
   "outputs": [],
   "source": [
    "%matplotlib inline"
   ]
  },
  {
   "cell_type": "code",
   "execution_count": null,
   "metadata": {
    "collapsed": true
   },
   "outputs": [],
   "source": [
    "import atmc\n",
    "import numpy as np\n",
    "import matplotlib.pyplot as plt\n",
    "import seaborn as sns\n",
    "import h5py\n",
    "from pytpc.constants import pi, degrees\n",
    "import yaml"
   ]
  },
  {
   "cell_type": "code",
   "execution_count": null,
   "metadata": {
    "collapsed": true
   },
   "outputs": [],
   "source": [
    "import pytpc"
   ]
  },
  {
   "cell_type": "code",
   "execution_count": null,
   "metadata": {
    "collapsed": false
   },
   "outputs": [],
   "source": [
    "with open('../../ar40-aug15/fitters/config_e15503b_macmini.yml') as f:\n",
    "    config = yaml.load(f)\n",
    "# config['beam_center'] = [0, 0, 0]\n",
    "# config['micromegas_gain'] = 100"
   ]
  },
  {
   "cell_type": "code",
   "execution_count": null,
   "metadata": {
    "collapsed": false
   },
   "outputs": [],
   "source": [
    "efield = np.array(config['efield'])\n",
    "bfield = np.array(config['bfield'])\n",
    "vd = np.array(config['vd'])\n",
    "clock = config['clock']\n",
    "shape = float(config['shape'])\n",
    "ioniz = config['ioniz']\n",
    "tilt = config['tilt'] * degrees\n",
    "\n",
    "mass_num = 1\n",
    "charge_num = 1\n",
    "gain = 1\n",
    "\n",
    "gas = pytpc.gases.InterpolatedGas('isobutane', 18.)\n",
    "ens = np.arange(0, 100*1000, dtype='int')\n",
    "eloss = gas.energy_loss(ens / 1000, mass_num, charge_num)"
   ]
  },
  {
   "cell_type": "code",
   "execution_count": null,
   "metadata": {
    "collapsed": false
   },
   "outputs": [],
   "source": [
    "tracker = atmc.mcopt_wrapper.PyTracker(mass_num, charge_num, eloss, efield, bfield)\n",
    "\n",
    "with h5py.File('/Users/josh/Documents/Code/ar40-aug15/monte_carlo/LUT.h5', 'r') as hf:\n",
    "    lt = hf['LUT'][:]\n",
    "padplane = atmc.mcopt_wrapper.PyPadPlane(lt, -0.280, 0.0001, -0.280, 0.0001, -108*degrees)\n",
    "\n",
    "evtgen = atmc.mcopt_wrapper.PyEventGenerator(padplane, vd, clock * 1e6, shape, mass_num, ioniz, gain, tilt)\n",
    "mcmin = atmc.mcopt_wrapper.PyMCminimizer(tracker, evtgen)"
   ]
  },
  {
   "cell_type": "code",
   "execution_count": null,
   "metadata": {
    "collapsed": false
   },
   "outputs": [],
   "source": [
    "tr = tracker.track_particle(0, 0, 0.832620, 4.337075, 3.652245, 2.173140)\n",
    "raw_xyz = evtgen.make_peaks(tr[:, :3].copy(), tr[:, 4].copy())"
   ]
  },
  {
   "cell_type": "code",
   "execution_count": null,
   "metadata": {
    "collapsed": false
   },
   "outputs": [],
   "source": [
    "tr.shape"
   ]
  },
  {
   "cell_type": "code",
   "execution_count": null,
   "metadata": {
    "collapsed": false
   },
   "outputs": [],
   "source": [
    "plt.plot(tr[:, 2], np.hypot(tr[:, 0], tr[:, 1]))"
   ]
  },
  {
   "cell_type": "code",
   "execution_count": null,
   "metadata": {
    "collapsed": false
   },
   "outputs": [],
   "source": [
    "plt.plot(raw_xyz[:, 2], np.hypot(raw_xyz[:, 0], raw_xyz[:, 1]), '.')"
   ]
  },
  {
   "cell_type": "code",
   "execution_count": null,
   "metadata": {
    "collapsed": false
   },
   "outputs": [],
   "source": [
    "raw_xyz"
   ]
  },
  {
   "cell_type": "code",
   "execution_count": null,
   "metadata": {
    "collapsed": true
   },
   "outputs": [],
   "source": []
  }
 ],
 "metadata": {
  "kernelspec": {
   "display_name": "Python 3",
   "language": "python",
   "name": "python3"
  },
  "language_info": {
   "codemirror_mode": {
    "name": "ipython",
    "version": 3
   },
   "file_extension": ".py",
   "mimetype": "text/x-python",
   "name": "python",
   "nbconvert_exporter": "python",
   "pygments_lexer": "ipython3",
   "version": "3.5.1"
  }
 },
 "nbformat": 4,
 "nbformat_minor": 0
}
