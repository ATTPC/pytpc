{
 "metadata": {
  "name": "",
  "signature": ""
 },
 "nbformat": 3,
 "nbformat_minor": 0,
 "worksheets": [
  {
   "cells": [
    {
     "cell_type": "code",
     "collapsed": false,
     "input": [
      "%matplotlib inline\n",
      "\n",
      "import matplotlib.pyplot as plt\n",
      "from mpl_toolkits.mplot3d import Axes3D\n",
      "import numpy as np\n",
      "import seaborn as sns\n",
      "from functools import lru_cache\n",
      "from scipy.signal import argrelmax, argrelextrema, find_peaks_cwt\n",
      "\n",
      "import sys\n",
      "sys.path.append('..')\n",
      "import pytpc\n",
      "from pytpc.utilities import numpyize"
     ],
     "language": "python",
     "metadata": {},
     "outputs": []
    },
    {
     "cell_type": "code",
     "collapsed": false,
     "input": [
      "pads = pytpc.generate_pad_plane()\n",
      "ctrs = np.array([(p[1,0], p[:,1].min() + np.abs(p[1,1] - p[0,1])/2) for p in pads])\n",
      "ctrs = np.round(ctrs, decimals=0)"
     ],
     "language": "python",
     "metadata": {},
     "outputs": []
    },
    {
     "cell_type": "code",
     "collapsed": false,
     "input": [
      "idxs = np.arange(len(pads))"
     ],
     "language": "python",
     "metadata": {},
     "outputs": []
    },
    {
     "cell_type": "code",
     "collapsed": false,
     "input": [
      "pxy = np.lexsort((ctrs[:,1], ctrs[:,0]))  # list of pad nums in order (pos:pad)\n",
      "axy = np.zeros_like(idxs)  # position of each pad in sorted list (pad:pos)\n",
      "axy[pxy] = idxs\n",
      "pyx = np.lexsort((ctrs[:,0], ctrs[:,1]))\n",
      "ayx = np.zeros_like(idxs)\n",
      "ayx[pyx] = idxs\n",
      "\n",
      "pr = np.round(pads)"
     ],
     "language": "python",
     "metadata": {},
     "outputs": []
    },
    {
     "cell_type": "code",
     "collapsed": false,
     "input": [
      "heights = pads[:, 1, 1] - pads[:, 0, 1]\n",
      "pin = set(np.argwhere(np.round(np.abs(heights)) == 4).ravel())\n",
      "pout = set(np.argwhere(np.round(np.abs(heights)) == 8).ravel())"
     ],
     "language": "python",
     "metadata": {},
     "outputs": []
    },
    {
     "cell_type": "code",
     "collapsed": false,
     "input": [
      "fig = pytpc.pad_plot(axy, scale='linear')"
     ],
     "language": "python",
     "metadata": {},
     "outputs": []
    },
    {
     "cell_type": "code",
     "collapsed": false,
     "input": [
      "p = 1999\n",
      "c = ctrs[p]\n",
      "adj = find_adj(p, 1)\n",
      "# adj = idxs[np.argwhere(np.linalg.norm(ctrs - c, axis=-1) < 7)]\n",
      "# print(adj)\n",
      "c = ctrs[p]\n",
      "act = np.zeros(10240)\n",
      "act[list(adj)] = 1\n",
      "act[p] = 3\n",
      "fig = pytpc.pad_plot(act, scale='linear')\n",
      "plt.axis([c[0]-20, c[0]+20, c[1]-20, c[1]+20])"
     ],
     "language": "python",
     "metadata": {},
     "outputs": []
    },
    {
     "cell_type": "heading",
     "level": 2,
     "metadata": {},
     "source": [
      "Following a trail from the event file"
     ]
    },
    {
     "cell_type": "markdown",
     "metadata": {},
     "source": [
      "Run 103 has good, well-separated events with no magnetic field."
     ]
    },
    {
     "cell_type": "code",
     "collapsed": false,
     "input": [
      "ef = pytpc.EventFile('/Users/josh/Documents/Data/Alphas-Dec14/run_0210_ps.evt')"
     ],
     "language": "python",
     "metadata": {},
     "outputs": []
    },
    {
     "cell_type": "code",
     "collapsed": false,
     "input": [
      "evt = ef[1002]"
     ],
     "language": "python",
     "metadata": {},
     "outputs": []
    },
    {
     "cell_type": "code",
     "collapsed": false,
     "input": [
      "pytpc.pad_plot(evt.hits());"
     ],
     "language": "python",
     "metadata": {},
     "outputs": []
    },
    {
     "cell_type": "code",
     "collapsed": false,
     "input": [
      "%matplotlib inline"
     ],
     "language": "python",
     "metadata": {},
     "outputs": []
    },
    {
     "cell_type": "code",
     "collapsed": false,
     "input": [
      "pytpc.chamber_plot(evt.xyzs(drift_vel=2.45, clock=12.5, peaks_only=False), zscale='dist');"
     ],
     "language": "python",
     "metadata": {},
     "outputs": []
    },
    {
     "cell_type": "code",
     "collapsed": false,
     "input": [
      "dbtracks = pytpc.tracking.find_tracks(evt.xyzs(drift_vel=2.45, clock=12.5, peaks_only=False), min_samples=5, eps=5)\n",
      "fig = plt.figure()\n",
      "ax = fig.add_subplot(111, projection='3d')\n",
      "ax.set_axis_bgcolor('none')\n",
      "for tr in dbtracks:\n",
      "    ax.plot(tr[:, 0], tr[:, 1], tr[:, 2], '.', markersize=2)\n",
      "ax.set_xlim(-250, 250)\n",
      "ax.set_ylim(-250, 250)\n",
      "ax.set_zlim(0, 1000)\n",
      "ax.view_init(15, 0)\n",
      "print('Found {} tracks.'.format(len(dbtracks)))"
     ],
     "language": "python",
     "metadata": {},
     "outputs": []
    },
    {
     "cell_type": "code",
     "collapsed": false,
     "input": [
      "plt.plot(dbtracks[2][:, -2], dbtracks[2][:, -1])"
     ],
     "language": "python",
     "metadata": {},
     "outputs": []
    },
    {
     "cell_type": "code",
     "collapsed": false,
     "input": [
      "plt.plot(evt.traces['data'].sum(0))"
     ],
     "language": "python",
     "metadata": {},
     "outputs": []
    },
    {
     "cell_type": "code",
     "collapsed": false,
     "input": [
      "evt.traces['pad']"
     ],
     "language": "python",
     "metadata": {},
     "outputs": []
    },
    {
     "cell_type": "code",
     "collapsed": false,
     "input": [
      "for t in evt.traces['data']:\n",
      "    plt.plot(t)"
     ],
     "language": "python",
     "metadata": {},
     "outputs": []
    },
    {
     "cell_type": "code",
     "collapsed": false,
     "input": [
      "t = evt.traces[4]\n",
      "print(t['pad'])\n",
      "plt.plot(t['data'])\n",
      "peaks = find_peaks_cwt(t['data'], np.arange(20, 30))\n",
      "plt.plot(peaks, t['data'][peaks], 'o', color=sns.xkcd_rgb['cherry'])"
     ],
     "language": "python",
     "metadata": {},
     "outputs": []
    },
    {
     "cell_type": "code",
     "collapsed": false,
     "input": [
      "npads = pytpc.tracking.find_adj(evt.traces['pad'][5])\n",
      "tpd = {p: d for p, d in zip(evt.traces['pad'], evt.traces['data'])}"
     ],
     "language": "python",
     "metadata": {},
     "outputs": []
    },
    {
     "cell_type": "code",
     "collapsed": false,
     "input": [
      "for p in npads:\n",
      "    if p in evt.traces['pad']:\n",
      "        plt.plot(tpd[p], label=p)\n",
      "plt.legend()"
     ],
     "language": "python",
     "metadata": {},
     "outputs": []
    },
    {
     "cell_type": "code",
     "collapsed": false,
     "input": [
      "plt.plot(evt.traces[np.where(evt.traces['pad'] == 3571)][0]['data'])"
     ],
     "language": "python",
     "metadata": {},
     "outputs": []
    },
    {
     "cell_type": "code",
     "collapsed": false,
     "input": [
      "p1 = 769\n",
      "peaks1, = argrelextrema(tpd[p1], lambda x, y: x >= y, order=20)\n",
      "print(peaks1)"
     ],
     "language": "python",
     "metadata": {},
     "outputs": []
    },
    {
     "cell_type": "code",
     "collapsed": false,
     "input": [
      "tracks"
     ],
     "language": "python",
     "metadata": {},
     "outputs": []
    },
    {
     "cell_type": "code",
     "collapsed": false,
     "input": [
      "def find_peak_dict(evt):\n",
      "    peakdict = {}\n",
      "    for x in evt.traces:\n",
      "        pk, = argrelmax(x['data'], order=10)\n",
      "        if len(pk) == 0:\n",
      "            pk = np.array(find_peaks_cwt(x['data'], np.arange(10, 20)))\n",
      "        peakdict[x['pad']] = pk\n",
      "    return peakdict"
     ],
     "language": "python",
     "metadata": {},
     "outputs": []
    },
    {
     "cell_type": "code",
     "collapsed": false,
     "input": [
      "def find_tracks(evt):\n",
      "    unproc_pads = set(evt.traces['pad'])\n",
      "    tpd = {p: d for p, d in zip(evt.traces['pad'], evt.traces['data'])}\n",
      "    seed = unproc_pads.pop()\n",
      "    peakdict = find_peak_dict(evt)\n",
      "    \n",
      "    tracks = []\n",
      "    while len(unproc_pads) > 0:\n",
      "        seed = min(unproc_pads)\n",
      "        \n",
      "    "
     ],
     "language": "python",
     "metadata": {},
     "outputs": []
    },
    {
     "cell_type": "code",
     "collapsed": false,
     "input": [
      "def find_tracks_recursively(tpd, seed=None, unproc=None):\n",
      "\n",
      "    if seed is None:\n",
      "        seed = min(tpd.keys())\n",
      "    if unproc is None:\n",
      "        unproc = set(tpd.keys())\n",
      "    \n",
      "    near = pytpc.tracking.find_adj(seed)\n",
      "    seed_peaks, = argrelmax(tpd[seed])\n",
      "    tracks = [[[seed, t]] for t in seed_peaks]\n",
      "    unproc.discard(seed)\n",
      "    \n",
      "#     print(len(unproc))\n",
      "    \n",
      "    near_unproc = near.intersection(unproc)\n",
      "    while len(near_unproc) > 0:\n",
      "        nearpad = min(near_unproc)\n",
      "        nptracks = find_tracks_recursively(tpd, nearpad, unproc)\n",
      "        tracks = merge_tracks(tracks, nptracks)\n",
      "        unproc.discard(nearpad)\n",
      "        near_unproc.discard(nearpad)\n",
      "    \n",
      "    return tracks"
     ],
     "language": "python",
     "metadata": {},
     "outputs": []
    },
    {
     "cell_type": "code",
     "collapsed": false,
     "input": [
      "def merge_tracks(tlist1, tlist2):\n",
      "    merged = []\n",
      "    if len(tlist2) == 0 and len(tlist1) != 0:\n",
      "        return tlist1\n",
      "    elif len(tlist1) == 0 and len(tlist2) != 0:\n",
      "        return tlist2\n",
      "    for tr1 in tlist1:\n",
      "        for tr2 in tlist2:\n",
      "            if same_track_test(tr1, tr2):\n",
      "                merged.append(tr1 + tr2)"
     ],
     "language": "python",
     "metadata": {},
     "outputs": []
    },
    {
     "cell_type": "code",
     "collapsed": false,
     "input": [
      "@numpyize\n",
      "def same_track_test(t1, t2):\n",
      "    return np.any(t1-t2 < 50)"
     ],
     "language": "python",
     "metadata": {},
     "outputs": []
    },
    {
     "cell_type": "code",
     "collapsed": false,
     "input": [
      "min(tpd.keys())"
     ],
     "language": "python",
     "metadata": {},
     "outputs": []
    },
    {
     "cell_type": "code",
     "collapsed": false,
     "input": [
      "r = tpd.copy()"
     ],
     "language": "python",
     "metadata": {},
     "outputs": []
    },
    {
     "cell_type": "code",
     "collapsed": false,
     "input": [
      "[[1, 2, 3]] + [[]]"
     ],
     "language": "python",
     "metadata": {},
     "outputs": []
    },
    {
     "cell_type": "code",
     "collapsed": false,
     "input": [],
     "language": "python",
     "metadata": {},
     "outputs": []
    }
   ],
   "metadata": {}
  }
 ]
}