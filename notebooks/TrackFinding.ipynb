{
 "metadata": {
  "name": "",
  "signature": ""
 },
 "nbformat": 3,
 "nbformat_minor": 0,
 "worksheets": [
  {
   "cells": [
    {
     "cell_type": "code",
     "collapsed": false,
     "input": [
      "%matplotlib inline\n",
      "\n",
      "import matplotlib.pyplot as plt\n",
      "import numpy as np\n",
      "import seaborn as sns\n",
      "from functools import lru_cache\n",
      "\n",
      "import sys\n",
      "sys.path.append('..')\n",
      "import pytpc"
     ],
     "language": "python",
     "metadata": {},
     "outputs": []
    },
    {
     "cell_type": "code",
     "collapsed": false,
     "input": [
      "pads = pytpc.generate_pad_plane()\n",
      "ctrs = np.array([(p[1,0], p[:,1].min() + np.abs(p[1,1] - p[0,1])/2) for p in pads])\n",
      "ctrs = np.round(ctrs, decimals=0)"
     ],
     "language": "python",
     "metadata": {},
     "outputs": []
    },
    {
     "cell_type": "code",
     "collapsed": false,
     "input": [
      "idxs = np.arange(len(pads))"
     ],
     "language": "python",
     "metadata": {},
     "outputs": []
    },
    {
     "cell_type": "code",
     "collapsed": false,
     "input": [
      "pxy = np.lexsort((ctrs[:,1], ctrs[:,0]))  # list of pad nums in order (pos:pad)\n",
      "axy = np.zeros_like(idxs)  # position of each pad in sorted list (pad:pos)\n",
      "axy[pxy] = idxs\n",
      "pyx = np.lexsort((ctrs[:,0], ctrs[:,1]))\n",
      "ayx = np.zeros_like(idxs)\n",
      "ayx[pyx] = idxs\n",
      "\n",
      "pr = np.round(pads)"
     ],
     "language": "python",
     "metadata": {},
     "outputs": []
    },
    {
     "cell_type": "code",
     "collapsed": false,
     "input": [
      "heights = pads[:, 1, 1] - pads[:, 0, 1]\n",
      "pin = set(np.argwhere(np.round(np.abs(heights)) == 4).ravel())\n",
      "pout = set(np.argwhere(np.round(np.abs(heights)) == 8).ravel())"
     ],
     "language": "python",
     "metadata": {},
     "outputs": []
    },
    {
     "cell_type": "code",
     "collapsed": false,
     "input": [
      "fig = pytpc.pad_plot(axy, scale='linear')"
     ],
     "language": "python",
     "metadata": {},
     "outputs": []
    },
    {
     "cell_type": "code",
     "collapsed": false,
     "input": [
      "def find_adj_old(p, depth=0):\n",
      "    \n",
      "    r = pyx[ayx[p] + 1]\n",
      "    l = pyx[ayx[p] - 1]\n",
      "    u = pxy[axy[p] + 1]\n",
      "    d = pxy[axy[p] - 1]\n",
      "    ul = pyx[ayx[u] - 1]\n",
      "    ur = pyx[ayx[u] + 1]\n",
      "    rr = pyx[ayx[p] + 2]\n",
      "    ll = pyx[ayx[p] - 2]\n",
      "    dl = pyx[ayx[d] - 1]\n",
      "    dr = pyx[ayx[d] + 1]\n",
      "    \n",
      "    orient = np.sign(pads[p, 0, 1] - pads[p, 1, 1])\n",
      "    cl = pxy[axy[ll] + orient]\n",
      "    cr = pxy[axy[rr] + orient]\n",
      "    \n",
      "    adj = {r, l, u, d, ul, ur, ll, rr, dl, dr, cl, cr}\n",
      "    \n",
      "    if depth > 0:\n",
      "        for a in adj.copy():\n",
      "             adj |= find_adj(a, depth-1)\n",
      "    \n",
      "    c = ctrs[p]\n",
      "    for a in adj.copy():\n",
      "        if np.linalg.norm(c - ctrs[a]) > 1000:\n",
      "            adj.remove(a)\n",
      "    return adj"
     ],
     "language": "python",
     "metadata": {},
     "outputs": []
    },
    {
     "cell_type": "code",
     "collapsed": false,
     "input": [
      "@lru_cache(maxsize=10240)\n",
      "def find_adj(p, depth=0):\n",
      "    adj = set()\n",
      "    for pt in pr[p]:\n",
      "        i = np.argwhere(np.any(np.all(np.abs(pr[:, :] - pt) < np.array([2, 2]), axis=-1), axis=-1))\n",
      "        adj |= set(i.ravel())\n",
      "        \n",
      "    if depth > 0:\n",
      "        for a in adj.copy():\n",
      "            adj |= find_adj(a, depth-1)\n",
      "        \n",
      "#     if len(adj) < 12:\n",
      "#         # We haven't found all of them yet...\n",
      "#         if p in pin:\n",
      "#             # Look for a triangle adjacent to the double-height triangle containing p\n",
      "#             orient = np.sign(pads[p, 1, 1] - pads[p, 0, 1])\n",
      "#             r = pads[pyx[ayx[p] + 1]]\n",
      "#             l = pads[pyx[ayx[p] - 1]]\n",
      "#             d = pads[pxy[axy[p] - orient]]\n",
      "#             bigtripts = np.round(np.array([r, l, d]).reshape(-1, 2))\n",
      "#             xmin = bigtripts[:, 0].min()\n",
      "#             xmax = bigtripts[:, 0].max()\n",
      "#             ymin = bigtripts[:, 1].min()\n",
      "#             ymax = bigtripts[:, 1].max()\n",
      "            \n",
      "            \n",
      "    return adj"
     ],
     "language": "python",
     "metadata": {},
     "outputs": []
    },
    {
     "cell_type": "code",
     "collapsed": false,
     "input": [
      "p = 1999\n",
      "c = ctrs[p]\n",
      "adj = find_adj(p, 1)\n",
      "# adj = idxs[np.argwhere(np.linalg.norm(ctrs - c, axis=-1) < 7)]\n",
      "# print(adj)\n",
      "c = ctrs[p]\n",
      "act = np.zeros(10240)\n",
      "act[list(adj)] = 1\n",
      "act[p] = 3\n",
      "fig = pytpc.pad_plot(act, scale='linear')\n",
      "plt.axis([c[0]-20, c[0]+20, c[1]-20, c[1]+20])"
     ],
     "language": "python",
     "metadata": {},
     "outputs": []
    },
    {
     "cell_type": "code",
     "collapsed": false,
     "input": [
      "np.linalg.norm(ctrs-c, axis=-1)"
     ],
     "language": "python",
     "metadata": {},
     "outputs": []
    }
   ],
   "metadata": {}
  }
 ]
}