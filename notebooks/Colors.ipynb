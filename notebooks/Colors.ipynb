{
 "metadata": {
  "name": "",
  "signature": ""
 },
 "nbformat": 3,
 "nbformat_minor": 0,
 "worksheets": [
  {
   "cells": [
    {
     "cell_type": "code",
     "collapsed": false,
     "input": [
      "%matplotlib inline\n",
      "import matplotlib as mpl\n",
      "import matplotlib.colors\n",
      "import matplotlib.pyplot as plt\n",
      "import seaborn as sns\n",
      "\n",
      "import sys\n",
      "sys.path.append('..')\n",
      "import pytpc"
     ],
     "language": "python",
     "metadata": {},
     "outputs": []
    },
    {
     "cell_type": "code",
     "collapsed": false,
     "input": [
      "ef = pytpc.EventFile('/Users/josh/Documents/Data/Alphas-Dec14/run_0232_ps.evt')"
     ],
     "language": "python",
     "metadata": {},
     "outputs": []
    },
    {
     "cell_type": "code",
     "collapsed": false,
     "input": [
      "evt = ef[0]"
     ],
     "language": "python",
     "metadata": {},
     "outputs": []
    },
    {
     "cell_type": "code",
     "collapsed": false,
     "input": [
      "f = pytpc.pad_plot(evt.hits())\n",
      "f.savefig('/Users/josh/Desktop/pad.png', dpi=400)"
     ],
     "language": "python",
     "metadata": {},
     "outputs": []
    },
    {
     "cell_type": "code",
     "collapsed": false,
     "input": [
      "pytpc.chamber_plot(evt.xyzs())"
     ],
     "language": "python",
     "metadata": {},
     "outputs": []
    },
    {
     "cell_type": "code",
     "collapsed": false,
     "input": [
      "from pytpc.padplane import generate_pad_plane\n",
      "def pad_plot(data, pads=None):\n",
      "    \"\"\" Plot the given data on the pads of the Micromegas.\n",
      "\n",
      "    :param data: The data, as an array indexed by pad number.\n",
      "    \"\"\"\n",
      "\n",
      "    mycm = sns.blend_palette(sns.cubehelix_palette(n_colors=6, start=0, rot=-0.4, \n",
      "                                                   gamma=1, hue=0.8, light=0.95, dark=0.15), as_cmap=True)\n",
      "    sm = mpl.cm.ScalarMappable(cmap=mycm, norm=matplotlib.colors.LogNorm())\n",
      "    sm.set_array(data)\n",
      "    colors = sm.to_rgba(data)\n",
      "\n",
      "    if pads is None:\n",
      "        pads = generate_pad_plane()\n",
      "\n",
      "    c = mpl.collections.PolyCollection(pads, facecolors=colors, edgecolors='none')\n",
      "    cbg = mpl.collections.PolyCollection(pads, facecolors='white', edgecolors='none')\n",
      "\n",
      "    c.set_zorder(2)\n",
      "    cbg.set_zorder(1)\n",
      "\n",
      "    fig, ax = plt.subplots()\n",
      "\n",
      "    ax.axison = False\n",
      "\n",
      "    bdcirc = plt.Circle((0, 0), radius=290., facecolor='#c4cccc', edgecolor='none')\n",
      "    bdcirc.set_zorder(0)\n",
      "    ax.add_artist(bdcirc)\n",
      "\n",
      "    ax.add_collection(cbg)\n",
      "    ax.add_collection(c)\n",
      "\n",
      "    plt.axis('equal')\n",
      "\n",
      "    cbar = fig.colorbar(sm)\n",
      "    cbar.set_label('Activation')\n",
      "\n",
      "    return fig"
     ],
     "language": "python",
     "metadata": {},
     "outputs": []
    },
    {
     "cell_type": "code",
     "collapsed": false,
     "input": [
      "f = pad_plot(evt.hits())\n",
      "f.savefig('/Users/josh/Desktop/cube.png', dpi=400)"
     ],
     "language": "python",
     "metadata": {},
     "outputs": []
    },
    {
     "cell_type": "code",
     "collapsed": false,
     "input": [],
     "language": "python",
     "metadata": {},
     "outputs": []
    },
    {
     "cell_type": "code",
     "collapsed": false,
     "input": [
      "sns.choose_cubehelix_palette();"
     ],
     "language": "python",
     "metadata": {},
     "outputs": []
    },
    {
     "cell_type": "code",
     "collapsed": false,
     "input": [
      "sns.cubehelix_palette(n_colors=6, start=0, rot=-0.4, gamma=1, hue=0.8, light=0.85, dark=0.15)"
     ],
     "language": "python",
     "metadata": {},
     "outputs": []
    },
    {
     "cell_type": "code",
     "collapsed": false,
     "input": [
      "sns.palplot(sns.color_palette('cubehelix'))"
     ],
     "language": "python",
     "metadata": {},
     "outputs": []
    },
    {
     "cell_type": "code",
     "collapsed": false,
     "input": [
      "\"\"\"A module for viewing plots of AT-TPC merged data.\n",
      "\n",
      "This module can be used to generate both two- and three-dimensional plots of data from the AT-TPC. The data should be\n",
      "imported using the evtdata module. In principle, these functions could also be used to plot arbitrary data.\n",
      "\"\"\"\n",
      "\n",
      "from __future__ import division, print_function\n",
      "import numpy\n",
      "import matplotlib as mpl\n",
      "import matplotlib.collections\n",
      "import matplotlib.pyplot as plt\n",
      "import matplotlib.colors\n",
      "import matplotlib.cm\n",
      "from mpl_toolkits.mplot3d import Axes3D\n",
      "\n",
      "from pytpc.padplane import generate_pad_plane\n",
      "\n",
      "def chamber_plot(data):\n",
      "    \"\"\" Plot the given data in 3D.\n",
      "\n",
      "    The data should be four-dimensional. The first three dimensions are the coordinates of the data points, and the\n",
      "    last dimension should contain the weight (or energy / activation) of the point. This is used for coloring.\n",
      "\n",
      "    :param data: The data, as an array of [x, y, z, weight]\n",
      "    \"\"\"\n",
      "    mycm = sns.blend_palette(sns.cubehelix_palette(n_colors=6, start=0, rot=-0.4, \n",
      "                                                   gamma=1, hue=0.8, light=0.7, dark=0.15), as_cmap=True)\n",
      "    \n",
      "    fig = plt.figure()\n",
      "    ax = fig.add_subplot(111, projection='3d')\n",
      "    ax.scatter(data[:, 0], data[:, 1], data[:, 2], marker=',', linewidth=0, s=1, cmap=mycm, c=data[:, 3])\n",
      "\n",
      "    return fig"
     ],
     "language": "python",
     "metadata": {},
     "outputs": []
    },
    {
     "cell_type": "code",
     "collapsed": false,
     "input": [
      "f = chamber_plot(evt.xyzs())\n",
      "f.savefig('/Users/josh/Desktop/3d.png', dpi=500)"
     ],
     "language": "python",
     "metadata": {},
     "outputs": []
    },
    {
     "cell_type": "code",
     "collapsed": false,
     "input": [],
     "language": "python",
     "metadata": {},
     "outputs": []
    }
   ],
   "metadata": {}
  }
 ]
}