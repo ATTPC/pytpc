{
 "cells": [
  {
   "cell_type": "markdown",
   "metadata": {},
   "source": [
    "# (Close to) Online Event Viewer\n",
    "\n",
    "This notebook can be used to view GRAW data without merging the files ahead of time.\n",
    "\n",
    "Run cells by pressing `shift-return`. Reset the notebook (and clear variables) by pressing `ESC 0 0` (those are zeros)\n",
    "\n",
    "## Imports and Definitions"
   ]
  },
  {
   "cell_type": "code",
   "execution_count": null,
   "metadata": {
    "collapsed": true
   },
   "outputs": [],
   "source": [
    "%matplotlib inline"
   ]
  },
  {
   "cell_type": "code",
   "execution_count": null,
   "metadata": {
    "collapsed": false
   },
   "outputs": [],
   "source": [
    "import matplotlib.pyplot as plt\n",
    "import seaborn as sns\n",
    "import numpy as np\n",
    "import pandas as pd\n",
    "import glob\n",
    "from scipy.stats import threshold\n",
    "import warnings\n",
    "import copy\n",
    "import IPython.display\n",
    "import sys\n",
    "import os"
   ]
  },
  {
   "cell_type": "code",
   "execution_count": null,
   "metadata": {
    "collapsed": true
   },
   "outputs": [],
   "source": [
    "import sys\n",
    "sys.path.append('..')"
   ]
  },
  {
   "cell_type": "code",
   "execution_count": null,
   "metadata": {
    "collapsed": true
   },
   "outputs": [],
   "source": [
    "import pytpc\n",
    "from pytpc.constants import *"
   ]
  },
  {
   "cell_type": "code",
   "execution_count": null,
   "metadata": {
    "collapsed": true
   },
   "outputs": [],
   "source": [
    "sns.set_style('ticks')\n",
    "sns.set_context('talk')\n",
    "sns.set_color_codes()"
   ]
  },
  {
   "cell_type": "code",
   "execution_count": null,
   "metadata": {
    "collapsed": false
   },
   "outputs": [],
   "source": [
    "def subtract_and_delete_fpn(traces):\n",
    "    \"\"\"Subtract the normalized, average fixed-pattern noise from the data.\n",
    "    \n",
    "    The FPN channels for each AGET are averaged, renormalized to zero, and subtracted\n",
    "    from the data signals in that AGET. They are then deleted from the data.\n",
    "    \n",
    "    Parameters\n",
    "    ----------\n",
    "    traces : np.ndarray\n",
    "        The structured NumPy array from the event, e.g. `evt.traces`\n",
    "    \n",
    "    Returns\n",
    "    -------\n",
    "    ndarray\n",
    "        The same structured array as before, but with the FPN subtracted and deleted.\n",
    "    \n",
    "    \"\"\"\n",
    "    \n",
    "    traces = copy.deepcopy(traces)\n",
    "    \n",
    "    fpn_channels = [11, 22, 45, 56]\n",
    "    \n",
    "    for cobo, asad, aget in {tuple(a) for a in traces[['cobo', 'asad', 'aget']]}:\n",
    "        fpn_idx = np.where(np.all((traces['cobo'] == cobo, traces['asad'] == asad, \n",
    "                                   traces['aget'] == aget, np.in1d(traces['channel'], fpn_channels)), axis=0))[0]\n",
    "        data_idx = np.where(np.all((traces['cobo'] == cobo, traces['asad'] == asad, \n",
    "                                    traces['aget'] == aget, ~np.in1d(traces['channel'], fpn_channels)), axis=0))[0]\n",
    "\n",
    "        if len(fpn_idx) != 4:\n",
    "            warnings.warn('Number of FPN channels was incorrect: %d (should be 4)' % len(idx))\n",
    "\n",
    "        mean_fpn = traces['data'][fpn_idx].mean(axis=0)\n",
    "        mean_fpn -= mean_fpn.mean()\n",
    "\n",
    "        traces['data'][data_idx] -= mean_fpn\n",
    "    \n",
    "    return np.delete(traces, np.where(np.in1d(traces['channel'], fpn_channels)))"
   ]
  },
  {
   "cell_type": "markdown",
   "metadata": {},
   "source": [
    "## Pad mapping\n",
    "\n",
    "Import the pad mapping here. This should be a CSV file with columns\n",
    "\n",
    "    CoBo , AsAd , AGET , Channel , Pad"
   ]
  },
  {
   "cell_type": "code",
   "execution_count": null,
   "metadata": {
    "collapsed": false
   },
   "outputs": [],
   "source": [
    "padmap = pd.read_csv(os.path.expanduser('~/Dropbox/routing/Lookup20141208.csv'), header=None,\n",
    "                     names=('cobo', 'asad', 'aget', 'channel', 'pad'), index_col=-1)"
   ]
  },
  {
   "cell_type": "markdown",
   "metadata": {},
   "source": [
    "Make a dictionary to facilitate reverse lookup of pad number from hardware address."
   ]
  },
  {
   "cell_type": "code",
   "execution_count": null,
   "metadata": {
    "collapsed": false
   },
   "outputs": [],
   "source": [
    "pad_lookup = {(cobo, asad, aget, ch) : pad for pad, cobo, asad, aget, ch in padmap.itertuples()}"
   ]
  },
  {
   "cell_type": "markdown",
   "metadata": {},
   "source": [
    "## GRAW Files\n",
    "\n",
    "Here is where we read the GRAW files. The `glob()` function will match any set of files using a syntax like in `bash`."
   ]
  },
  {
   "cell_type": "code",
   "execution_count": null,
   "metadata": {
    "collapsed": false
   },
   "outputs": [],
   "source": [
    "# The paths of the GRAW files\n",
    "gfile_paths = glob.glob('/Users/josh/Documents/Data/Old-Alphas-Dec14/run_0225/*.graw')\n",
    "print('Found {} GRAW files'.format(len(gfile_paths)))"
   ]
  },
  {
   "cell_type": "markdown",
   "metadata": {},
   "source": [
    "This is where the files are actually read. This could take a bit since each file needs to be indexed."
   ]
  },
  {
   "cell_type": "code",
   "execution_count": null,
   "metadata": {
    "collapsed": false
   },
   "outputs": [],
   "source": [
    "gfiles = []\n",
    "\n",
    "for i, p in enumerate(gfile_paths):\n",
    "    IPython.display.clear_output()\n",
    "    print('Opening file {} / {}'.format(i+1, len(gfile_paths)))\n",
    "    sys.stdout.flush()\n",
    "    gfiles.append(pytpc.grawdata.GRAWFile(p, max_len=100))\n",
    "    \n",
    "print('Done')"
   ]
  },
  {
   "cell_type": "markdown",
   "metadata": {},
   "source": [
    "## Read events\n",
    "\n",
    "The next cells read the events and merge them. See the comments line-by-line to enable or disable specific steps.\n",
    "\n",
    "Individual lines can be commented out by clicking somewhere on them and pressing `cmd-/`"
   ]
  },
  {
   "cell_type": "code",
   "execution_count": null,
   "metadata": {
    "collapsed": true
   },
   "outputs": [],
   "source": [
    "event_number = 10  # This event will be read"
   ]
  },
  {
   "cell_type": "code",
   "execution_count": null,
   "metadata": {
    "collapsed": false
   },
   "outputs": [],
   "source": [
    "# Read the event and merge the frames\n",
    "evt = pytpc.grawdata.merge_frames(gfiles, event_number)\n",
    "\n",
    "# Apply the pad map to the data\n",
    "evt.traces['pad'] = [pad_lookup.get(tuple(a), 20000) for a in evt.traces[['cobo', 'asad', 'aget', 'channel']]]\n",
    "\n",
    "# Subtract and remove the fixed-pattern noise\n",
    "evt.traces = subtract_and_delete_fpn(evt.traces)\n",
    "\n",
    "# Subtract an ad hoc pedestal (the median value of the trace)\n",
    "evt.traces['data'] = (evt.traces['data'].T - np.median(evt.traces['data'], axis=1)).T\n",
    "\n",
    "# Apply a threshold to the trace\n",
    "evt.traces['data'] = threshold(evt.traces['data'], threshmin=40.)"
   ]
  },
  {
   "cell_type": "markdown",
   "metadata": {},
   "source": [
    "## Plots\n",
    "\n",
    "Note that under each plot, there is a line to save the plot to a file. If you un-comment this line, it will be saved. Change the path to whatever you like.\n",
    "\n",
    "### Mesh"
   ]
  },
  {
   "cell_type": "code",
   "execution_count": null,
   "metadata": {
    "collapsed": false
   },
   "outputs": [],
   "source": [
    "plt.plot(evt.traces['data'].sum(0))\n",
    "sns.despine()\n",
    "plt.xlim(0, 512)\n",
    "plt.xlabel('Time bucket')\n",
    "plt.ylabel('Total activation')\n",
    "# plt.savefig(os.path.expanduser('~/Desktop/mesh.png'), transparent=False, dpi=100)"
   ]
  },
  {
   "cell_type": "markdown",
   "metadata": {},
   "source": [
    "### Pad plane"
   ]
  },
  {
   "cell_type": "code",
   "execution_count": null,
   "metadata": {
    "collapsed": false
   },
   "outputs": [],
   "source": [
    "pplane = pytpc.pad_plot(evt.hits())\n",
    "# pplane.savefig(os.path.expanduser('~/Desktop/pad_plane.png'), transparent=True, dpi=100)"
   ]
  },
  {
   "cell_type": "markdown",
   "metadata": {},
   "source": [
    "### 3-D View"
   ]
  },
  {
   "cell_type": "code",
   "execution_count": null,
   "metadata": {
    "collapsed": false
   },
   "outputs": [],
   "source": [
    "chplot = pytpc.chamber_plot(evt.xyzs())\n",
    "chplot.axes[0].view_init(azim=0, elev=20)  # Change these angles to rotate the view\n",
    "# chplot.savefig(os.path.expanduser('~/Desktop/chamber.png'), transparent=False, dpi=100)"
   ]
  },
  {
   "cell_type": "markdown",
   "metadata": {},
   "source": [
    "### Individual Traces"
   ]
  },
  {
   "cell_type": "code",
   "execution_count": null,
   "metadata": {
    "collapsed": false
   },
   "outputs": [],
   "source": [
    "plt.plot(evt.traces['data'].T, lw=1)\n",
    "# plt.plot(evt.traces['data'].sum(0), 'k--')          # uncomment this line to plot the sum too\n",
    "sns.despine()\n",
    "plt.xlim(0, 512)\n",
    "plt.xlabel('Time bucket')\n",
    "plt.ylabel('Sample value')\n",
    "# bokeh.plotting.show(bokeh.mpl.to_bokeh())\n",
    "# plt.savefig(os.path.expanduser('~/Desktop/traces.png'), transparent=False, dpi=100)"
   ]
  }
 ],
 "metadata": {
  "kernelspec": {
   "display_name": "Python 3",
   "language": "python",
   "name": "python3"
  },
  "language_info": {
   "codemirror_mode": {
    "name": "ipython",
    "version": 3
   },
   "file_extension": ".py",
   "mimetype": "text/x-python",
   "name": "python",
   "nbconvert_exporter": "python",
   "pygments_lexer": "ipython3",
   "version": "3.4.3"
  }
 },
 "nbformat": 4,
 "nbformat_minor": 0
}
