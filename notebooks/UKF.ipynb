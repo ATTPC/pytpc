{
 "metadata": {
  "name": "",
  "signature": ""
 },
 "nbformat": 3,
 "nbformat_minor": 0,
 "worksheets": [
  {
   "cells": [
    {
     "cell_type": "code",
     "collapsed": false,
     "input": [
      "%matplotlib inline\n",
      "import sys\n",
      "sys.path.append('..')\n",
      "import pytpc\n",
      "import numpy as np\n",
      "import matplotlib.pyplot as plt\n",
      "from pytpc.constants import *\n",
      "import seaborn as sns"
     ],
     "language": "python",
     "metadata": {},
     "outputs": []
    },
    {
     "cell_type": "code",
     "collapsed": false,
     "input": [
      "pt = pytpc.Particle(4, 2, 0.5, (0.5, 0.5, 0.5), azimuth=pi/4, polar=pi/4)\n",
      "he = pytpc.gases.HeliumGas(200.)\n",
      "efield = np.array([0, 0, 15e3])\n",
      "bfield = np.array([0, 0, 0])\n",
      "\n",
      "tr = pytpc.Tracker(pt, he, efield, bfield, np.array([0, 0, 0, 0, 0, 0]))"
     ],
     "language": "python",
     "metadata": {},
     "outputs": []
    },
    {
     "cell_type": "code",
     "collapsed": false,
     "input": [
      "pt.momentum = [1, 1, 1]\n",
      "pt.energy_per_particle = 0.5\n",
      "pt.position = [0, 0, 0]\n",
      "sim_pos, sim_mom, sim_time, sim_en, *junk = pytpc.track(pt, he, efield, bfield)"
     ],
     "language": "python",
     "metadata": {},
     "outputs": []
    },
    {
     "cell_type": "code",
     "collapsed": false,
     "input": [
      "f = tr.kfilter"
     ],
     "language": "python",
     "metadata": {},
     "outputs": []
    },
    {
     "cell_type": "code",
     "collapsed": false,
     "input": [
      "def find_f_sigmas(en):\n",
      "    pt.momentum = [1, 1, 1]\n",
      "    pt.energy = en\n",
      "    x = pt.state_vector\n",
      "    P = np.eye(6) * 1\n",
      "    s = f.find_sigma_points(x, P, 0)\n",
      "    fs = np.zeros((13, 6))\n",
      "    for i, si in enumerate(s):\n",
      "        fs[i, :] = f.fx(si, 1e-9)\n",
      "    return fs"
     ],
     "language": "python",
     "metadata": {},
     "outputs": []
    },
    {
     "cell_type": "code",
     "collapsed": false,
     "input": [
      "weights = f.find_weights(6, 0)"
     ],
     "language": "python",
     "metadata": {},
     "outputs": []
    },
    {
     "cell_type": "code",
     "collapsed": false,
     "input": [
      "# ens = np.linspace(0.5, 0, 50)\n",
      "ens = sim_en * 4\n",
      "relpts = np.array([4, 5, 6, 10, 11, 12])  # the relevant ones\n",
      "fvals = np.array([find_f_sigmas(en) for en in ens])"
     ],
     "language": "python",
     "metadata": {},
     "outputs": []
    },
    {
     "cell_type": "code",
     "collapsed": false,
     "input": [
      "fmeans = np.zeros((fvals.shape[0], 6))\n",
      "for i, s in enumerate(fvals):\n",
      "    mean, cov = f.unscented_transform(s, weights)\n",
      "    fmeans[i, :] = mean"
     ],
     "language": "python",
     "metadata": {},
     "outputs": []
    },
    {
     "cell_type": "code",
     "collapsed": false,
     "input": [
      "pxs = fvals[:, relpts, 3].T\n",
      "pys = fvals[:, relpts, 4].T\n",
      "pzs = fvals[:, relpts, 5].T\n",
      "\n",
      "px_mean = fmeans[:, 3]\n",
      "py_mean = fmeans[:, 4]\n",
      "pz_mean = fmeans[:, 5]"
     ],
     "language": "python",
     "metadata": {},
     "outputs": []
    },
    {
     "cell_type": "code",
     "collapsed": false,
     "input": [
      "for x in pxs:\n",
      "    plt.plot(ens, x)\n",
      "plt.plot(ens, px_mean, '--')"
     ],
     "language": "python",
     "metadata": {},
     "outputs": []
    },
    {
     "cell_type": "code",
     "collapsed": false,
     "input": [
      "for y in pys:\n",
      "    plt.plot(ens, y)\n",
      "plt.plot(ens, py_mean, '--')"
     ],
     "language": "python",
     "metadata": {},
     "outputs": []
    },
    {
     "cell_type": "code",
     "collapsed": false,
     "input": [
      "labels = ['px+', 'py+', 'pz+', 'px-', 'py-', 'pz-']\n",
      "for i, z in enumerate(pzs):\n",
      "    plt.plot(ens, z, label=labels[i])\n",
      "plt.plot(ens, pz_mean, '--', label='mean')\n",
      "plt.xlabel(r'Energy [MeV]')\n",
      "plt.ylabel(r'z Momentum [MeV/c]')\n",
      "plt.legend(loc='upper left')\n",
      "\n",
      "plt.savefig('/Users/josh/Desktop/momentum.png', dpi=400)"
     ],
     "language": "python",
     "metadata": {},
     "outputs": []
    },
    {
     "cell_type": "code",
     "collapsed": false,
     "input": [
      "des = np.array([he.energy_loss(e, 4, 2) for e in ens]) * 1e-3"
     ],
     "language": "python",
     "metadata": {},
     "outputs": []
    },
    {
     "cell_type": "code",
     "collapsed": false,
     "input": [
      "plt.plot(ens, ens - des)\n",
      "plt.xlabel('Energy [MeV]')\n",
      "plt.ylabel('$E - dE$ [MeV]')\n",
      "plt.savefig('/Users/josh/Desktop/eloss.png', dpi=200)"
     ],
     "language": "python",
     "metadata": {},
     "outputs": []
    },
    {
     "cell_type": "code",
     "collapsed": false,
     "input": [
      "labels = ['px+', 'py+', 'pz+', 'px-', 'py-', 'pz-']\n",
      "for i, z in enumerate(pzs):\n",
      "    plt.plot(sim_time, z, label=labels[i])\n",
      "plt.plot(sim_time, pz_mean, '--', label='mean')\n",
      "plt.plot(sim_time, sim_mom[:, 2], c=sns.xkcd_rgb['orange yellow'], label='Simulated')\n",
      "\n",
      "plt.xlabel(r'Time [s]')\n",
      "plt.ylabel(r'z Momentum [MeV/c]')\n",
      "plt.legend(loc='upper right')\n",
      "\n",
      "plt.xlim(2.5e-8, 2.7e-8)\n",
      "plt.ylim(0, 20)\n",
      "\n",
      "plt.savefig('/Users/josh/Desktop/p_vs_time_inset.png', dpi=400)"
     ],
     "language": "python",
     "metadata": {},
     "outputs": []
    },
    {
     "cell_type": "code",
     "collapsed": false,
     "input": [
      "pt.momentum = [1, 1, 1]"
     ],
     "language": "python",
     "metadata": {},
     "outputs": []
    },
    {
     "cell_type": "code",
     "collapsed": false,
     "input": [
      "pt.energy = 0.01\n",
      "pt.momentum"
     ],
     "language": "python",
     "metadata": {},
     "outputs": []
    },
    {
     "cell_type": "code",
     "collapsed": false,
     "input": [
      "np.linalg.cholesky(6*np.eye(6))"
     ],
     "language": "python",
     "metadata": {},
     "outputs": []
    },
    {
     "cell_type": "code",
     "collapsed": false,
     "input": [
      "plt.plot(ens, fvals[:, 0, 5].T)\n",
      "plt.plot(ens, pz_mean, '--')"
     ],
     "language": "python",
     "metadata": {},
     "outputs": []
    },
    {
     "cell_type": "code",
     "collapsed": false,
     "input": [
      "plt.plot(sim_en*4, sim_mom[:, 2])"
     ],
     "language": "python",
     "metadata": {},
     "outputs": []
    },
    {
     "cell_type": "code",
     "collapsed": false,
     "input": [
      "plt.plot(np.linalg.norm(sim_pos, axis=-1)[1:], -np.diff(sim_en))"
     ],
     "language": "python",
     "metadata": {},
     "outputs": []
    },
    {
     "cell_type": "code",
     "collapsed": false,
     "input": [],
     "language": "python",
     "metadata": {},
     "outputs": []
    }
   ],
   "metadata": {}
  }
 ]
}