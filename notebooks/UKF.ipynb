{
 "metadata": {
  "name": "",
  "signature": ""
 },
 "nbformat": 3,
 "nbformat_minor": 0,
 "worksheets": [
  {
   "cells": [
    {
     "cell_type": "code",
     "collapsed": false,
     "input": [
      "%matplotlib inline\n",
      "import sys\n",
      "sys.path.append('..')\n",
      "import pytpc\n",
      "import numpy as np\n",
      "import matplotlib.pyplot as plt\n",
      "from pytpc.constants import *\n",
      "import seaborn as sns"
     ],
     "language": "python",
     "metadata": {},
     "outputs": []
    },
    {
     "cell_type": "code",
     "collapsed": false,
     "input": [
      "pt = pytpc.Particle(4, 2, 0.5, (0.5, 0.5, 0.5), azimuth=pi/4, polar=pi/4)\n",
      "he = pytpc.gases.HeliumGas(200.)\n",
      "efield = np.array([0, 0, 15e3])\n",
      "bfield = np.array([0, 0, 0])\n",
      "\n",
      "tr = pytpc.Tracker(pt, he, efield, bfield, np.array([0, 0, 0, 0, 0, 0]))"
     ],
     "language": "python",
     "metadata": {},
     "outputs": []
    },
    {
     "cell_type": "code",
     "collapsed": false,
     "input": [
      "pt.momentum = [1, 1, 1]\n",
      "pt.energy_per_particle = 0.5\n",
      "pt.position = [0, 0, 0]\n",
      "sim_res = pytpc.track(pt, he, efield, bfield)"
     ],
     "language": "python",
     "metadata": {},
     "outputs": []
    },
    {
     "cell_type": "code",
     "collapsed": false,
     "input": [
      "f = tr.kfilter"
     ],
     "language": "python",
     "metadata": {},
     "outputs": []
    },
    {
     "cell_type": "code",
     "collapsed": false,
     "input": [
      "def find_f_sigmas(en):\n",
      "    pt.momentum = [1, 1, 1]\n",
      "    pt.energy = en\n",
      "    x = pt.state_vector\n",
      "    P = np.eye(6) * 1\n",
      "    s = f.find_sigma_points(x, P, 0)\n",
      "    fs = np.zeros((13, 6))\n",
      "    for i, si in enumerate(s):\n",
      "        fs[i, :] = f.fx(si, 1e-9)\n",
      "    return fs"
     ],
     "language": "python",
     "metadata": {},
     "outputs": []
    },
    {
     "cell_type": "code",
     "collapsed": false,
     "input": [
      "weights = f.find_weights(6, 0)"
     ],
     "language": "python",
     "metadata": {},
     "outputs": []
    },
    {
     "cell_type": "code",
     "collapsed": false,
     "input": [
      "# ens = np.linspace(0.5, 0, 50)\n",
      "ens = sim_res['en'] * 4\n",
      "relpts = np.array([4, 5, 6, 10, 11, 12])  # the relevant ones\n",
      "fvals = np.array([find_f_sigmas(en) for en in ens])"
     ],
     "language": "python",
     "metadata": {},
     "outputs": []
    },
    {
     "cell_type": "code",
     "collapsed": false,
     "input": [
      "fmeans = np.zeros((fvals.shape[0], 6))\n",
      "for i, s in enumerate(fvals):\n",
      "    mean, cov = f.unscented_transform(s, weights)\n",
      "    fmeans[i, :] = mean"
     ],
     "language": "python",
     "metadata": {},
     "outputs": []
    },
    {
     "cell_type": "code",
     "collapsed": false,
     "input": [
      "pxs = fvals[:, relpts, 3].T\n",
      "pys = fvals[:, relpts, 4].T\n",
      "pzs = fvals[:, relpts, 5].T\n",
      "\n",
      "px_mean = fmeans[:, 3]\n",
      "py_mean = fmeans[:, 4]\n",
      "pz_mean = fmeans[:, 5]"
     ],
     "language": "python",
     "metadata": {},
     "outputs": []
    },
    {
     "cell_type": "code",
     "collapsed": false,
     "input": [
      "for x in pxs:\n",
      "    plt.plot(ens, x)\n",
      "plt.plot(ens, px_mean, '--')"
     ],
     "language": "python",
     "metadata": {},
     "outputs": []
    },
    {
     "cell_type": "code",
     "collapsed": false,
     "input": [
      "for y in pys:\n",
      "    plt.plot(ens, y)\n",
      "plt.plot(ens, py_mean, '--')"
     ],
     "language": "python",
     "metadata": {},
     "outputs": []
    },
    {
     "cell_type": "code",
     "collapsed": false,
     "input": [
      "labels = ['px+', 'py+', 'pz+', 'px-', 'py-', 'pz-']\n",
      "for i, z in enumerate(pzs):\n",
      "    plt.plot(ens, z, label=labels[i])\n",
      "plt.plot(ens, pz_mean, '--', label='mean')\n",
      "plt.xlabel(r'Energy [MeV]')\n",
      "plt.ylabel(r'z Momentum [MeV/c]')\n",
      "plt.legend(loc='upper left')\n",
      "\n",
      "plt.savefig('/Users/josh/Desktop/momentum.png', dpi=400)"
     ],
     "language": "python",
     "metadata": {},
     "outputs": []
    },
    {
     "cell_type": "code",
     "collapsed": false,
     "input": [
      "des = np.array([he.energy_loss(e, 4, 2) for e in ens]) * 1e-3"
     ],
     "language": "python",
     "metadata": {},
     "outputs": []
    },
    {
     "cell_type": "code",
     "collapsed": false,
     "input": [
      "plt.plot(ens, ens - des)\n",
      "plt.xlabel('Energy [MeV]')\n",
      "plt.ylabel('$E - dE$ [MeV]')\n",
      "plt.savefig('/Users/josh/Desktop/eloss.png', dpi=200)"
     ],
     "language": "python",
     "metadata": {},
     "outputs": []
    },
    {
     "cell_type": "code",
     "collapsed": false,
     "input": [
      "plt.plot(ens, des)"
     ],
     "language": "python",
     "metadata": {},
     "outputs": []
    },
    {
     "cell_type": "code",
     "collapsed": false,
     "input": [
      "labels = ['px+', 'py+', 'pz+', 'px-', 'py-', 'pz-']\n",
      "for i, z in enumerate(pzs):\n",
      "    plt.plot(sim_res['time'], z, label=labels[i])\n",
      "plt.plot(sim_res['time'], pz_mean, '--', label='mean')\n",
      "plt.plot(sim_res['time'], sim_res['mom'][:, 2], color=sns.xkcd_rgb['orange yellow'], label='Simulated')\n",
      "\n",
      "plt.xlabel(r'Time [s]')\n",
      "plt.ylabel(r'z Momentum [MeV/c]')\n",
      "plt.legend(loc='upper right')\n",
      "\n",
      "plt.xlim(2.0e-8, 2.8e-8)\n",
      "plt.ylim(0, 40)\n",
      "\n",
      "# plt.savefig('/Users/josh/Desktop/p_vs_time_inset.png', dpi=400)"
     ],
     "language": "python",
     "metadata": {},
     "outputs": []
    },
    {
     "cell_type": "code",
     "collapsed": false,
     "input": [
      "plt.plot(ens, fvals[:, 0, 5].T)\n",
      "plt.plot(ens, pz_mean, '--')"
     ],
     "language": "python",
     "metadata": {},
     "outputs": []
    },
    {
     "cell_type": "code",
     "collapsed": false,
     "input": [
      "plt.plot(sim_res['time'], sim_res['de'] * 1e3)\n",
      "plt.xlabel('Time [s]')\n",
      "plt.ylabel('$\\Delta E$ [keV]')\n"
     ],
     "language": "python",
     "metadata": {},
     "outputs": []
    },
    {
     "cell_type": "code",
     "collapsed": false,
     "input": [
      "fig, ax = plt.subplots(2, 1, sharex=True)\n",
      "\n",
      "ax[0].plot(sim_res['de'] * 1e3)\n",
      "ax[0].set_ylabel('$|\\Delta E|$ [keV]')\n",
      "\n",
      "ax[1].plot(sim_res['en'] * 1e3)\n",
      "ax[1].set_ylabel('$E$ [keV]')\n",
      "ax[1].set_xlabel('Iteration')"
     ],
     "language": "python",
     "metadata": {},
     "outputs": []
    },
    {
     "cell_type": "code",
     "collapsed": false,
     "input": [],
     "language": "python",
     "metadata": {},
     "outputs": []
    }
   ],
   "metadata": {}
  }
 ]
}