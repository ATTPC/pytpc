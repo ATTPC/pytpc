{
 "metadata": {
  "name": "",
  "signature": ""
 },
 "nbformat": 3,
 "nbformat_minor": 0,
 "worksheets": [
  {
   "cells": [
    {
     "cell_type": "code",
     "collapsed": false,
     "input": [
      "%matplotlib inline\n",
      "import numpy\n",
      "import numpy.matlib as mat\n",
      "import scipy.constants\n",
      "import matplotlib.pyplot as plt\n",
      "from mpl_toolkits.mplot3d import Axes3D\n",
      "from numpy import sin, cos, tan, sqrt, log\n",
      "from scipy.stats import threshold\n",
      "from scipy.signal import savgol_filter\n",
      "import math\n",
      "\n",
      "from pytpc.constants import *\n",
      "import pytpc.tracking as tracking\n",
      "import pytpc.simulation as sim\n",
      "\n",
      "import copy"
     ],
     "language": "python",
     "metadata": {},
     "outputs": []
    },
    {
     "cell_type": "heading",
     "level": 2,
     "metadata": {},
     "source": [
      "Actual values"
     ]
    },
    {
     "cell_type": "code",
     "collapsed": false,
     "input": [
      "pt = sim.Particle(mass_num=4, charge_num=2, energy_per_particle=0.5, azimuth=0, polar=pi/4)\n",
      "efield = numpy.array([0, 0, 15e3])\n",
      "bfield = numpy.array([0, 0, -1])\n",
      "g = sim.Gas(4, 2, 41.8, 100.)"
     ],
     "language": "python",
     "metadata": {},
     "outputs": []
    },
    {
     "cell_type": "code",
     "collapsed": false,
     "input": [
      "pos, mom, time, en, azi, pol = map(numpy.array, sim.track(pt, g, efield, bfield))"
     ],
     "language": "python",
     "metadata": {},
     "outputs": []
    },
    {
     "cell_type": "code",
     "collapsed": false,
     "input": [
      "fig = plt.figure()\n",
      "ax = fig.add_subplot(111, projection='3d')\n",
      "ax.plot(pos[:,0], pos[:,1], pos[:,2])"
     ],
     "language": "python",
     "metadata": {},
     "outputs": []
    },
    {
     "cell_type": "code",
     "collapsed": false,
     "input": [
      "plt.plot(en)"
     ],
     "language": "python",
     "metadata": {},
     "outputs": []
    },
    {
     "cell_type": "code",
     "collapsed": false,
     "input": [
      "xyfig = plt.figure()\n",
      "xyax = xyfig.add_subplot(111)\n",
      "xyax.plot(pos[:,0], pos[:,1])\n",
      "xyax.set_aspect('equal')"
     ],
     "language": "python",
     "metadata": {},
     "outputs": []
    },
    {
     "cell_type": "heading",
     "level": 1,
     "metadata": {},
     "source": [
      "Finding the State Vectors"
     ]
    },
    {
     "cell_type": "code",
     "collapsed": false,
     "input": [
      "#sv = numpy.vstack((pos.T, en, azi, pol)).T\n",
      "sv = numpy.hstack((pos, mom))"
     ],
     "language": "python",
     "metadata": {},
     "outputs": []
    },
    {
     "cell_type": "code",
     "collapsed": false,
     "input": [
      "def chisq(meas, exp, var):\n",
      "    denom = meas.shape[0] - 1\n",
      "    if len(meas.shape) == 2:\n",
      "        denom -= meas.shape[1]\n",
      "    return ((meas - exp)**2 / var).sum(axis=0) / denom\n",
      "\n",
      "def state_vector_plots(sv, sv2=None, data=None, covar=None):\n",
      "    fig, ax = plt.subplots(3, 2)\n",
      "    fig.set_figheight(15)\n",
      "    fig.set_figwidth(15)\n",
      "    \n",
      "    ax[0,0].plot(sv[:,0], label='Actual', zorder=2)\n",
      "    ax[1,0].plot(sv[:,1], label='Actual', zorder=2)\n",
      "    ax[2,0].plot(sv[:,2], label='Actual', zorder=2)\n",
      "    ax[0,1].plot(sv[:,3], label='Actual', zorder=2)\n",
      "    ax[1,1].plot(sv[:,4], label='Actual', zorder=2)\n",
      "    ax[2,1].plot(sv[:,5], label='Actual', zorder=2)\n",
      "    \n",
      "    if sv2 is not None:\n",
      "        ax[0,0].plot(sv2[:,0], label='Calculated', zorder=3)\n",
      "        ax[1,0].plot(sv2[:,1], label='Calculated', zorder=3)\n",
      "        ax[2,0].plot(sv2[:,2], label='Calculated', zorder=3)\n",
      "        ax[0,1].plot(sv2[:,3], label='Calculated', zorder=3)\n",
      "        ax[1,1].plot(sv2[:,4], label='Calculated', zorder=3)\n",
      "        ax[2,1].plot(sv2[:,5], label='Calculated', zorder=3)\n",
      "        \n",
      "    if data is not None:\n",
      "        ax[0,0].plot(data[:,0], '+', label='Data', zorder=1, alpha=0.5)\n",
      "        ax[1,0].plot(data[:,1], '+', label='Data', zorder=1, alpha=0.5)\n",
      "        ax[2,0].plot(data[:,2], '+', label='Data', zorder=1, alpha=0.5)\n",
      "#         ax[0,1].plot(data[:,3], '+', label='Data', zorder=1)\n",
      "#         ax[1,1].plot(data[:,4], '+', label='Data', zorder=1)\n",
      "#         ax[2,1].plot(data[:,5], '+', label='Data', zorder=1)\n",
      "\n",
      "    if covar is not None:\n",
      "        ubd = sv2 + numpy.sqrt(numpy.diagonal(covar, axis1=1, axis2=2))\n",
      "        lbd = sv2 - numpy.sqrt(numpy.diagonal(covar, axis1=1, axis2=2))\n",
      "        xs = range(len(ubd))\n",
      "        ax[0,0].fill_between(xs, ubd[:,0], lbd[:,0], color='#8D0FD6', alpha=0.3, zorder=0)\n",
      "        ax[1,0].fill_between(xs, ubd[:,1], lbd[:,1], color='#8D0FD6', alpha=0.3, zorder=0)\n",
      "        ax[2,0].fill_between(xs, ubd[:,2], lbd[:,2], color='#8D0FD6', alpha=0.3, zorder=0)\n",
      "        ax[0,1].fill_between(xs, ubd[:,3], lbd[:,3], color='#8D0FD6', alpha=0.3, zorder=0)\n",
      "        ax[1,1].fill_between(xs, ubd[:,4], lbd[:,4], color='#8D0FD6', alpha=0.3, zorder=0)\n",
      "        ax[2,1].fill_between(xs, ubd[:,5], lbd[:,5], color='#8D0FD6', alpha=0.3, zorder=0)\n",
      "    \n",
      "    ax[0,0].set_ylabel('x [m]')\n",
      "    ax[0,0].legend(loc='best')\n",
      "    \n",
      "    ax[1,0].set_ylabel('y [m]')\n",
      "    ax[1,0].legend(loc='best')\n",
      "    \n",
      "    ax[2,0].set_ylabel('z [m]')\n",
      "    ax[2,0].legend(loc='best')\n",
      "    \n",
      "    ax[0,1].set_ylabel('px [MeV/c]')\n",
      "    ax[0,1].legend(loc='best')\n",
      "    \n",
      "    ax[1,1].set_ylabel('py [MeV/c]')\n",
      "    ax[1,1].legend(loc='best')\n",
      "    \n",
      "    ax[2,1].set_ylabel('pz [MeV/c]')\n",
      "    ax[2,1].legend(loc='best')"
     ],
     "language": "python",
     "metadata": {},
     "outputs": []
    },
    {
     "cell_type": "code",
     "collapsed": false,
     "input": [
      "state_vector_plots(sv)"
     ],
     "language": "python",
     "metadata": {},
     "outputs": []
    },
    {
     "cell_type": "heading",
     "level": 1,
     "metadata": {},
     "source": [
      "Extended Kalman filter"
     ]
    },
    {
     "cell_type": "code",
     "collapsed": false,
     "input": [
      "test = numpy.zeros((sv.shape[0],6))\n",
      "test[0] = sv[0]\n",
      "test_tracker = tracking.Tracker(sim.Particle(4, 2), g, efield, bfield, sv[0])\n",
      "for x in range(1, sv.shape[0]):\n",
      "    test[x] = test_tracker.update_state_vector(test[x-1], 0.1)\n",
      "state_vector_plots(sv, test)"
     ],
     "language": "python",
     "metadata": {},
     "outputs": []
    },
    {
     "cell_type": "code",
     "collapsed": false,
     "input": [
      "meas_pos = pos + numpy.random.normal(0, 1e-2, pos.shape)"
     ],
     "language": "python",
     "metadata": {},
     "outputs": []
    },
    {
     "cell_type": "code",
     "collapsed": false,
     "input": [
      "tr = tracking.Tracker(pt, g, efield, bfield, sv[0])\n",
      "tr.kfilter._dt = 1e-11\n",
      "tr.kfilter.Q = numpy.diag((1e-4, 1e-4, 1e-4, 1e0, 1e0, 1e0))**2  # Process\n",
      "tr.kfilter.R = numpy.eye(tr.kfilter._dim_z) * 1e-2  # Measurement\n",
      "#tr.kfilter.x = numpy.array([0, 0, 0, 20, 20, 10])\n",
      "tr.kfilter.P = numpy.eye(tr.kfilter._dim_x) * 100\n",
      "res, covar = tr.track(meas_pos)\n",
      "#tr.kfilter.fx = tr.prev_state_vector\n",
      "#sm_res, sm_covar, sm_gain = tr.kfilter.rts_smoother(res, covar)"
     ],
     "language": "python",
     "metadata": {},
     "outputs": []
    },
    {
     "cell_type": "code",
     "collapsed": false,
     "input": [
      "state_vector_plots(sv, res, data=meas_pos, covar=covar)"
     ],
     "language": "python",
     "metadata": {},
     "outputs": []
    },
    {
     "cell_type": "code",
     "collapsed": false,
     "input": [
      "def energy_jac(mom, en, m):\n",
      "    denom = en + m\n",
      "    return mom / denom[:, numpy.newaxis]\n",
      "\n",
      "def find_energy_and_var(mom, mom_covar, mass):\n",
      "    en = numpy.sqrt(numpy.linalg.norm(mom, axis=1)**2 + mass**2) - mass\n",
      "    jac = energy_jac(mom, en, mass)\n",
      "    var = []\n",
      "    for e, j in zip(en, jac):\n",
      "        v = numpy.dot(j, numpy.dot(e, j.reshape((3,1))))[0]\n",
      "        var.append(v)\n",
      "    return en, numpy.array(var)"
     ],
     "language": "python",
     "metadata": {},
     "outputs": []
    },
    {
     "cell_type": "code",
     "collapsed": false,
     "input": [
      "exp_en, exp_en_var = find_energy_and_var(res[:,3:6], covar[:,3:6,3:6], pt.mass)\n",
      "exp_en_stdev = numpy.sqrt(exp_en_var)\n",
      "plt.fill_between(numpy.arange(len(exp_en)), exp_en - exp_en_stdev, exp_en + exp_en_stdev, color='#8D0FD6', alpha=0.3)\n",
      "plt.plot(en * 4)\n",
      "plt.plot(exp_en)\n",
      "plt.legend(('Actual', 'Calculated'))\n",
      "plt.figtext(0.15, 0.2, r'$\\chi^2 = {:.3}$'.format(chisq(en*4, exp_en, numpy.var(en))), backgroundcolor='white', size=14)"
     ],
     "language": "python",
     "metadata": {},
     "outputs": []
    },
    {
     "cell_type": "code",
     "collapsed": false,
     "input": [
      "chisq(meas_pos, res[:, 0:3], 1e-2**2)"
     ],
     "language": "python",
     "metadata": {},
     "outputs": []
    },
    {
     "cell_type": "code",
     "collapsed": false,
     "input": [
      "fig = plt.figure()\n",
      "ax = fig.add_subplot(111, projection='3d', axisbg='w')\n",
      "ax.plot(meas_pos[:,0], meas_pos[:,1], meas_pos[:,2], '.', alpha=0.5)\n",
      "ax.plot(pos[:,0], pos[:,1], pos[:,2])\n",
      "ax.plot(res[:,0], res[:,1], res[:,2], '-')"
     ],
     "language": "python",
     "metadata": {},
     "outputs": []
    },
    {
     "cell_type": "code",
     "collapsed": false,
     "input": [],
     "language": "python",
     "metadata": {},
     "outputs": []
    }
   ],
   "metadata": {}
  }
 ]
}