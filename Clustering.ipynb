{
 "metadata": {
  "name": "",
  "signature": ""
 },
 "nbformat": 3,
 "nbformat_minor": 0,
 "worksheets": [
  {
   "cells": [
    {
     "cell_type": "code",
     "collapsed": false,
     "input": [
      "%matplotlib inline\n",
      "from sklearn import cluster, neighbors\n",
      "import evtdata\n",
      "import tpcplot\n",
      "import numpy\n",
      "import matplotlib.pyplot as plt\n",
      "from mpl_toolkits import mplot3d\n",
      "from tracking import find_tracks"
     ],
     "language": "python",
     "metadata": {},
     "outputs": []
    },
    {
     "cell_type": "code",
     "collapsed": false,
     "input": [
      "def find_colors(labels):\n",
      "    colors = 'rgbcmk' * 10\n",
      "    dbscols = map(lambda x: colors[int(x)] if x >= 0 else 'k', labels)\n",
      "    return list(dbscols)"
     ],
     "language": "python",
     "metadata": {},
     "outputs": []
    },
    {
     "cell_type": "code",
     "collapsed": false,
     "input": [
      "ef = evtdata.EventFile('/Users/josh/Documents/Data/Alphas-Dec14/run_0085_ps.evt')"
     ],
     "language": "python",
     "metadata": {},
     "outputs": []
    },
    {
     "cell_type": "code",
     "collapsed": false,
     "input": [
      "evt = ef.read_event_by_number(200)"
     ],
     "language": "python",
     "metadata": {},
     "outputs": []
    },
    {
     "cell_type": "code",
     "collapsed": false,
     "input": [
      "trs = find_tracks(evt.xyzs(), eps=20, min_samples=20)\n",
      "print('Found {} tracks.'.format(len(trs)))"
     ],
     "language": "python",
     "metadata": {},
     "outputs": []
    },
    {
     "cell_type": "code",
     "collapsed": false,
     "input": [
      "fig = plt.figure()\n",
      "fig.set_figheight(10)\n",
      "fig.set_figwidth(15)\n",
      "ax = fig.add_subplot(111, projection='3d')\n",
      "colors = 'rgbcmyk' * 10\n",
      "for i, t in enumerate(trs):\n",
      "    ax.scatter(t[:,0], t[:,1], t[:,2], marker='.', edgecolor='none', s=5, c=colors[i], depthshade=False)"
     ],
     "language": "python",
     "metadata": {},
     "outputs": []
    },
    {
     "cell_type": "code",
     "collapsed": false,
     "input": [
      "unique_labels = numpy.unique(dbs.labels_)"
     ],
     "language": "python",
     "metadata": {},
     "outputs": []
    },
    {
     "cell_type": "code",
     "collapsed": false,
     "input": [
      "tracks = []\n",
      "for tr in (numpy.where(dbs.labels_ == n)[0] for n in unique_labels if n != -1):\n",
      "    tracks.append(dbsres[tr])"
     ],
     "language": "python",
     "metadata": {},
     "outputs": []
    },
    {
     "cell_type": "code",
     "collapsed": false,
     "input": [
      "fig = plt.figure()\n",
      "fig.set_figheight(10)\n",
      "fig.set_figwidth(15)\n",
      "ax = fig.add_subplot(111, projection='3d')\n",
      "ax.scatter(tracks[0][:,0], tracks[0][:,1], tracks[0][:,2], marker='.', edgecolor='none', s=5, depthshade=False)"
     ],
     "language": "python",
     "metadata": {},
     "outputs": []
    },
    {
     "cell_type": "code",
     "collapsed": false,
     "input": [
      "dbs.labels_ == 1"
     ],
     "language": "python",
     "metadata": {},
     "outputs": []
    },
    {
     "cell_type": "code",
     "collapsed": false,
     "input": [],
     "language": "python",
     "metadata": {},
     "outputs": []
    }
   ],
   "metadata": {}
  }
 ]
}